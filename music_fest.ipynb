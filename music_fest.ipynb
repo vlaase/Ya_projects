{
 "cells": [
  {
   "cell_type": "markdown",
   "metadata": {},
   "source": [
    "Яндекс.Музыка проводит офлайн-фестиваль самых популярных исполнителей жанра техно. Чтобы привлечь пользователей на мероприятие, маркетолог Иван должен разослать email пользователям Музыки. Отправка одного письма стоит 10 рублей, а цена билета составляет 700 рублей. Как бы вы посоветовали Ивану сформировать выборку для отправки, учитывая логи прослушиваний пользователей Яндекс.Музыки?\n",
    "\n"
   ]
  },
  {
   "cell_type": "markdown",
   "metadata": {},
   "source": [
    "## Загрузка и обзор данных"
   ]
  },
  {
   "cell_type": "code",
   "execution_count": 55,
   "metadata": {},
   "outputs": [],
   "source": [
    "import pandas as pd\n",
    "import numpy as np\n",
    "import matplotlib.pyplot as plt"
   ]
  },
  {
   "cell_type": "code",
   "execution_count": 3,
   "metadata": {},
   "outputs": [],
   "source": [
    "data = pd.read_csv('music_data.csv')"
   ]
  },
  {
   "cell_type": "code",
   "execution_count": 4,
   "metadata": {},
   "outputs": [
    {
     "data": {
      "text/html": [
       "<div>\n",
       "<style scoped>\n",
       "    .dataframe tbody tr th:only-of-type {\n",
       "        vertical-align: middle;\n",
       "    }\n",
       "\n",
       "    .dataframe tbody tr th {\n",
       "        vertical-align: top;\n",
       "    }\n",
       "\n",
       "    .dataframe thead th {\n",
       "        text-align: right;\n",
       "    }\n",
       "</style>\n",
       "<table border=\"1\" class=\"dataframe\">\n",
       "  <thead>\n",
       "    <tr style=\"text-align: right;\">\n",
       "      <th></th>\n",
       "      <th>Unnamed: 0</th>\n",
       "      <th>audition_id</th>\n",
       "      <th>track_duration</th>\n",
       "      <th>track_genre</th>\n",
       "      <th>track_id</th>\n",
       "      <th>user_id</th>\n",
       "      <th>utc_audition_end_dttm</th>\n",
       "      <th>utc_audition_start_dttm</th>\n",
       "    </tr>\n",
       "  </thead>\n",
       "  <tbody>\n",
       "    <tr>\n",
       "      <th>0</th>\n",
       "      <td>0</td>\n",
       "      <td>3fecd60bf5564de7bb0064335f482b4d</td>\n",
       "      <td>336.629082</td>\n",
       "      <td>RAP</td>\n",
       "      <td>efd614e5-239a-418e-b39c-181b43719b62</td>\n",
       "      <td>a72d73ea124840698aa8</td>\n",
       "      <td>2021-02-28T12:32:10.776000Z</td>\n",
       "      <td>2021-02-28T12:31:01.865000Z</td>\n",
       "    </tr>\n",
       "    <tr>\n",
       "      <th>1</th>\n",
       "      <td>1</td>\n",
       "      <td>8ae1703df8354ee6b8d39ce2ceae4508</td>\n",
       "      <td>428.797846</td>\n",
       "      <td>VOCAL</td>\n",
       "      <td>d4697e6e-698a-41e8-8e15-ec890c94751e</td>\n",
       "      <td>066cc9287de340f281ba</td>\n",
       "      <td>2021-01-19T12:13:43.369000Z</td>\n",
       "      <td>2021-01-19T12:12:48.185000Z</td>\n",
       "    </tr>\n",
       "    <tr>\n",
       "      <th>2</th>\n",
       "      <td>2</td>\n",
       "      <td>44383125d98a4d939e7f294602674fc6</td>\n",
       "      <td>463.467143</td>\n",
       "      <td>METAL</td>\n",
       "      <td>e006afab-c832-4d07-8cd0-7d4a9c2aabe8</td>\n",
       "      <td>95ed23b52b104f66b4b1</td>\n",
       "      <td>2021-02-27T19:53:57.143000Z</td>\n",
       "      <td>2021-02-27T19:52:42.470000Z</td>\n",
       "    </tr>\n",
       "    <tr>\n",
       "      <th>3</th>\n",
       "      <td>3</td>\n",
       "      <td>a90b74992c9f4046a68935cb83ced7ee</td>\n",
       "      <td>323.746259</td>\n",
       "      <td>HARDROCK</td>\n",
       "      <td>c2ea845c-fcba-480a-b41a-d58bf9493375</td>\n",
       "      <td>b0a6dcec6f604b50b37e</td>\n",
       "      <td>2021-02-24T01:51:44.526000Z</td>\n",
       "      <td>2021-02-24T01:46:25.549000Z</td>\n",
       "    </tr>\n",
       "    <tr>\n",
       "      <th>4</th>\n",
       "      <td>4</td>\n",
       "      <td>0d98a88fba0a4dc3bb0444089a0ce16b</td>\n",
       "      <td>316.888403</td>\n",
       "      <td>POP</td>\n",
       "      <td>ad68738c-2a38-4e0f-910a-71bb0aa0a0c0</td>\n",
       "      <td>6788b1c78a724de488c9</td>\n",
       "      <td>2020-12-24T05:04:32.855000Z</td>\n",
       "      <td>2020-12-24T05:00:09.645000Z</td>\n",
       "    </tr>\n",
       "  </tbody>\n",
       "</table>\n",
       "</div>"
      ],
      "text/plain": [
       "   Unnamed: 0                       audition_id  track_duration track_genre  \\\n",
       "0           0  3fecd60bf5564de7bb0064335f482b4d      336.629082         RAP   \n",
       "1           1  8ae1703df8354ee6b8d39ce2ceae4508      428.797846       VOCAL   \n",
       "2           2  44383125d98a4d939e7f294602674fc6      463.467143       METAL   \n",
       "3           3  a90b74992c9f4046a68935cb83ced7ee      323.746259    HARDROCK   \n",
       "4           4  0d98a88fba0a4dc3bb0444089a0ce16b      316.888403         POP   \n",
       "\n",
       "                               track_id               user_id  \\\n",
       "0  efd614e5-239a-418e-b39c-181b43719b62  a72d73ea124840698aa8   \n",
       "1  d4697e6e-698a-41e8-8e15-ec890c94751e  066cc9287de340f281ba   \n",
       "2  e006afab-c832-4d07-8cd0-7d4a9c2aabe8  95ed23b52b104f66b4b1   \n",
       "3  c2ea845c-fcba-480a-b41a-d58bf9493375  b0a6dcec6f604b50b37e   \n",
       "4  ad68738c-2a38-4e0f-910a-71bb0aa0a0c0  6788b1c78a724de488c9   \n",
       "\n",
       "         utc_audition_end_dttm      utc_audition_start_dttm  \n",
       "0  2021-02-28T12:32:10.776000Z  2021-02-28T12:31:01.865000Z  \n",
       "1  2021-01-19T12:13:43.369000Z  2021-01-19T12:12:48.185000Z  \n",
       "2  2021-02-27T19:53:57.143000Z  2021-02-27T19:52:42.470000Z  \n",
       "3  2021-02-24T01:51:44.526000Z  2021-02-24T01:46:25.549000Z  \n",
       "4  2020-12-24T05:04:32.855000Z  2020-12-24T05:00:09.645000Z  "
      ]
     },
     "execution_count": 4,
     "metadata": {},
     "output_type": "execute_result"
    }
   ],
   "source": [
    "data.head()"
   ]
  },
  {
   "cell_type": "code",
   "execution_count": 6,
   "metadata": {},
   "outputs": [
    {
     "name": "stdout",
     "output_type": "stream",
     "text": [
      "<class 'pandas.core.frame.DataFrame'>\n",
      "RangeIndex: 842397 entries, 0 to 842396\n",
      "Data columns (total 8 columns):\n",
      " #   Column                   Non-Null Count   Dtype  \n",
      "---  ------                   --------------   -----  \n",
      " 0   Unnamed: 0               842397 non-null  int64  \n",
      " 1   audition_id              842397 non-null  object \n",
      " 2   track_duration           842397 non-null  float64\n",
      " 3   track_genre              842397 non-null  object \n",
      " 4   track_id                 842397 non-null  object \n",
      " 5   user_id                  842397 non-null  object \n",
      " 6   utc_audition_end_dttm    842397 non-null  object \n",
      " 7   utc_audition_start_dttm  842397 non-null  object \n",
      "dtypes: float64(1), int64(1), object(6)\n",
      "memory usage: 51.4+ MB\n"
     ]
    }
   ],
   "source": [
    "data.info()"
   ]
  },
  {
   "cell_type": "markdown",
   "metadata": {},
   "source": [
    "У нас имеется информация о 842397 прослушиваний разными пользователями.\n",
    "Обозначения в таблице:\n",
    "* audition_id – ID прослушивания в логе\n",
    "* utc_audition_start_dttm – дата начала прослушивания в формате YYYY-MM-DD hh:mm:ss\n",
    "* utc_audition_end_dttm – дата окончания прослушивания в формате YYYY-MM-DD hh:mm:ss\n",
    "* user_id – ID пользователя Яндекс.Музыки\n",
    "* track_id – ID трека Яндекс.Музыки\n",
    "* track_duration – продолжительность трека в секундах\n",
    "* track_genre – жанр трека\n",
    "\n",
    "Переведем время и дату в формат datetime"
   ]
  },
  {
   "cell_type": "code",
   "execution_count": 8,
   "metadata": {},
   "outputs": [],
   "source": [
    "data['utc_audition_end_dttm'] = pd.to_datetime(data['utc_audition_end_dttm'])\n",
    "data['utc_audition_start_dttm'] = pd.to_datetime(data['utc_audition_start_dttm'])"
   ]
  },
  {
   "cell_type": "code",
   "execution_count": 10,
   "metadata": {},
   "outputs": [
    {
     "data": {
      "text/html": [
       "<div>\n",
       "<style scoped>\n",
       "    .dataframe tbody tr th:only-of-type {\n",
       "        vertical-align: middle;\n",
       "    }\n",
       "\n",
       "    .dataframe tbody tr th {\n",
       "        vertical-align: top;\n",
       "    }\n",
       "\n",
       "    .dataframe thead th {\n",
       "        text-align: right;\n",
       "    }\n",
       "</style>\n",
       "<table border=\"1\" class=\"dataframe\">\n",
       "  <thead>\n",
       "    <tr style=\"text-align: right;\">\n",
       "      <th></th>\n",
       "      <th>Unnamed: 0</th>\n",
       "      <th>audition_id</th>\n",
       "      <th>track_duration</th>\n",
       "      <th>track_genre</th>\n",
       "      <th>track_id</th>\n",
       "      <th>user_id</th>\n",
       "      <th>utc_audition_end_dttm</th>\n",
       "      <th>utc_audition_start_dttm</th>\n",
       "    </tr>\n",
       "  </thead>\n",
       "  <tbody>\n",
       "    <tr>\n",
       "      <th>0</th>\n",
       "      <td>0</td>\n",
       "      <td>3fecd60bf5564de7bb0064335f482b4d</td>\n",
       "      <td>336.629082</td>\n",
       "      <td>RAP</td>\n",
       "      <td>efd614e5-239a-418e-b39c-181b43719b62</td>\n",
       "      <td>a72d73ea124840698aa8</td>\n",
       "      <td>2021-02-28 12:32:10.776000+00:00</td>\n",
       "      <td>2021-02-28 12:31:01.865000+00:00</td>\n",
       "    </tr>\n",
       "    <tr>\n",
       "      <th>1</th>\n",
       "      <td>1</td>\n",
       "      <td>8ae1703df8354ee6b8d39ce2ceae4508</td>\n",
       "      <td>428.797846</td>\n",
       "      <td>VOCAL</td>\n",
       "      <td>d4697e6e-698a-41e8-8e15-ec890c94751e</td>\n",
       "      <td>066cc9287de340f281ba</td>\n",
       "      <td>2021-01-19 12:13:43.369000+00:00</td>\n",
       "      <td>2021-01-19 12:12:48.185000+00:00</td>\n",
       "    </tr>\n",
       "    <tr>\n",
       "      <th>2</th>\n",
       "      <td>2</td>\n",
       "      <td>44383125d98a4d939e7f294602674fc6</td>\n",
       "      <td>463.467143</td>\n",
       "      <td>METAL</td>\n",
       "      <td>e006afab-c832-4d07-8cd0-7d4a9c2aabe8</td>\n",
       "      <td>95ed23b52b104f66b4b1</td>\n",
       "      <td>2021-02-27 19:53:57.143000+00:00</td>\n",
       "      <td>2021-02-27 19:52:42.470000+00:00</td>\n",
       "    </tr>\n",
       "    <tr>\n",
       "      <th>3</th>\n",
       "      <td>3</td>\n",
       "      <td>a90b74992c9f4046a68935cb83ced7ee</td>\n",
       "      <td>323.746259</td>\n",
       "      <td>HARDROCK</td>\n",
       "      <td>c2ea845c-fcba-480a-b41a-d58bf9493375</td>\n",
       "      <td>b0a6dcec6f604b50b37e</td>\n",
       "      <td>2021-02-24 01:51:44.526000+00:00</td>\n",
       "      <td>2021-02-24 01:46:25.549000+00:00</td>\n",
       "    </tr>\n",
       "    <tr>\n",
       "      <th>4</th>\n",
       "      <td>4</td>\n",
       "      <td>0d98a88fba0a4dc3bb0444089a0ce16b</td>\n",
       "      <td>316.888403</td>\n",
       "      <td>POP</td>\n",
       "      <td>ad68738c-2a38-4e0f-910a-71bb0aa0a0c0</td>\n",
       "      <td>6788b1c78a724de488c9</td>\n",
       "      <td>2020-12-24 05:04:32.855000+00:00</td>\n",
       "      <td>2020-12-24 05:00:09.645000+00:00</td>\n",
       "    </tr>\n",
       "  </tbody>\n",
       "</table>\n",
       "</div>"
      ],
      "text/plain": [
       "   Unnamed: 0                       audition_id  track_duration track_genre  \\\n",
       "0           0  3fecd60bf5564de7bb0064335f482b4d      336.629082         RAP   \n",
       "1           1  8ae1703df8354ee6b8d39ce2ceae4508      428.797846       VOCAL   \n",
       "2           2  44383125d98a4d939e7f294602674fc6      463.467143       METAL   \n",
       "3           3  a90b74992c9f4046a68935cb83ced7ee      323.746259    HARDROCK   \n",
       "4           4  0d98a88fba0a4dc3bb0444089a0ce16b      316.888403         POP   \n",
       "\n",
       "                               track_id               user_id  \\\n",
       "0  efd614e5-239a-418e-b39c-181b43719b62  a72d73ea124840698aa8   \n",
       "1  d4697e6e-698a-41e8-8e15-ec890c94751e  066cc9287de340f281ba   \n",
       "2  e006afab-c832-4d07-8cd0-7d4a9c2aabe8  95ed23b52b104f66b4b1   \n",
       "3  c2ea845c-fcba-480a-b41a-d58bf9493375  b0a6dcec6f604b50b37e   \n",
       "4  ad68738c-2a38-4e0f-910a-71bb0aa0a0c0  6788b1c78a724de488c9   \n",
       "\n",
       "             utc_audition_end_dttm          utc_audition_start_dttm  \n",
       "0 2021-02-28 12:32:10.776000+00:00 2021-02-28 12:31:01.865000+00:00  \n",
       "1 2021-01-19 12:13:43.369000+00:00 2021-01-19 12:12:48.185000+00:00  \n",
       "2 2021-02-27 19:53:57.143000+00:00 2021-02-27 19:52:42.470000+00:00  \n",
       "3 2021-02-24 01:51:44.526000+00:00 2021-02-24 01:46:25.549000+00:00  \n",
       "4 2020-12-24 05:04:32.855000+00:00 2020-12-24 05:00:09.645000+00:00  "
      ]
     },
     "execution_count": 10,
     "metadata": {},
     "output_type": "execute_result"
    }
   ],
   "source": [
    "data.head()"
   ]
  },
  {
   "cell_type": "markdown",
   "metadata": {},
   "source": [
    "## Формирование выборки"
   ]
  },
  {
   "cell_type": "markdown",
   "metadata": {},
   "source": [
    "Наша основная аудитория, пользователи, которые слушали жанр техно. Посмотрим, сколько у нас таких пользователей"
   ]
  },
  {
   "cell_type": "code",
   "execution_count": 27,
   "metadata": {},
   "outputs": [
    {
     "name": "stdout",
     "output_type": "stream",
     "text": [
      "Все пользвоатели 1727\n",
      "Слушали техно 1727\n"
     ]
    }
   ],
   "source": [
    "all_users = data['user_id'].nunique()\n",
    "tecno_users = data.loc[data['track_genre'] == 'TECHNO', 'user_id'].nunique()\n",
    "print(f'Все пользвоатели {all_users}')\n",
    "print(f'Слушали техно {tecno_users}')"
   ]
  },
  {
   "cell_type": "markdown",
   "metadata": {},
   "source": [
    "У нас у все пользователей был жанр техно, кажется, что чтобы сформировать выборку, нам нужно понять, сколько по времени пользователи слушают техно, от общего числа прослушивний."
   ]
  },
  {
   "cell_type": "code",
   "execution_count": 38,
   "metadata": {},
   "outputs": [
    {
     "data": {
      "text/html": [
       "<div>\n",
       "<style scoped>\n",
       "    .dataframe tbody tr th:only-of-type {\n",
       "        vertical-align: middle;\n",
       "    }\n",
       "\n",
       "    .dataframe tbody tr th {\n",
       "        vertical-align: top;\n",
       "    }\n",
       "\n",
       "    .dataframe thead th {\n",
       "        text-align: right;\n",
       "    }\n",
       "</style>\n",
       "<table border=\"1\" class=\"dataframe\">\n",
       "  <thead>\n",
       "    <tr style=\"text-align: right;\">\n",
       "      <th></th>\n",
       "      <th>Unnamed: 0</th>\n",
       "      <th>audition_id</th>\n",
       "      <th>track_duration</th>\n",
       "      <th>track_genre</th>\n",
       "      <th>track_id</th>\n",
       "      <th>user_id</th>\n",
       "      <th>utc_audition_end_dttm</th>\n",
       "      <th>utc_audition_start_dttm</th>\n",
       "      <th>audition_duration</th>\n",
       "    </tr>\n",
       "  </thead>\n",
       "  <tbody>\n",
       "    <tr>\n",
       "      <th>0</th>\n",
       "      <td>0</td>\n",
       "      <td>3fecd60bf5564de7bb0064335f482b4d</td>\n",
       "      <td>336.629082</td>\n",
       "      <td>RAP</td>\n",
       "      <td>efd614e5-239a-418e-b39c-181b43719b62</td>\n",
       "      <td>a72d73ea124840698aa8</td>\n",
       "      <td>2021-02-28 12:32:10.776000+00:00</td>\n",
       "      <td>2021-02-28 12:31:01.865000+00:00</td>\n",
       "      <td>68.911</td>\n",
       "    </tr>\n",
       "    <tr>\n",
       "      <th>1</th>\n",
       "      <td>1</td>\n",
       "      <td>8ae1703df8354ee6b8d39ce2ceae4508</td>\n",
       "      <td>428.797846</td>\n",
       "      <td>VOCAL</td>\n",
       "      <td>d4697e6e-698a-41e8-8e15-ec890c94751e</td>\n",
       "      <td>066cc9287de340f281ba</td>\n",
       "      <td>2021-01-19 12:13:43.369000+00:00</td>\n",
       "      <td>2021-01-19 12:12:48.185000+00:00</td>\n",
       "      <td>55.184</td>\n",
       "    </tr>\n",
       "    <tr>\n",
       "      <th>2</th>\n",
       "      <td>2</td>\n",
       "      <td>44383125d98a4d939e7f294602674fc6</td>\n",
       "      <td>463.467143</td>\n",
       "      <td>METAL</td>\n",
       "      <td>e006afab-c832-4d07-8cd0-7d4a9c2aabe8</td>\n",
       "      <td>95ed23b52b104f66b4b1</td>\n",
       "      <td>2021-02-27 19:53:57.143000+00:00</td>\n",
       "      <td>2021-02-27 19:52:42.470000+00:00</td>\n",
       "      <td>74.673</td>\n",
       "    </tr>\n",
       "    <tr>\n",
       "      <th>3</th>\n",
       "      <td>3</td>\n",
       "      <td>a90b74992c9f4046a68935cb83ced7ee</td>\n",
       "      <td>323.746259</td>\n",
       "      <td>HARDROCK</td>\n",
       "      <td>c2ea845c-fcba-480a-b41a-d58bf9493375</td>\n",
       "      <td>b0a6dcec6f604b50b37e</td>\n",
       "      <td>2021-02-24 01:51:44.526000+00:00</td>\n",
       "      <td>2021-02-24 01:46:25.549000+00:00</td>\n",
       "      <td>318.977</td>\n",
       "    </tr>\n",
       "    <tr>\n",
       "      <th>4</th>\n",
       "      <td>4</td>\n",
       "      <td>0d98a88fba0a4dc3bb0444089a0ce16b</td>\n",
       "      <td>316.888403</td>\n",
       "      <td>POP</td>\n",
       "      <td>ad68738c-2a38-4e0f-910a-71bb0aa0a0c0</td>\n",
       "      <td>6788b1c78a724de488c9</td>\n",
       "      <td>2020-12-24 05:04:32.855000+00:00</td>\n",
       "      <td>2020-12-24 05:00:09.645000+00:00</td>\n",
       "      <td>263.210</td>\n",
       "    </tr>\n",
       "  </tbody>\n",
       "</table>\n",
       "</div>"
      ],
      "text/plain": [
       "   Unnamed: 0                       audition_id  track_duration track_genre  \\\n",
       "0           0  3fecd60bf5564de7bb0064335f482b4d      336.629082         RAP   \n",
       "1           1  8ae1703df8354ee6b8d39ce2ceae4508      428.797846       VOCAL   \n",
       "2           2  44383125d98a4d939e7f294602674fc6      463.467143       METAL   \n",
       "3           3  a90b74992c9f4046a68935cb83ced7ee      323.746259    HARDROCK   \n",
       "4           4  0d98a88fba0a4dc3bb0444089a0ce16b      316.888403         POP   \n",
       "\n",
       "                               track_id               user_id  \\\n",
       "0  efd614e5-239a-418e-b39c-181b43719b62  a72d73ea124840698aa8   \n",
       "1  d4697e6e-698a-41e8-8e15-ec890c94751e  066cc9287de340f281ba   \n",
       "2  e006afab-c832-4d07-8cd0-7d4a9c2aabe8  95ed23b52b104f66b4b1   \n",
       "3  c2ea845c-fcba-480a-b41a-d58bf9493375  b0a6dcec6f604b50b37e   \n",
       "4  ad68738c-2a38-4e0f-910a-71bb0aa0a0c0  6788b1c78a724de488c9   \n",
       "\n",
       "             utc_audition_end_dttm          utc_audition_start_dttm  \\\n",
       "0 2021-02-28 12:32:10.776000+00:00 2021-02-28 12:31:01.865000+00:00   \n",
       "1 2021-01-19 12:13:43.369000+00:00 2021-01-19 12:12:48.185000+00:00   \n",
       "2 2021-02-27 19:53:57.143000+00:00 2021-02-27 19:52:42.470000+00:00   \n",
       "3 2021-02-24 01:51:44.526000+00:00 2021-02-24 01:46:25.549000+00:00   \n",
       "4 2020-12-24 05:04:32.855000+00:00 2020-12-24 05:00:09.645000+00:00   \n",
       "\n",
       "   audition_duration  \n",
       "0             68.911  \n",
       "1             55.184  \n",
       "2             74.673  \n",
       "3            318.977  \n",
       "4            263.210  "
      ]
     },
     "execution_count": 38,
     "metadata": {},
     "output_type": "execute_result"
    }
   ],
   "source": [
    "data['audition_duration'] = (data['utc_audition_end_dttm'] - data['utc_audition_start_dttm']) / np.timedelta64(1, 's')\n",
    "data.head()"
   ]
  },
  {
   "cell_type": "code",
   "execution_count": 48,
   "metadata": {},
   "outputs": [],
   "source": [
    "#Собираем все время прослушиваний для пользвоателей\n",
    "full_duration = data.groupby('user_id', as_index=False).agg({'audition_duration': 'sum'})\n",
    "#Прослушивание техно\n",
    "techno_duration = data.loc[data['track_genre'] == 'TECHNO'].groupby('user_id', as_index=False).agg({'audition_duration': 'sum'})\n",
    "techno_duration.rename(columns={'audition_duration': 'techno_duration'}, inplace = True)"
   ]
  },
  {
   "cell_type": "code",
   "execution_count": 50,
   "metadata": {},
   "outputs": [
    {
     "data": {
      "text/html": [
       "<div>\n",
       "<style scoped>\n",
       "    .dataframe tbody tr th:only-of-type {\n",
       "        vertical-align: middle;\n",
       "    }\n",
       "\n",
       "    .dataframe tbody tr th {\n",
       "        vertical-align: top;\n",
       "    }\n",
       "\n",
       "    .dataframe thead th {\n",
       "        text-align: right;\n",
       "    }\n",
       "</style>\n",
       "<table border=\"1\" class=\"dataframe\">\n",
       "  <thead>\n",
       "    <tr style=\"text-align: right;\">\n",
       "      <th></th>\n",
       "      <th>user_id</th>\n",
       "      <th>techno_duration</th>\n",
       "    </tr>\n",
       "  </thead>\n",
       "  <tbody>\n",
       "    <tr>\n",
       "      <th>0</th>\n",
       "      <td>002123faf66b47b5aafa</td>\n",
       "      <td>6398.402</td>\n",
       "    </tr>\n",
       "    <tr>\n",
       "      <th>1</th>\n",
       "      <td>0041383820e248e487a6</td>\n",
       "      <td>22007.036</td>\n",
       "    </tr>\n",
       "    <tr>\n",
       "      <th>2</th>\n",
       "      <td>008005a451764a63aa3f</td>\n",
       "      <td>12601.688</td>\n",
       "    </tr>\n",
       "    <tr>\n",
       "      <th>3</th>\n",
       "      <td>00c017dc34254d39a390</td>\n",
       "      <td>17279.222</td>\n",
       "    </tr>\n",
       "    <tr>\n",
       "      <th>4</th>\n",
       "      <td>00f628a2f8044ae18d88</td>\n",
       "      <td>11253.504</td>\n",
       "    </tr>\n",
       "    <tr>\n",
       "      <th>...</th>\n",
       "      <td>...</td>\n",
       "      <td>...</td>\n",
       "    </tr>\n",
       "    <tr>\n",
       "      <th>1722</th>\n",
       "      <td>ff77d34a23c04d36a421</td>\n",
       "      <td>9823.367</td>\n",
       "    </tr>\n",
       "    <tr>\n",
       "      <th>1723</th>\n",
       "      <td>ff9b606118d449f1ab15</td>\n",
       "      <td>8166.387</td>\n",
       "    </tr>\n",
       "    <tr>\n",
       "      <th>1724</th>\n",
       "      <td>ffa2421c514844c087f3</td>\n",
       "      <td>8799.071</td>\n",
       "    </tr>\n",
       "    <tr>\n",
       "      <th>1725</th>\n",
       "      <td>ffa5ecacdcfb466d8e91</td>\n",
       "      <td>11693.664</td>\n",
       "    </tr>\n",
       "    <tr>\n",
       "      <th>1726</th>\n",
       "      <td>ffe8e02a691746d18159</td>\n",
       "      <td>8991.163</td>\n",
       "    </tr>\n",
       "  </tbody>\n",
       "</table>\n",
       "<p>1727 rows × 2 columns</p>\n",
       "</div>"
      ],
      "text/plain": [
       "                   user_id  techno_duration\n",
       "0     002123faf66b47b5aafa         6398.402\n",
       "1     0041383820e248e487a6        22007.036\n",
       "2     008005a451764a63aa3f        12601.688\n",
       "3     00c017dc34254d39a390        17279.222\n",
       "4     00f628a2f8044ae18d88        11253.504\n",
       "...                    ...              ...\n",
       "1722  ff77d34a23c04d36a421         9823.367\n",
       "1723  ff9b606118d449f1ab15         8166.387\n",
       "1724  ffa2421c514844c087f3         8799.071\n",
       "1725  ffa5ecacdcfb466d8e91        11693.664\n",
       "1726  ffe8e02a691746d18159         8991.163\n",
       "\n",
       "[1727 rows x 2 columns]"
      ]
     },
     "execution_count": 50,
     "metadata": {},
     "output_type": "execute_result"
    }
   ],
   "source": [
    "techno_duration"
   ]
  },
  {
   "cell_type": "code",
   "execution_count": 53,
   "metadata": {},
   "outputs": [],
   "source": [
    "#Сджойним таблицы и найдем долю прослушиваний техно\n",
    "full_duration = full_duration.merge(techno_duration, on='user_id', how='left')\n",
    "full_duration['ratio'] = full_duration['techno_duration'] / full_duration['audition_duration']"
   ]
  },
  {
   "cell_type": "markdown",
   "metadata": {},
   "source": [
    "Построим распределеление"
   ]
  },
  {
   "cell_type": "code",
   "execution_count": 61,
   "metadata": {},
   "outputs": [
    {
     "data": {
      "image/png": "[encoded data removed]",
      "text/plain": [
       "<Figure size 864x432 with 1 Axes>"
      ]
     },
     "metadata": {
      "needs_background": "light"
     },
     "output_type": "display_data"
    }
   ],
   "source": [
    "plt.figure(figsize=(12, 6))\n",
    "plt.title('Распределение доли прослушивания техно')\n",
    "plt.hist(full_duration['ratio'], bins=50);"
   ]
  },
  {
   "cell_type": "markdown",
   "metadata": {},
   "source": [
    "Распределение получилось похожим на нормальное, только есть аутлайеры. Кажется, что левый хвост мало заинтересован в техно, и врятли прийдет на фестиваль. Кто много слушает, скорее всего и так знают про фест и собираются на него прийти. Значит нужно разослать середине распределения. \n",
    "\n",
    "С каждой стороны уберем по 10% потозователей, которые не нуждаются в рассылке."
   ]
  },
  {
   "cell_type": "code",
   "execution_count": 68,
   "metadata": {},
   "outputs": [],
   "source": [
    "users_fest = full_duration.loc[(full_duration['ratio'] > np.quantile(full_duration['ratio'], 0.1)) & \n",
    "                               (full_duration['ratio'] < np.quantile(full_duration['ratio'], 0.9))]"
   ]
  },
  {
   "cell_type": "code",
   "execution_count": 69,
   "metadata": {},
   "outputs": [
    {
     "data": {
      "text/plain": [
       "0       002123faf66b47b5aafa\n",
       "1       0041383820e248e487a6\n",
       "2       008005a451764a63aa3f\n",
       "3       00c017dc34254d39a390\n",
       "4       00f628a2f8044ae18d88\n",
       "                ...         \n",
       "1721    ff457d71e1c9414e92b5\n",
       "1722    ff77d34a23c04d36a421\n",
       "1723    ff9b606118d449f1ab15\n",
       "1725    ffa5ecacdcfb466d8e91\n",
       "1726    ffe8e02a691746d18159\n",
       "Name: user_id, Length: 1381, dtype: object"
      ]
     },
     "execution_count": 69,
     "metadata": {},
     "output_type": "execute_result"
    }
   ],
   "source": [
    "users_fest['user_id']"
   ]
  },
  {
   "cell_type": "markdown",
   "metadata": {},
   "source": [
    "Этим 1381 пользователелям можно отправить рассылку"
   ]
  },
  {
   "cell_type": "code",
   "execution_count": null,
   "metadata": {},
   "outputs": [],
   "source": []
  }
 ],
 "metadata": {
  "kernelspec": {
   "display_name": "Python 3",
   "language": "python",
   "name": "python3"
  },
  "language_info": {
   "codemirror_mode": {
    "name": "ipython",
    "version": 3
   },
   "file_extension": ".py",
   "mimetype": "text/x-python",
   "name": "python",
   "nbconvert_exporter": "python",
   "pygments_lexer": "ipython3",
   "version": "3.6.8"
  }
 },
 "nbformat": 4,
 "nbformat_minor": 2
}
