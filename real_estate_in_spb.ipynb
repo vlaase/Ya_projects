{
 "cells": [
  {
   "cell_type": "markdown",
   "metadata": {},
   "source": [
    "# Исследование объявлений о продаже квартир\n",
    "\n",
    "В вашем распоряжении данные сервиса Яндекс.Недвижимость — архив объявлений о продаже квартир в Санкт-Петербурге и соседних населённых пунктов за несколько лет. Нужно научиться определять рыночную стоимость объектов недвижимости. Ваша задача — установить параметры. Это позволит построить автоматизированную систему: она отследит аномалии и мошенническую деятельность. \n",
    "\n",
    "По каждой квартире на продажу доступны два вида данных. Первые вписаны пользователем, вторые — получены автоматически на основе картографических данных. Например, расстояние до центра, аэропорта, ближайшего парка и водоёма. \n",
    "\n",
    "Для выполнения поставленной задачи выполним следующие шаги:\n",
    "1. [Обзор данных](#step1)\n",
    "2. [Предобработка данных](#step2)\n",
    "3. [Изменение типов данных](#step3)\n",
    "4. [Добавление основных технико - экономических показателей квартиры](#step4)\n",
    "5. [Анализ характеристик квартир, цен и времени публикаций](#step5)\n",
    "6. [Анализ факторов, влияющих на стоимость квартиры](#step6)\n",
    "7. [Что такое центр города](#step7)\n",
    "8. [Исследование квартир в центре](#step8)\n",
    "9. [Общий вывод](#step9)"
   ]
  },
  {
   "cell_type": "markdown",
   "metadata": {},
   "source": [
    "### Шаг 1. Обзор данных <a id='step1'></a>"
   ]
  },
  {
   "cell_type": "markdown",
   "metadata": {},
   "source": [
    "Расмотрим предоставленные данные."
   ]
  },
  {
   "cell_type": "code",
   "execution_count": 1,
   "metadata": {
    "scrolled": true
   },
   "outputs": [
    {
     "data": {
      "text/html": [
       "<div>\n",
       "<style scoped>\n",
       "    .dataframe tbody tr th:only-of-type {\n",
       "        vertical-align: middle;\n",
       "    }\n",
       "\n",
       "    .dataframe tbody tr th {\n",
       "        vertical-align: top;\n",
       "    }\n",
       "\n",
       "    .dataframe thead th {\n",
       "        text-align: right;\n",
       "    }\n",
       "</style>\n",
       "<table border=\"1\" class=\"dataframe\">\n",
       "  <thead>\n",
       "    <tr style=\"text-align: right;\">\n",
       "      <th></th>\n",
       "      <th>total_images</th>\n",
       "      <th>last_price</th>\n",
       "      <th>total_area</th>\n",
       "      <th>first_day_exposition</th>\n",
       "      <th>rooms</th>\n",
       "      <th>ceiling_height</th>\n",
       "      <th>floors_total</th>\n",
       "      <th>living_area</th>\n",
       "      <th>floor</th>\n",
       "      <th>is_apartment</th>\n",
       "      <th>...</th>\n",
       "      <th>kitchen_area</th>\n",
       "      <th>balcony</th>\n",
       "      <th>locality_name</th>\n",
       "      <th>airports_nearest</th>\n",
       "      <th>cityCenters_nearest</th>\n",
       "      <th>parks_around3000</th>\n",
       "      <th>parks_nearest</th>\n",
       "      <th>ponds_around3000</th>\n",
       "      <th>ponds_nearest</th>\n",
       "      <th>days_exposition</th>\n",
       "    </tr>\n",
       "  </thead>\n",
       "  <tbody>\n",
       "    <tr>\n",
       "      <td>0</td>\n",
       "      <td>20</td>\n",
       "      <td>13000000.0</td>\n",
       "      <td>108.0</td>\n",
       "      <td>2019-03-07T00:00:00</td>\n",
       "      <td>3</td>\n",
       "      <td>2.70</td>\n",
       "      <td>16.0</td>\n",
       "      <td>51.0</td>\n",
       "      <td>8</td>\n",
       "      <td>NaN</td>\n",
       "      <td>...</td>\n",
       "      <td>25.0</td>\n",
       "      <td>NaN</td>\n",
       "      <td>Санкт-Петербург</td>\n",
       "      <td>18863.0</td>\n",
       "      <td>16028.0</td>\n",
       "      <td>1.0</td>\n",
       "      <td>482.0</td>\n",
       "      <td>2.0</td>\n",
       "      <td>755.0</td>\n",
       "      <td>NaN</td>\n",
       "    </tr>\n",
       "    <tr>\n",
       "      <td>1</td>\n",
       "      <td>7</td>\n",
       "      <td>3350000.0</td>\n",
       "      <td>40.4</td>\n",
       "      <td>2018-12-04T00:00:00</td>\n",
       "      <td>1</td>\n",
       "      <td>NaN</td>\n",
       "      <td>11.0</td>\n",
       "      <td>18.6</td>\n",
       "      <td>1</td>\n",
       "      <td>NaN</td>\n",
       "      <td>...</td>\n",
       "      <td>11.0</td>\n",
       "      <td>2.0</td>\n",
       "      <td>посёлок Шушары</td>\n",
       "      <td>12817.0</td>\n",
       "      <td>18603.0</td>\n",
       "      <td>0.0</td>\n",
       "      <td>NaN</td>\n",
       "      <td>0.0</td>\n",
       "      <td>NaN</td>\n",
       "      <td>81.0</td>\n",
       "    </tr>\n",
       "    <tr>\n",
       "      <td>2</td>\n",
       "      <td>10</td>\n",
       "      <td>5196000.0</td>\n",
       "      <td>56.0</td>\n",
       "      <td>2015-08-20T00:00:00</td>\n",
       "      <td>2</td>\n",
       "      <td>NaN</td>\n",
       "      <td>5.0</td>\n",
       "      <td>34.3</td>\n",
       "      <td>4</td>\n",
       "      <td>NaN</td>\n",
       "      <td>...</td>\n",
       "      <td>8.3</td>\n",
       "      <td>0.0</td>\n",
       "      <td>Санкт-Петербург</td>\n",
       "      <td>21741.0</td>\n",
       "      <td>13933.0</td>\n",
       "      <td>1.0</td>\n",
       "      <td>90.0</td>\n",
       "      <td>2.0</td>\n",
       "      <td>574.0</td>\n",
       "      <td>558.0</td>\n",
       "    </tr>\n",
       "    <tr>\n",
       "      <td>3</td>\n",
       "      <td>0</td>\n",
       "      <td>64900000.0</td>\n",
       "      <td>159.0</td>\n",
       "      <td>2015-07-24T00:00:00</td>\n",
       "      <td>3</td>\n",
       "      <td>NaN</td>\n",
       "      <td>14.0</td>\n",
       "      <td>NaN</td>\n",
       "      <td>9</td>\n",
       "      <td>NaN</td>\n",
       "      <td>...</td>\n",
       "      <td>NaN</td>\n",
       "      <td>0.0</td>\n",
       "      <td>Санкт-Петербург</td>\n",
       "      <td>28098.0</td>\n",
       "      <td>6800.0</td>\n",
       "      <td>2.0</td>\n",
       "      <td>84.0</td>\n",
       "      <td>3.0</td>\n",
       "      <td>234.0</td>\n",
       "      <td>424.0</td>\n",
       "    </tr>\n",
       "    <tr>\n",
       "      <td>4</td>\n",
       "      <td>2</td>\n",
       "      <td>10000000.0</td>\n",
       "      <td>100.0</td>\n",
       "      <td>2018-06-19T00:00:00</td>\n",
       "      <td>2</td>\n",
       "      <td>3.03</td>\n",
       "      <td>14.0</td>\n",
       "      <td>32.0</td>\n",
       "      <td>13</td>\n",
       "      <td>NaN</td>\n",
       "      <td>...</td>\n",
       "      <td>41.0</td>\n",
       "      <td>NaN</td>\n",
       "      <td>Санкт-Петербург</td>\n",
       "      <td>31856.0</td>\n",
       "      <td>8098.0</td>\n",
       "      <td>2.0</td>\n",
       "      <td>112.0</td>\n",
       "      <td>1.0</td>\n",
       "      <td>48.0</td>\n",
       "      <td>121.0</td>\n",
       "    </tr>\n",
       "  </tbody>\n",
       "</table>\n",
       "<p>5 rows × 22 columns</p>\n",
       "</div>"
      ],
      "text/plain": [
       "   total_images  last_price  total_area first_day_exposition  rooms  \\\n",
       "0            20  13000000.0       108.0  2019-03-07T00:00:00      3   \n",
       "1             7   3350000.0        40.4  2018-12-04T00:00:00      1   \n",
       "2            10   5196000.0        56.0  2015-08-20T00:00:00      2   \n",
       "3             0  64900000.0       159.0  2015-07-24T00:00:00      3   \n",
       "4             2  10000000.0       100.0  2018-06-19T00:00:00      2   \n",
       "\n",
       "   ceiling_height  floors_total  living_area  floor is_apartment  ...  \\\n",
       "0            2.70          16.0         51.0      8          NaN  ...   \n",
       "1             NaN          11.0         18.6      1          NaN  ...   \n",
       "2             NaN           5.0         34.3      4          NaN  ...   \n",
       "3             NaN          14.0          NaN      9          NaN  ...   \n",
       "4            3.03          14.0         32.0     13          NaN  ...   \n",
       "\n",
       "   kitchen_area  balcony    locality_name  airports_nearest  \\\n",
       "0          25.0      NaN  Санкт-Петербург           18863.0   \n",
       "1          11.0      2.0   посёлок Шушары           12817.0   \n",
       "2           8.3      0.0  Санкт-Петербург           21741.0   \n",
       "3           NaN      0.0  Санкт-Петербург           28098.0   \n",
       "4          41.0      NaN  Санкт-Петербург           31856.0   \n",
       "\n",
       "  cityCenters_nearest  parks_around3000  parks_nearest  ponds_around3000  \\\n",
       "0             16028.0               1.0          482.0               2.0   \n",
       "1             18603.0               0.0            NaN               0.0   \n",
       "2             13933.0               1.0           90.0               2.0   \n",
       "3              6800.0               2.0           84.0               3.0   \n",
       "4              8098.0               2.0          112.0               1.0   \n",
       "\n",
       "   ponds_nearest  days_exposition  \n",
       "0          755.0              NaN  \n",
       "1            NaN             81.0  \n",
       "2          574.0            558.0  \n",
       "3          234.0            424.0  \n",
       "4           48.0            121.0  \n",
       "\n",
       "[5 rows x 22 columns]"
      ]
     },
     "execution_count": 1,
     "metadata": {},
     "output_type": "execute_result"
    }
   ],
   "source": [
    "#импорт библиотек\n",
    "import pandas as pd\n",
    "import matplotlib.pyplot as plt \n",
    "import seaborn as sns \n",
    "#чтение файла и сохранение в data\n",
    "data = pd.read_csv('/datasets/real_estate_data.csv', sep = '\\t') \n",
    "data.head() #вывод на экран"
   ]
  },
  {
   "cell_type": "markdown",
   "metadata": {},
   "source": [
    "Теперь посмотрим общую информацию о данных с помощью метода info()."
   ]
  },
  {
   "cell_type": "code",
   "execution_count": 2,
   "metadata": {},
   "outputs": [
    {
     "name": "stdout",
     "output_type": "stream",
     "text": [
      "<class 'pandas.core.frame.DataFrame'>\n",
      "RangeIndex: 23699 entries, 0 to 23698\n",
      "Data columns (total 22 columns):\n",
      "total_images            23699 non-null int64\n",
      "last_price              23699 non-null float64\n",
      "total_area              23699 non-null float64\n",
      "first_day_exposition    23699 non-null object\n",
      "rooms                   23699 non-null int64\n",
      "ceiling_height          14504 non-null float64\n",
      "floors_total            23613 non-null float64\n",
      "living_area             21796 non-null float64\n",
      "floor                   23699 non-null int64\n",
      "is_apartment            2775 non-null object\n",
      "studio                  23699 non-null bool\n",
      "open_plan               23699 non-null bool\n",
      "kitchen_area            21421 non-null float64\n",
      "balcony                 12180 non-null float64\n",
      "locality_name           23650 non-null object\n",
      "airports_nearest        18157 non-null float64\n",
      "cityCenters_nearest     18180 non-null float64\n",
      "parks_around3000        18181 non-null float64\n",
      "parks_nearest           8079 non-null float64\n",
      "ponds_around3000        18181 non-null float64\n",
      "ponds_nearest           9110 non-null float64\n",
      "days_exposition         20518 non-null float64\n",
      "dtypes: bool(2), float64(14), int64(3), object(3)\n",
      "memory usage: 3.7+ MB\n"
     ]
    }
   ],
   "source": [
    "data.info()"
   ]
  },
  {
   "cell_type": "markdown",
   "metadata": {},
   "source": [
    "Рассмотрим подробно полученную из таблицы информацию. Всего в таблице 22 столбца различного формата. Из них:\n",
    "* bool - 2 столбца\n",
    "* float64 - 14 столбцов\n",
    "* int64 - 3 столбца\n",
    "* object - 3 столбца\n",
    "\n",
    "Рассмотрим, какая информация содержится в каждом столбце датасета.\n",
    "* airports_nearest — расстояние до ближайшего аэропорта в метрах (м)\n",
    "* balcony — число балконов\n",
    "* ceiling_height — высота потолков (м)\n",
    "* cityCenters_nearest — расстояние до центра города (м)\n",
    "* days_exposition — сколько дней было размещено объявление (от публикации до снятия)\n",
    "* first_day_exposition — дата публикации\n",
    "* floor — этаж\n",
    "* floors_total — всего этажей в доме\n",
    "* is_apartment — апартаменты (булев тип)\n",
    "* kitchen_area — площадь кухни в квадратных метрах (м²)\n",
    "* last_price — цена на момент снятия с публикации\n",
    "* living_area — жилая площадь в квадратных метрах(м²)\n",
    "* locality_name — название населённого пункта\n",
    "* open_plan — свободная планировка (булев тип)\n",
    "* parks_around3000 — число парков в радиусе 3 км\n",
    "* parks_nearest — расстояние до ближайшего парка (м)\n",
    "* ponds_around3000 — число водоёмов в радиусе 3 км\n",
    "* ponds_nearest — расстояние до ближайшего водоёма (м)\n",
    "* rooms — число комнат\n",
    "* studio — квартира-студия (булев тип)\n",
    "* total_area — площадь квартиры в квадратных метрах (м²)\n",
    "* total_images — число фотографий квартиры в объявлении\n",
    "\n",
    "Количество значений  в столбцах различается, что свидетельствует о пропусках данных. Но можно сказать, что мы имеем 23698 строк."
   ]
  },
  {
   "cell_type": "markdown",
   "metadata": {},
   "source": [
    "### Вывод"
   ]
  },
  {
   "cell_type": "markdown",
   "metadata": {},
   "source": [
    "Всего в сете 23698 предложений о продаже квартиры. В каждой стороке содержится информация о технических характеристиках, расположении и цене квартир. Сразу видны проблемы с пропусками в данных."
   ]
  },
  {
   "cell_type": "markdown",
   "metadata": {},
   "source": [
    "### Шаг 2. Предобработка данных <a id='step2'></a>"
   ]
  },
  {
   "cell_type": "markdown",
   "metadata": {},
   "source": [
    "Сумарное количество пропусков в данных."
   ]
  },
  {
   "cell_type": "code",
   "execution_count": 3,
   "metadata": {},
   "outputs": [
    {
     "data": {
      "text/plain": [
       "total_images                0\n",
       "last_price                  0\n",
       "total_area                  0\n",
       "first_day_exposition        0\n",
       "rooms                       0\n",
       "ceiling_height           9195\n",
       "floors_total               86\n",
       "living_area              1903\n",
       "floor                       0\n",
       "is_apartment            20924\n",
       "studio                      0\n",
       "open_plan                   0\n",
       "kitchen_area             2278\n",
       "balcony                 11519\n",
       "locality_name              49\n",
       "airports_nearest         5542\n",
       "cityCenters_nearest      5519\n",
       "parks_around3000         5518\n",
       "parks_nearest           15620\n",
       "ponds_around3000         5518\n",
       "ponds_nearest           14589\n",
       "days_exposition          3181\n",
       "dtype: int64"
      ]
     },
     "execution_count": 3,
     "metadata": {},
     "output_type": "execute_result"
    }
   ],
   "source": [
    "data.isna().sum()"
   ]
  },
  {
   "cell_type": "markdown",
   "metadata": {},
   "source": [
    "У нас имеется 49 пропусков по столбцу с названием населённого пункта ('locality_name'). Так как это всего 0,2% от всех данных и точно их восставить не получится, то удалим строки с пропусками в этом столбце. Используем dropna."
   ]
  },
  {
   "cell_type": "code",
   "execution_count": 4,
   "metadata": {},
   "outputs": [
    {
     "name": "stdout",
     "output_type": "stream",
     "text": [
      "Пропусков после обработки: 0\n"
     ]
    }
   ],
   "source": [
    "data.dropna(subset = ['locality_name'], inplace = True) #удаление пустых строк\n",
    "print('Пропусков после обработки:', data.locality_name.isna().sum())"
   ]
  },
  {
   "cell_type": "markdown",
   "metadata": {},
   "source": [
    "Имеется 9195 пропусков в столбце 'ceiling_height'. Эти данные скорее всего вносятся пользователем и объявление можно создать без этого параметра квартиры, поэтому многие его пропускают, так как это не самый критичный параметр. В данном случае это количественная переменная, поэтому можем заполнить пропуски одной из мер центральной тенденции (средним или медианой). \n",
    "Для этого посмотрим основные метрики для параметра высота потолка. Воспользуемся методом describe."
   ]
  },
  {
   "cell_type": "code",
   "execution_count": 5,
   "metadata": {},
   "outputs": [
    {
     "data": {
      "text/plain": [
       "count    14490.000000\n",
       "mean         2.771287\n",
       "std          1.261593\n",
       "min          1.000000\n",
       "25%          2.520000\n",
       "50%          2.650000\n",
       "75%          2.800000\n",
       "max        100.000000\n",
       "Name: ceiling_height, dtype: float64"
      ]
     },
     "execution_count": 5,
     "metadata": {},
     "output_type": "execute_result"
    }
   ],
   "source": [
    "data['ceiling_height'].describe()"
   ]
  },
  {
   "cell_type": "markdown",
   "metadata": {},
   "source": [
    "Видим, что есть выбросы в данных, так как минимальныя высота всего 1 метр, а максимальная 100  метров. При этом, среднее по высоте значение больше медианы, это значит что слишком высоких потолков больше, чем слишкомм низких.\n",
    "<p> Для заполнения пропусков воспользуемся медианой, так как она не чувительна к выбросым."
   ]
  },
  {
   "cell_type": "code",
   "execution_count": 6,
   "metadata": {},
   "outputs": [],
   "source": [
    "data.ceiling_height = data.ceiling_height.fillna(data.ceiling_height.median()) #замена пропуков на медианe"
   ]
  },
  {
   "cell_type": "code",
   "execution_count": 7,
   "metadata": {},
   "outputs": [
    {
     "name": "stdout",
     "output_type": "stream",
     "text": [
      "Пропусков после обработки: 0\n"
     ]
    }
   ],
   "source": [
    "#Проверим пропуски после обработки\n",
    "print('Пропусков после обработки:', data.ceiling_height.isna().sum())"
   ]
  },
  {
   "cell_type": "markdown",
   "metadata": {},
   "source": [
    "Теперь займемся пропусками в этажах зданий. Данный параметр также вводится  вручную, поэтому продавцы могли его не заполнить. В зависимости от размера города высота типичной этажности зданий можем менять. Для заполнения пропусков воспользуемся медианами высот зданий в зависимости от локации."
   ]
  },
  {
   "cell_type": "code",
   "execution_count": 8,
   "metadata": {},
   "outputs": [
    {
     "name": "stdout",
     "output_type": "stream",
     "text": [
      "Пропусков после обработки: 0\n"
     ]
    }
   ],
   "source": [
    "grp = data.groupby(['locality_name']) #сгруппируем данные по населенному пункту\n",
    "data['floors_total'] = grp.floors_total.apply(lambda x: x.fillna(x.median())) #заполение пропусков медианами групп\n",
    "print('Пропусков после обработки:', data['floors_total'].isnull().sum())"
   ]
  },
  {
   "cell_type": "markdown",
   "metadata": {},
   "source": [
    "Пропуски по столбцу *is_apartment* обусловлены тем, что люди не отмечают вид недвижимости, если эта квартира. Заменим пропуски на значение False."
   ]
  },
  {
   "cell_type": "code",
   "execution_count": 9,
   "metadata": {},
   "outputs": [
    {
     "name": "stdout",
     "output_type": "stream",
     "text": [
      "Пропусков после обработки: 0\n"
     ]
    }
   ],
   "source": [
    "data['is_apartment'] = data['is_apartment'].fillna(False) #замена пропусков на False\n",
    "print('Пропусков после обработки:', data['is_apartment'].isnull().sum())"
   ]
  },
  {
   "cell_type": "markdown",
   "metadata": {},
   "source": [
    "Пропуски в количестве балконов (столбец *balcony*) скорее всего из за того, что в квартире нет балкона. Заменим пропуски на 0."
   ]
  },
  {
   "cell_type": "code",
   "execution_count": 10,
   "metadata": {},
   "outputs": [
    {
     "name": "stdout",
     "output_type": "stream",
     "text": [
      "Пропусков после обработки: 0\n"
     ]
    }
   ],
   "source": [
    "data['balcony'] = data['balcony'].fillna(0) #замена пропусков на 0\n",
    "print('Пропусков после обработки:', data['balcony'].isnull().sum())"
   ]
  },
  {
   "cell_type": "markdown",
   "metadata": {},
   "source": [
    "Займемся жилой площадью и площадью кухонь в квартирах.\n",
    "<p>Большинство квартир имеет стандартные планировки и жилая площадь зависит от количесва комнат. Заполним пропуски в столбце *living_area* медианой в зависимости от количества комнат."
   ]
  },
  {
   "cell_type": "code",
   "execution_count": 11,
   "metadata": {
    "scrolled": true
   },
   "outputs": [
    {
     "name": "stdout",
     "output_type": "stream",
     "text": [
      "Пропусков после обработки: 0\n"
     ]
    }
   ],
   "source": [
    "grp = data.groupby(['rooms']) #сгруппируем данные по числу комнат\n",
    "data['living_area'] = grp.living_area.apply(lambda x: x.fillna(x.median())) #заполение пропусков медианами групп\n",
    "print('Пропусков после обработки:', data['living_area'].isnull().sum())"
   ]
  },
  {
   "cell_type": "markdown",
   "metadata": {},
   "source": [
    "С площадями кухонь поступим аналогичным способом."
   ]
  },
  {
   "cell_type": "code",
   "execution_count": 12,
   "metadata": {},
   "outputs": [
    {
     "name": "stdout",
     "output_type": "stream",
     "text": [
      "Пропусков после обработки: 197\n"
     ]
    },
    {
     "name": "stderr",
     "output_type": "stream",
     "text": [
      "/opt/conda/lib/python3.7/site-packages/numpy/lib/nanfunctions.py:1111: RuntimeWarning: Mean of empty slice\n",
      "  return np.nanmean(a, axis, out=out, keepdims=keepdims)\n"
     ]
    }
   ],
   "source": [
    "data['kitchen_area'] = grp.kitchen_area.apply(lambda x: x.fillna(x.median())) #заполение пропусков медианами групп\n",
    "print('Пропусков после обработки:', data['kitchen_area'].isnull().sum())"
   ]
  },
  {
   "cell_type": "code",
   "execution_count": 13,
   "metadata": {},
   "outputs": [
    {
     "data": {
      "text/plain": [
       "197"
      ]
     },
     "execution_count": 13,
     "metadata": {},
     "output_type": "execute_result"
    }
   ],
   "source": [
    "len(data.query('rooms == 0')) #количество квартир с 0 комнат"
   ]
  },
  {
   "cell_type": "code",
   "execution_count": 14,
   "metadata": {},
   "outputs": [
    {
     "data": {
      "text/plain": [
       "149"
      ]
     },
     "execution_count": 14,
     "metadata": {},
     "output_type": "execute_result"
    }
   ],
   "source": [
    "len(data.query('studio == True'))"
   ]
  },
  {
   "cell_type": "markdown",
   "metadata": {},
   "source": [
    "Приведем все квартиры к виду, если нет комнат, то это студия."
   ]
  },
  {
   "cell_type": "code",
   "execution_count": 15,
   "metadata": {},
   "outputs": [
    {
     "name": "stdout",
     "output_type": "stream",
     "text": [
      "Количество студий: 208\n"
     ]
    }
   ],
   "source": [
    "data.loc[data['rooms'] == 0, 'studio'] = True\n",
    "data.loc[data['studio'] == True, 'rooms'] = 0\n",
    "print('Количество студий:', len(data.query('studio == True')))"
   ]
  },
  {
   "cell_type": "markdown",
   "metadata": {},
   "source": [
    "Квартиры студии не имеют кухни, поэтому пропуски заменим на 0."
   ]
  },
  {
   "cell_type": "code",
   "execution_count": 16,
   "metadata": {},
   "outputs": [
    {
     "name": "stdout",
     "output_type": "stream",
     "text": [
      "Пропусков после обработки: 0\n"
     ]
    }
   ],
   "source": [
    "data.loc[data['studio'] == True, 'kitchen_area'] = 0 #замена на 0\n",
    "print('Пропусков после обработки:', data['kitchen_area'].isnull().sum())"
   ]
  },
  {
   "cell_type": "markdown",
   "metadata": {},
   "source": [
    "Расстояние до ближайшего аэропорта количественная величина. Заполняется автоматически системой, но могут возникнуть сбои, поэтому у нас пропуски. \n",
    "<p> Средние расстояние от населенных пунктов до аэропота заполним медианами."
   ]
  },
  {
   "cell_type": "code",
   "execution_count": 17,
   "metadata": {},
   "outputs": [
    {
     "name": "stdout",
     "output_type": "stream",
     "text": [
      "Пропусков да обработки: 5534\n",
      "Пропусков после обработки: 5386\n"
     ]
    }
   ],
   "source": [
    "print('Пропусков да обработки:', data['airports_nearest'].isnull().sum())\n",
    "grp = data.groupby(['locality_name']) #сгруппируем данные по городам\n",
    "data['airports_nearest'] = grp.airports_nearest.apply(lambda x: x.fillna(x.median())) #заполение пропусков медианами групп\n",
    "print('Пропусков после обработки:', data['airports_nearest'].isnull().sum())"
   ]
  },
  {
   "cell_type": "markdown",
   "metadata": {},
   "source": [
    "Таким способом удалось заполнить небольшую часть пропусков. Близость к аэропорту является важным показателем только для большого города - Санкт-Петербурка. Поэтоиму разделим все населенные пункты на 2 группы:\n",
    "* город\n",
    "* область\n",
    "\n",
    "Пропуски заполним медианами групп."
   ]
  },
  {
   "cell_type": "code",
   "execution_count": 18,
   "metadata": {},
   "outputs": [
    {
     "data": {
      "text/html": [
       "<div>\n",
       "<style scoped>\n",
       "    .dataframe tbody tr th:only-of-type {\n",
       "        vertical-align: middle;\n",
       "    }\n",
       "\n",
       "    .dataframe tbody tr th {\n",
       "        vertical-align: top;\n",
       "    }\n",
       "\n",
       "    .dataframe thead th {\n",
       "        text-align: right;\n",
       "    }\n",
       "</style>\n",
       "<table border=\"1\" class=\"dataframe\">\n",
       "  <thead>\n",
       "    <tr style=\"text-align: right;\">\n",
       "      <th></th>\n",
       "      <th>total_images</th>\n",
       "      <th>last_price</th>\n",
       "      <th>total_area</th>\n",
       "      <th>first_day_exposition</th>\n",
       "      <th>rooms</th>\n",
       "      <th>ceiling_height</th>\n",
       "      <th>floors_total</th>\n",
       "      <th>living_area</th>\n",
       "      <th>floor</th>\n",
       "      <th>is_apartment</th>\n",
       "      <th>...</th>\n",
       "      <th>balcony</th>\n",
       "      <th>locality_name</th>\n",
       "      <th>airports_nearest</th>\n",
       "      <th>cityCenters_nearest</th>\n",
       "      <th>parks_around3000</th>\n",
       "      <th>parks_nearest</th>\n",
       "      <th>ponds_around3000</th>\n",
       "      <th>ponds_nearest</th>\n",
       "      <th>days_exposition</th>\n",
       "      <th>local_group</th>\n",
       "    </tr>\n",
       "  </thead>\n",
       "  <tbody>\n",
       "    <tr>\n",
       "      <td>0</td>\n",
       "      <td>20</td>\n",
       "      <td>13000000.0</td>\n",
       "      <td>108.0</td>\n",
       "      <td>2019-03-07T00:00:00</td>\n",
       "      <td>3</td>\n",
       "      <td>2.70</td>\n",
       "      <td>16.0</td>\n",
       "      <td>51.0</td>\n",
       "      <td>8</td>\n",
       "      <td>False</td>\n",
       "      <td>...</td>\n",
       "      <td>0.0</td>\n",
       "      <td>Санкт-Петербург</td>\n",
       "      <td>18863.0</td>\n",
       "      <td>16028.0</td>\n",
       "      <td>1.0</td>\n",
       "      <td>482.0</td>\n",
       "      <td>2.0</td>\n",
       "      <td>755.0</td>\n",
       "      <td>NaN</td>\n",
       "      <td>город</td>\n",
       "    </tr>\n",
       "    <tr>\n",
       "      <td>1</td>\n",
       "      <td>7</td>\n",
       "      <td>3350000.0</td>\n",
       "      <td>40.4</td>\n",
       "      <td>2018-12-04T00:00:00</td>\n",
       "      <td>1</td>\n",
       "      <td>2.65</td>\n",
       "      <td>11.0</td>\n",
       "      <td>18.6</td>\n",
       "      <td>1</td>\n",
       "      <td>False</td>\n",
       "      <td>...</td>\n",
       "      <td>2.0</td>\n",
       "      <td>посёлок Шушары</td>\n",
       "      <td>12817.0</td>\n",
       "      <td>18603.0</td>\n",
       "      <td>0.0</td>\n",
       "      <td>NaN</td>\n",
       "      <td>0.0</td>\n",
       "      <td>NaN</td>\n",
       "      <td>81.0</td>\n",
       "      <td>область</td>\n",
       "    </tr>\n",
       "    <tr>\n",
       "      <td>2</td>\n",
       "      <td>10</td>\n",
       "      <td>5196000.0</td>\n",
       "      <td>56.0</td>\n",
       "      <td>2015-08-20T00:00:00</td>\n",
       "      <td>2</td>\n",
       "      <td>2.65</td>\n",
       "      <td>5.0</td>\n",
       "      <td>34.3</td>\n",
       "      <td>4</td>\n",
       "      <td>False</td>\n",
       "      <td>...</td>\n",
       "      <td>0.0</td>\n",
       "      <td>Санкт-Петербург</td>\n",
       "      <td>21741.0</td>\n",
       "      <td>13933.0</td>\n",
       "      <td>1.0</td>\n",
       "      <td>90.0</td>\n",
       "      <td>2.0</td>\n",
       "      <td>574.0</td>\n",
       "      <td>558.0</td>\n",
       "      <td>город</td>\n",
       "    </tr>\n",
       "    <tr>\n",
       "      <td>3</td>\n",
       "      <td>0</td>\n",
       "      <td>64900000.0</td>\n",
       "      <td>159.0</td>\n",
       "      <td>2015-07-24T00:00:00</td>\n",
       "      <td>3</td>\n",
       "      <td>2.65</td>\n",
       "      <td>14.0</td>\n",
       "      <td>45.0</td>\n",
       "      <td>9</td>\n",
       "      <td>False</td>\n",
       "      <td>...</td>\n",
       "      <td>0.0</td>\n",
       "      <td>Санкт-Петербург</td>\n",
       "      <td>28098.0</td>\n",
       "      <td>6800.0</td>\n",
       "      <td>2.0</td>\n",
       "      <td>84.0</td>\n",
       "      <td>3.0</td>\n",
       "      <td>234.0</td>\n",
       "      <td>424.0</td>\n",
       "      <td>город</td>\n",
       "    </tr>\n",
       "    <tr>\n",
       "      <td>4</td>\n",
       "      <td>2</td>\n",
       "      <td>10000000.0</td>\n",
       "      <td>100.0</td>\n",
       "      <td>2018-06-19T00:00:00</td>\n",
       "      <td>2</td>\n",
       "      <td>3.03</td>\n",
       "      <td>14.0</td>\n",
       "      <td>32.0</td>\n",
       "      <td>13</td>\n",
       "      <td>False</td>\n",
       "      <td>...</td>\n",
       "      <td>0.0</td>\n",
       "      <td>Санкт-Петербург</td>\n",
       "      <td>31856.0</td>\n",
       "      <td>8098.0</td>\n",
       "      <td>2.0</td>\n",
       "      <td>112.0</td>\n",
       "      <td>1.0</td>\n",
       "      <td>48.0</td>\n",
       "      <td>121.0</td>\n",
       "      <td>город</td>\n",
       "    </tr>\n",
       "  </tbody>\n",
       "</table>\n",
       "<p>5 rows × 23 columns</p>\n",
       "</div>"
      ],
      "text/plain": [
       "   total_images  last_price  total_area first_day_exposition  rooms  \\\n",
       "0            20  13000000.0       108.0  2019-03-07T00:00:00      3   \n",
       "1             7   3350000.0        40.4  2018-12-04T00:00:00      1   \n",
       "2            10   5196000.0        56.0  2015-08-20T00:00:00      2   \n",
       "3             0  64900000.0       159.0  2015-07-24T00:00:00      3   \n",
       "4             2  10000000.0       100.0  2018-06-19T00:00:00      2   \n",
       "\n",
       "   ceiling_height  floors_total  living_area  floor  is_apartment  ...  \\\n",
       "0            2.70          16.0         51.0      8         False  ...   \n",
       "1            2.65          11.0         18.6      1         False  ...   \n",
       "2            2.65           5.0         34.3      4         False  ...   \n",
       "3            2.65          14.0         45.0      9         False  ...   \n",
       "4            3.03          14.0         32.0     13         False  ...   \n",
       "\n",
       "   balcony    locality_name  airports_nearest  cityCenters_nearest  \\\n",
       "0      0.0  Санкт-Петербург           18863.0              16028.0   \n",
       "1      2.0   посёлок Шушары           12817.0              18603.0   \n",
       "2      0.0  Санкт-Петербург           21741.0              13933.0   \n",
       "3      0.0  Санкт-Петербург           28098.0               6800.0   \n",
       "4      0.0  Санкт-Петербург           31856.0               8098.0   \n",
       "\n",
       "  parks_around3000  parks_nearest  ponds_around3000  ponds_nearest  \\\n",
       "0              1.0          482.0               2.0          755.0   \n",
       "1              0.0            NaN               0.0            NaN   \n",
       "2              1.0           90.0               2.0          574.0   \n",
       "3              2.0           84.0               3.0          234.0   \n",
       "4              2.0          112.0               1.0           48.0   \n",
       "\n",
       "   days_exposition  local_group  \n",
       "0              NaN        город  \n",
       "1             81.0      область  \n",
       "2            558.0        город  \n",
       "3            424.0        город  \n",
       "4            121.0        город  \n",
       "\n",
       "[5 rows x 23 columns]"
      ]
     },
     "execution_count": 18,
     "metadata": {},
     "output_type": "execute_result"
    }
   ],
   "source": [
    "#функиця группировки\n",
    "def local_group(row):\n",
    "    if row == 'Санкт-Петербург':\n",
    "        return 'город'\n",
    "    return 'область'\n",
    "\n",
    "data['local_group'] = data['locality_name'].apply(local_group) #добавление столбца с группами\n",
    "data.head()"
   ]
  },
  {
   "cell_type": "code",
   "execution_count": 19,
   "metadata": {},
   "outputs": [
    {
     "name": "stdout",
     "output_type": "stream",
     "text": [
      "Пропусков после обработки: 0\n"
     ]
    }
   ],
   "source": [
    "grp = data.groupby(['local_group']) #сгруппируем данные по региону\n",
    "data['airports_nearest'] = grp.airports_nearest.apply(lambda x: x.fillna(x.median())) #заполение пропусков медианами групп\n",
    "print('Пропусков после обработки:', data['airports_nearest'].isnull().sum())"
   ]
  },
  {
   "cell_type": "markdown",
   "metadata": {},
   "source": [
    "Расстояние до центра актуально только для Санкт-Петербурга. Проверим сколько пропусков мы имеем в этом городе."
   ]
  },
  {
   "cell_type": "code",
   "execution_count": 20,
   "metadata": {},
   "outputs": [
    {
     "data": {
      "text/plain": [
       "61"
      ]
     },
     "execution_count": 20,
     "metadata": {},
     "output_type": "execute_result"
    }
   ],
   "source": [
    "data.query('locality_name == \"Санкт-Петербург\"')['cityCenters_nearest'].isnull().sum()"
   ]
  },
  {
   "cell_type": "markdown",
   "metadata": {},
   "source": [
    "Цены на квартиры одной площадь и на примерно одном растоянии от центра должны быть примерно одинаковыми. Заполним пропуски ближайшими соседними значениями. Для этого отсортируем сет по площади и расстоянию. "
   ]
  },
  {
   "cell_type": "code",
   "execution_count": 21,
   "metadata": {},
   "outputs": [
    {
     "name": "stdout",
     "output_type": "stream",
     "text": [
      "Пропусков по Санкт - Петербургу: 0\n",
      "Пропусков всего: 0\n"
     ]
    }
   ],
   "source": [
    "#заменим пропуск на слудующее заполненное значение\n",
    "data = data.sort_values(by = ['locality_name','total_area' ,'cityCenters_nearest'])\n",
    "data.loc[:, 'cityCenters_nearest'] = data.loc[:, 'cityCenters_nearest'].fillna(method = 'bfill')#заменим пропуск на слудующее заполненное значение\n",
    "data.loc[:, 'cityCenters_nearest'] = data.loc[:, 'cityCenters_nearest'].fillna(method = 'ffill')#заменим пропуск на предыдщение значение\n",
    "print('Пропусков по Санкт - Петербургу:', data.query('locality_name == \"Санкт-Петербург\"')['cityCenters_nearest'].isnull().sum())\n",
    "print('Пропусков всего:', data['cityCenters_nearest'].isnull().sum())"
   ]
  },
  {
   "cell_type": "markdown",
   "metadata": {},
   "source": [
    "Расмотрим пропуски в столбцах *parks_around3000* (число парков в радиусе 3 км) и *parks_nearest* (расстояние до ближайшего парка (м)).\n",
    "<p> Посмотрим какие вообще существуют значения. Посомтрим случай, когда парк на расстоянии 3 км есть, но ближайший парк не заполнен."
   ]
  },
  {
   "cell_type": "code",
   "execution_count": 22,
   "metadata": {},
   "outputs": [
    {
     "data": {
      "text/html": [
       "<div>\n",
       "<style scoped>\n",
       "    .dataframe tbody tr th:only-of-type {\n",
       "        vertical-align: middle;\n",
       "    }\n",
       "\n",
       "    .dataframe tbody tr th {\n",
       "        vertical-align: top;\n",
       "    }\n",
       "\n",
       "    .dataframe thead th {\n",
       "        text-align: right;\n",
       "    }\n",
       "</style>\n",
       "<table border=\"1\" class=\"dataframe\">\n",
       "  <thead>\n",
       "    <tr style=\"text-align: right;\">\n",
       "      <th></th>\n",
       "      <th>total_images</th>\n",
       "      <th>last_price</th>\n",
       "      <th>total_area</th>\n",
       "      <th>first_day_exposition</th>\n",
       "      <th>rooms</th>\n",
       "      <th>ceiling_height</th>\n",
       "      <th>floors_total</th>\n",
       "      <th>living_area</th>\n",
       "      <th>floor</th>\n",
       "      <th>is_apartment</th>\n",
       "      <th>...</th>\n",
       "      <th>balcony</th>\n",
       "      <th>locality_name</th>\n",
       "      <th>airports_nearest</th>\n",
       "      <th>cityCenters_nearest</th>\n",
       "      <th>parks_around3000</th>\n",
       "      <th>parks_nearest</th>\n",
       "      <th>ponds_around3000</th>\n",
       "      <th>ponds_nearest</th>\n",
       "      <th>days_exposition</th>\n",
       "      <th>local_group</th>\n",
       "    </tr>\n",
       "  </thead>\n",
       "  <tbody>\n",
       "    <tr>\n",
       "      <td>4441</td>\n",
       "      <td>6</td>\n",
       "      <td>2300000.0</td>\n",
       "      <td>31.00</td>\n",
       "      <td>2016-05-26T00:00:00</td>\n",
       "      <td>1</td>\n",
       "      <td>2.65</td>\n",
       "      <td>3.0</td>\n",
       "      <td>12.0</td>\n",
       "      <td>1</td>\n",
       "      <td>False</td>\n",
       "      <td>...</td>\n",
       "      <td>0.0</td>\n",
       "      <td>Зеленогорск</td>\n",
       "      <td>78527.0</td>\n",
       "      <td>59626.0</td>\n",
       "      <td>0.0</td>\n",
       "      <td>NaN</td>\n",
       "      <td>0.0</td>\n",
       "      <td>NaN</td>\n",
       "      <td>232.0</td>\n",
       "      <td>область</td>\n",
       "    </tr>\n",
       "    <tr>\n",
       "      <td>939</td>\n",
       "      <td>17</td>\n",
       "      <td>3015000.0</td>\n",
       "      <td>31.20</td>\n",
       "      <td>2019-04-16T00:00:00</td>\n",
       "      <td>1</td>\n",
       "      <td>2.50</td>\n",
       "      <td>3.0</td>\n",
       "      <td>17.5</td>\n",
       "      <td>1</td>\n",
       "      <td>False</td>\n",
       "      <td>...</td>\n",
       "      <td>0.0</td>\n",
       "      <td>Зеленогорск</td>\n",
       "      <td>75646.0</td>\n",
       "      <td>56745.0</td>\n",
       "      <td>0.0</td>\n",
       "      <td>NaN</td>\n",
       "      <td>1.0</td>\n",
       "      <td>347.0</td>\n",
       "      <td>NaN</td>\n",
       "      <td>область</td>\n",
       "    </tr>\n",
       "    <tr>\n",
       "      <td>2974</td>\n",
       "      <td>13</td>\n",
       "      <td>3200000.0</td>\n",
       "      <td>46.30</td>\n",
       "      <td>2018-03-31T00:00:00</td>\n",
       "      <td>2</td>\n",
       "      <td>2.50</td>\n",
       "      <td>3.0</td>\n",
       "      <td>29.2</td>\n",
       "      <td>2</td>\n",
       "      <td>False</td>\n",
       "      <td>...</td>\n",
       "      <td>1.0</td>\n",
       "      <td>Зеленогорск</td>\n",
       "      <td>81355.0</td>\n",
       "      <td>62454.0</td>\n",
       "      <td>0.0</td>\n",
       "      <td>NaN</td>\n",
       "      <td>0.0</td>\n",
       "      <td>NaN</td>\n",
       "      <td>205.0</td>\n",
       "      <td>область</td>\n",
       "    </tr>\n",
       "    <tr>\n",
       "      <td>18884</td>\n",
       "      <td>15</td>\n",
       "      <td>3600000.0</td>\n",
       "      <td>57.60</td>\n",
       "      <td>2019-02-08T00:00:00</td>\n",
       "      <td>3</td>\n",
       "      <td>2.55</td>\n",
       "      <td>3.0</td>\n",
       "      <td>41.3</td>\n",
       "      <td>2</td>\n",
       "      <td>False</td>\n",
       "      <td>...</td>\n",
       "      <td>1.0</td>\n",
       "      <td>Зеленогорск</td>\n",
       "      <td>81607.0</td>\n",
       "      <td>62706.0</td>\n",
       "      <td>0.0</td>\n",
       "      <td>NaN</td>\n",
       "      <td>0.0</td>\n",
       "      <td>NaN</td>\n",
       "      <td>13.0</td>\n",
       "      <td>область</td>\n",
       "    </tr>\n",
       "    <tr>\n",
       "      <td>15037</td>\n",
       "      <td>9</td>\n",
       "      <td>23000000.0</td>\n",
       "      <td>71.00</td>\n",
       "      <td>2017-05-15T00:00:00</td>\n",
       "      <td>2</td>\n",
       "      <td>3.30</td>\n",
       "      <td>4.0</td>\n",
       "      <td>31.0</td>\n",
       "      <td>2</td>\n",
       "      <td>False</td>\n",
       "      <td>...</td>\n",
       "      <td>2.0</td>\n",
       "      <td>Зеленогорск</td>\n",
       "      <td>70016.0</td>\n",
       "      <td>51115.0</td>\n",
       "      <td>0.0</td>\n",
       "      <td>NaN</td>\n",
       "      <td>0.0</td>\n",
       "      <td>NaN</td>\n",
       "      <td>90.0</td>\n",
       "      <td>область</td>\n",
       "    </tr>\n",
       "    <tr>\n",
       "      <td>...</td>\n",
       "      <td>...</td>\n",
       "      <td>...</td>\n",
       "      <td>...</td>\n",
       "      <td>...</td>\n",
       "      <td>...</td>\n",
       "      <td>...</td>\n",
       "      <td>...</td>\n",
       "      <td>...</td>\n",
       "      <td>...</td>\n",
       "      <td>...</td>\n",
       "      <td>...</td>\n",
       "      <td>...</td>\n",
       "      <td>...</td>\n",
       "      <td>...</td>\n",
       "      <td>...</td>\n",
       "      <td>...</td>\n",
       "      <td>...</td>\n",
       "      <td>...</td>\n",
       "      <td>...</td>\n",
       "      <td>...</td>\n",
       "      <td>...</td>\n",
       "    </tr>\n",
       "    <tr>\n",
       "      <td>17929</td>\n",
       "      <td>20</td>\n",
       "      <td>10990000.0</td>\n",
       "      <td>112.90</td>\n",
       "      <td>2017-11-28T00:00:00</td>\n",
       "      <td>4</td>\n",
       "      <td>2.65</td>\n",
       "      <td>4.0</td>\n",
       "      <td>68.9</td>\n",
       "      <td>4</td>\n",
       "      <td>False</td>\n",
       "      <td>...</td>\n",
       "      <td>0.0</td>\n",
       "      <td>посёлок Шушары</td>\n",
       "      <td>17494.0</td>\n",
       "      <td>31604.0</td>\n",
       "      <td>0.0</td>\n",
       "      <td>NaN</td>\n",
       "      <td>0.0</td>\n",
       "      <td>NaN</td>\n",
       "      <td>NaN</td>\n",
       "      <td>область</td>\n",
       "    </tr>\n",
       "    <tr>\n",
       "      <td>16371</td>\n",
       "      <td>13</td>\n",
       "      <td>6500000.0</td>\n",
       "      <td>116.30</td>\n",
       "      <td>2019-02-09T00:00:00</td>\n",
       "      <td>4</td>\n",
       "      <td>2.76</td>\n",
       "      <td>12.0</td>\n",
       "      <td>73.2</td>\n",
       "      <td>2</td>\n",
       "      <td>False</td>\n",
       "      <td>...</td>\n",
       "      <td>5.0</td>\n",
       "      <td>посёлок Шушары</td>\n",
       "      <td>18012.0</td>\n",
       "      <td>23688.0</td>\n",
       "      <td>0.0</td>\n",
       "      <td>NaN</td>\n",
       "      <td>1.0</td>\n",
       "      <td>630.0</td>\n",
       "      <td>39.0</td>\n",
       "      <td>область</td>\n",
       "    </tr>\n",
       "    <tr>\n",
       "      <td>3931</td>\n",
       "      <td>17</td>\n",
       "      <td>10100000.0</td>\n",
       "      <td>119.50</td>\n",
       "      <td>2018-11-08T00:00:00</td>\n",
       "      <td>4</td>\n",
       "      <td>2.60</td>\n",
       "      <td>9.0</td>\n",
       "      <td>67.1</td>\n",
       "      <td>8</td>\n",
       "      <td>False</td>\n",
       "      <td>...</td>\n",
       "      <td>4.0</td>\n",
       "      <td>посёлок Шушары</td>\n",
       "      <td>19739.0</td>\n",
       "      <td>30142.0</td>\n",
       "      <td>0.0</td>\n",
       "      <td>NaN</td>\n",
       "      <td>0.0</td>\n",
       "      <td>NaN</td>\n",
       "      <td>80.0</td>\n",
       "      <td>область</td>\n",
       "    </tr>\n",
       "    <tr>\n",
       "      <td>18399</td>\n",
       "      <td>14</td>\n",
       "      <td>10700000.0</td>\n",
       "      <td>128.00</td>\n",
       "      <td>2016-05-16T00:00:00</td>\n",
       "      <td>4</td>\n",
       "      <td>2.65</td>\n",
       "      <td>2.0</td>\n",
       "      <td>85.0</td>\n",
       "      <td>1</td>\n",
       "      <td>False</td>\n",
       "      <td>...</td>\n",
       "      <td>0.0</td>\n",
       "      <td>посёлок Шушары</td>\n",
       "      <td>26293.0</td>\n",
       "      <td>32079.0</td>\n",
       "      <td>0.0</td>\n",
       "      <td>NaN</td>\n",
       "      <td>0.0</td>\n",
       "      <td>NaN</td>\n",
       "      <td>90.0</td>\n",
       "      <td>область</td>\n",
       "    </tr>\n",
       "    <tr>\n",
       "      <td>3817</td>\n",
       "      <td>1</td>\n",
       "      <td>1640000.0</td>\n",
       "      <td>23.98</td>\n",
       "      <td>2015-08-25T00:00:00</td>\n",
       "      <td>1</td>\n",
       "      <td>2.65</td>\n",
       "      <td>4.0</td>\n",
       "      <td>17.6</td>\n",
       "      <td>1</td>\n",
       "      <td>False</td>\n",
       "      <td>...</td>\n",
       "      <td>0.0</td>\n",
       "      <td>посёлок Щеглово</td>\n",
       "      <td>61908.0</td>\n",
       "      <td>34085.0</td>\n",
       "      <td>0.0</td>\n",
       "      <td>NaN</td>\n",
       "      <td>0.0</td>\n",
       "      <td>NaN</td>\n",
       "      <td>378.0</td>\n",
       "      <td>область</td>\n",
       "    </tr>\n",
       "  </tbody>\n",
       "</table>\n",
       "<p>10076 rows × 23 columns</p>\n",
       "</div>"
      ],
      "text/plain": [
       "       total_images  last_price  total_area first_day_exposition  rooms  \\\n",
       "4441              6   2300000.0       31.00  2016-05-26T00:00:00      1   \n",
       "939              17   3015000.0       31.20  2019-04-16T00:00:00      1   \n",
       "2974             13   3200000.0       46.30  2018-03-31T00:00:00      2   \n",
       "18884            15   3600000.0       57.60  2019-02-08T00:00:00      3   \n",
       "15037             9  23000000.0       71.00  2017-05-15T00:00:00      2   \n",
       "...             ...         ...         ...                  ...    ...   \n",
       "17929            20  10990000.0      112.90  2017-11-28T00:00:00      4   \n",
       "16371            13   6500000.0      116.30  2019-02-09T00:00:00      4   \n",
       "3931             17  10100000.0      119.50  2018-11-08T00:00:00      4   \n",
       "18399            14  10700000.0      128.00  2016-05-16T00:00:00      4   \n",
       "3817              1   1640000.0       23.98  2015-08-25T00:00:00      1   \n",
       "\n",
       "       ceiling_height  floors_total  living_area  floor  is_apartment  ...  \\\n",
       "4441             2.65           3.0         12.0      1         False  ...   \n",
       "939              2.50           3.0         17.5      1         False  ...   \n",
       "2974             2.50           3.0         29.2      2         False  ...   \n",
       "18884            2.55           3.0         41.3      2         False  ...   \n",
       "15037            3.30           4.0         31.0      2         False  ...   \n",
       "...               ...           ...          ...    ...           ...  ...   \n",
       "17929            2.65           4.0         68.9      4         False  ...   \n",
       "16371            2.76          12.0         73.2      2         False  ...   \n",
       "3931             2.60           9.0         67.1      8         False  ...   \n",
       "18399            2.65           2.0         85.0      1         False  ...   \n",
       "3817             2.65           4.0         17.6      1         False  ...   \n",
       "\n",
       "       balcony    locality_name  airports_nearest  cityCenters_nearest  \\\n",
       "4441       0.0      Зеленогорск           78527.0              59626.0   \n",
       "939        0.0      Зеленогорск           75646.0              56745.0   \n",
       "2974       1.0      Зеленогорск           81355.0              62454.0   \n",
       "18884      1.0      Зеленогорск           81607.0              62706.0   \n",
       "15037      2.0      Зеленогорск           70016.0              51115.0   \n",
       "...        ...              ...               ...                  ...   \n",
       "17929      0.0   посёлок Шушары           17494.0              31604.0   \n",
       "16371      5.0   посёлок Шушары           18012.0              23688.0   \n",
       "3931       4.0   посёлок Шушары           19739.0              30142.0   \n",
       "18399      0.0   посёлок Шушары           26293.0              32079.0   \n",
       "3817       0.0  посёлок Щеглово           61908.0              34085.0   \n",
       "\n",
       "      parks_around3000  parks_nearest  ponds_around3000  ponds_nearest  \\\n",
       "4441               0.0            NaN               0.0            NaN   \n",
       "939                0.0            NaN               1.0          347.0   \n",
       "2974               0.0            NaN               0.0            NaN   \n",
       "18884              0.0            NaN               0.0            NaN   \n",
       "15037              0.0            NaN               0.0            NaN   \n",
       "...                ...            ...               ...            ...   \n",
       "17929              0.0            NaN               0.0            NaN   \n",
       "16371              0.0            NaN               1.0          630.0   \n",
       "3931               0.0            NaN               0.0            NaN   \n",
       "18399              0.0            NaN               0.0            NaN   \n",
       "3817               0.0            NaN               0.0            NaN   \n",
       "\n",
       "       days_exposition  local_group  \n",
       "4441             232.0      область  \n",
       "939                NaN      область  \n",
       "2974             205.0      область  \n",
       "18884             13.0      область  \n",
       "15037             90.0      область  \n",
       "...                ...          ...  \n",
       "17929              NaN      область  \n",
       "16371             39.0      область  \n",
       "3931              80.0      область  \n",
       "18399             90.0      область  \n",
       "3817             378.0      область  \n",
       "\n",
       "[10076 rows x 23 columns]"
      ]
     },
     "execution_count": 22,
     "metadata": {},
     "output_type": "execute_result"
    }
   ],
   "source": [
    "data[(data['parks_around3000'].isna() == False) & (data['parks_nearest'].isna() == True)]"
   ]
  },
  {
   "cell_type": "markdown",
   "metadata": {},
   "source": [
    "Парка ближе 3 км нет, поэтому это значение и не указано. Оставим эти пропуски.\n",
    "<p> Проверим вариант, когда количество парков не заполнено, но есть расстояние до ближайшего."
   ]
  },
  {
   "cell_type": "code",
   "execution_count": 23,
   "metadata": {},
   "outputs": [
    {
     "data": {
      "text/html": [
       "<div>\n",
       "<style scoped>\n",
       "    .dataframe tbody tr th:only-of-type {\n",
       "        vertical-align: middle;\n",
       "    }\n",
       "\n",
       "    .dataframe tbody tr th {\n",
       "        vertical-align: top;\n",
       "    }\n",
       "\n",
       "    .dataframe thead th {\n",
       "        text-align: right;\n",
       "    }\n",
       "</style>\n",
       "<table border=\"1\" class=\"dataframe\">\n",
       "  <thead>\n",
       "    <tr style=\"text-align: right;\">\n",
       "      <th></th>\n",
       "      <th>total_images</th>\n",
       "      <th>last_price</th>\n",
       "      <th>total_area</th>\n",
       "      <th>first_day_exposition</th>\n",
       "      <th>rooms</th>\n",
       "      <th>ceiling_height</th>\n",
       "      <th>floors_total</th>\n",
       "      <th>living_area</th>\n",
       "      <th>floor</th>\n",
       "      <th>is_apartment</th>\n",
       "      <th>...</th>\n",
       "      <th>balcony</th>\n",
       "      <th>locality_name</th>\n",
       "      <th>airports_nearest</th>\n",
       "      <th>cityCenters_nearest</th>\n",
       "      <th>parks_around3000</th>\n",
       "      <th>parks_nearest</th>\n",
       "      <th>ponds_around3000</th>\n",
       "      <th>ponds_nearest</th>\n",
       "      <th>days_exposition</th>\n",
       "      <th>local_group</th>\n",
       "    </tr>\n",
       "  </thead>\n",
       "  <tbody>\n",
       "  </tbody>\n",
       "</table>\n",
       "<p>0 rows × 23 columns</p>\n",
       "</div>"
      ],
      "text/plain": [
       "Empty DataFrame\n",
       "Columns: [total_images, last_price, total_area, first_day_exposition, rooms, ceiling_height, floors_total, living_area, floor, is_apartment, studio, open_plan, kitchen_area, balcony, locality_name, airports_nearest, cityCenters_nearest, parks_around3000, parks_nearest, ponds_around3000, ponds_nearest, days_exposition, local_group]\n",
       "Index: []\n",
       "\n",
       "[0 rows x 23 columns]"
      ]
     },
     "execution_count": 23,
     "metadata": {},
     "output_type": "execute_result"
    }
   ],
   "source": [
    "data[(data['parks_around3000'].isna() == True) & (data['parks_nearest'].isna() == False)]"
   ]
  },
  {
   "cell_type": "markdown",
   "metadata": {},
   "source": [
    "Таких значений нет. \n",
    "<p> Проверим третий вариант."
   ]
  },
  {
   "cell_type": "code",
   "execution_count": 24,
   "metadata": {},
   "outputs": [
    {
     "data": {
      "text/html": [
       "<div>\n",
       "<style scoped>\n",
       "    .dataframe tbody tr th:only-of-type {\n",
       "        vertical-align: middle;\n",
       "    }\n",
       "\n",
       "    .dataframe tbody tr th {\n",
       "        vertical-align: top;\n",
       "    }\n",
       "\n",
       "    .dataframe thead th {\n",
       "        text-align: right;\n",
       "    }\n",
       "</style>\n",
       "<table border=\"1\" class=\"dataframe\">\n",
       "  <thead>\n",
       "    <tr style=\"text-align: right;\">\n",
       "      <th></th>\n",
       "      <th>total_images</th>\n",
       "      <th>last_price</th>\n",
       "      <th>total_area</th>\n",
       "      <th>first_day_exposition</th>\n",
       "      <th>rooms</th>\n",
       "      <th>ceiling_height</th>\n",
       "      <th>floors_total</th>\n",
       "      <th>living_area</th>\n",
       "      <th>floor</th>\n",
       "      <th>is_apartment</th>\n",
       "      <th>...</th>\n",
       "      <th>balcony</th>\n",
       "      <th>locality_name</th>\n",
       "      <th>airports_nearest</th>\n",
       "      <th>cityCenters_nearest</th>\n",
       "      <th>parks_around3000</th>\n",
       "      <th>parks_nearest</th>\n",
       "      <th>ponds_around3000</th>\n",
       "      <th>ponds_nearest</th>\n",
       "      <th>days_exposition</th>\n",
       "      <th>local_group</th>\n",
       "    </tr>\n",
       "  </thead>\n",
       "  <tbody>\n",
       "    <tr>\n",
       "      <td>1053</td>\n",
       "      <td>13</td>\n",
       "      <td>550000.0</td>\n",
       "      <td>29.0</td>\n",
       "      <td>2018-02-01T00:00:00</td>\n",
       "      <td>1</td>\n",
       "      <td>5.00</td>\n",
       "      <td>3.0</td>\n",
       "      <td>17.6</td>\n",
       "      <td>1</td>\n",
       "      <td>False</td>\n",
       "      <td>...</td>\n",
       "      <td>0.0</td>\n",
       "      <td>Бокситогорск</td>\n",
       "      <td>26944.0</td>\n",
       "      <td>53379.0</td>\n",
       "      <td>NaN</td>\n",
       "      <td>NaN</td>\n",
       "      <td>NaN</td>\n",
       "      <td>NaN</td>\n",
       "      <td>6.0</td>\n",
       "      <td>область</td>\n",
       "    </tr>\n",
       "    <tr>\n",
       "      <td>8630</td>\n",
       "      <td>3</td>\n",
       "      <td>560000.0</td>\n",
       "      <td>32.0</td>\n",
       "      <td>2018-06-16T00:00:00</td>\n",
       "      <td>1</td>\n",
       "      <td>2.65</td>\n",
       "      <td>3.0</td>\n",
       "      <td>17.0</td>\n",
       "      <td>1</td>\n",
       "      <td>False</td>\n",
       "      <td>...</td>\n",
       "      <td>0.0</td>\n",
       "      <td>Бокситогорск</td>\n",
       "      <td>26944.0</td>\n",
       "      <td>53379.0</td>\n",
       "      <td>NaN</td>\n",
       "      <td>NaN</td>\n",
       "      <td>NaN</td>\n",
       "      <td>NaN</td>\n",
       "      <td>45.0</td>\n",
       "      <td>область</td>\n",
       "    </tr>\n",
       "    <tr>\n",
       "      <td>8779</td>\n",
       "      <td>9</td>\n",
       "      <td>620000.0</td>\n",
       "      <td>36.0</td>\n",
       "      <td>2018-01-15T00:00:00</td>\n",
       "      <td>1</td>\n",
       "      <td>2.65</td>\n",
       "      <td>5.0</td>\n",
       "      <td>19.0</td>\n",
       "      <td>5</td>\n",
       "      <td>False</td>\n",
       "      <td>...</td>\n",
       "      <td>0.0</td>\n",
       "      <td>Бокситогорск</td>\n",
       "      <td>26944.0</td>\n",
       "      <td>53379.0</td>\n",
       "      <td>NaN</td>\n",
       "      <td>NaN</td>\n",
       "      <td>NaN</td>\n",
       "      <td>NaN</td>\n",
       "      <td>45.0</td>\n",
       "      <td>область</td>\n",
       "    </tr>\n",
       "    <tr>\n",
       "      <td>23153</td>\n",
       "      <td>9</td>\n",
       "      <td>650000.0</td>\n",
       "      <td>41.0</td>\n",
       "      <td>2017-10-13T00:00:00</td>\n",
       "      <td>2</td>\n",
       "      <td>2.65</td>\n",
       "      <td>3.0</td>\n",
       "      <td>28.0</td>\n",
       "      <td>1</td>\n",
       "      <td>False</td>\n",
       "      <td>...</td>\n",
       "      <td>0.0</td>\n",
       "      <td>Бокситогорск</td>\n",
       "      <td>26944.0</td>\n",
       "      <td>53379.0</td>\n",
       "      <td>NaN</td>\n",
       "      <td>NaN</td>\n",
       "      <td>NaN</td>\n",
       "      <td>NaN</td>\n",
       "      <td>14.0</td>\n",
       "      <td>область</td>\n",
       "    </tr>\n",
       "    <tr>\n",
       "      <td>14637</td>\n",
       "      <td>11</td>\n",
       "      <td>750000.0</td>\n",
       "      <td>42.0</td>\n",
       "      <td>2017-12-18T00:00:00</td>\n",
       "      <td>2</td>\n",
       "      <td>2.65</td>\n",
       "      <td>5.0</td>\n",
       "      <td>30.5</td>\n",
       "      <td>5</td>\n",
       "      <td>False</td>\n",
       "      <td>...</td>\n",
       "      <td>0.0</td>\n",
       "      <td>Бокситогорск</td>\n",
       "      <td>26944.0</td>\n",
       "      <td>53379.0</td>\n",
       "      <td>NaN</td>\n",
       "      <td>NaN</td>\n",
       "      <td>NaN</td>\n",
       "      <td>NaN</td>\n",
       "      <td>45.0</td>\n",
       "      <td>область</td>\n",
       "    </tr>\n",
       "    <tr>\n",
       "      <td>...</td>\n",
       "      <td>...</td>\n",
       "      <td>...</td>\n",
       "      <td>...</td>\n",
       "      <td>...</td>\n",
       "      <td>...</td>\n",
       "      <td>...</td>\n",
       "      <td>...</td>\n",
       "      <td>...</td>\n",
       "      <td>...</td>\n",
       "      <td>...</td>\n",
       "      <td>...</td>\n",
       "      <td>...</td>\n",
       "      <td>...</td>\n",
       "      <td>...</td>\n",
       "      <td>...</td>\n",
       "      <td>...</td>\n",
       "      <td>...</td>\n",
       "      <td>...</td>\n",
       "      <td>...</td>\n",
       "      <td>...</td>\n",
       "      <td>...</td>\n",
       "    </tr>\n",
       "    <tr>\n",
       "      <td>21252</td>\n",
       "      <td>16</td>\n",
       "      <td>3100000.0</td>\n",
       "      <td>58.6</td>\n",
       "      <td>2016-09-07T00:00:00</td>\n",
       "      <td>2</td>\n",
       "      <td>2.60</td>\n",
       "      <td>5.0</td>\n",
       "      <td>31.7</td>\n",
       "      <td>4</td>\n",
       "      <td>False</td>\n",
       "      <td>...</td>\n",
       "      <td>0.0</td>\n",
       "      <td>село Русско-Высоцкое</td>\n",
       "      <td>26944.0</td>\n",
       "      <td>34085.0</td>\n",
       "      <td>NaN</td>\n",
       "      <td>NaN</td>\n",
       "      <td>NaN</td>\n",
       "      <td>NaN</td>\n",
       "      <td>778.0</td>\n",
       "      <td>область</td>\n",
       "    </tr>\n",
       "    <tr>\n",
       "      <td>8810</td>\n",
       "      <td>11</td>\n",
       "      <td>3000000.0</td>\n",
       "      <td>58.8</td>\n",
       "      <td>2017-11-30T00:00:00</td>\n",
       "      <td>3</td>\n",
       "      <td>2.55</td>\n",
       "      <td>5.0</td>\n",
       "      <td>37.9</td>\n",
       "      <td>1</td>\n",
       "      <td>False</td>\n",
       "      <td>...</td>\n",
       "      <td>0.0</td>\n",
       "      <td>село Русско-Высоцкое</td>\n",
       "      <td>26944.0</td>\n",
       "      <td>34085.0</td>\n",
       "      <td>NaN</td>\n",
       "      <td>NaN</td>\n",
       "      <td>NaN</td>\n",
       "      <td>NaN</td>\n",
       "      <td>504.0</td>\n",
       "      <td>область</td>\n",
       "    </tr>\n",
       "    <tr>\n",
       "      <td>19176</td>\n",
       "      <td>8</td>\n",
       "      <td>1100000.0</td>\n",
       "      <td>30.0</td>\n",
       "      <td>2017-04-17T00:00:00</td>\n",
       "      <td>1</td>\n",
       "      <td>2.65</td>\n",
       "      <td>2.0</td>\n",
       "      <td>15.8</td>\n",
       "      <td>1</td>\n",
       "      <td>False</td>\n",
       "      <td>...</td>\n",
       "      <td>0.0</td>\n",
       "      <td>село Старая Ладога</td>\n",
       "      <td>26944.0</td>\n",
       "      <td>34085.0</td>\n",
       "      <td>NaN</td>\n",
       "      <td>NaN</td>\n",
       "      <td>NaN</td>\n",
       "      <td>NaN</td>\n",
       "      <td>NaN</td>\n",
       "      <td>область</td>\n",
       "    </tr>\n",
       "    <tr>\n",
       "      <td>4672</td>\n",
       "      <td>0</td>\n",
       "      <td>1800000.0</td>\n",
       "      <td>55.0</td>\n",
       "      <td>2018-02-18T00:00:00</td>\n",
       "      <td>2</td>\n",
       "      <td>2.65</td>\n",
       "      <td>3.0</td>\n",
       "      <td>30.5</td>\n",
       "      <td>1</td>\n",
       "      <td>False</td>\n",
       "      <td>...</td>\n",
       "      <td>0.0</td>\n",
       "      <td>село Старая Ладога</td>\n",
       "      <td>26944.0</td>\n",
       "      <td>34085.0</td>\n",
       "      <td>NaN</td>\n",
       "      <td>NaN</td>\n",
       "      <td>NaN</td>\n",
       "      <td>NaN</td>\n",
       "      <td>45.0</td>\n",
       "      <td>область</td>\n",
       "    </tr>\n",
       "    <tr>\n",
       "      <td>15459</td>\n",
       "      <td>8</td>\n",
       "      <td>2000000.0</td>\n",
       "      <td>59.0</td>\n",
       "      <td>2018-11-18T00:00:00</td>\n",
       "      <td>3</td>\n",
       "      <td>2.65</td>\n",
       "      <td>2.0</td>\n",
       "      <td>42.3</td>\n",
       "      <td>2</td>\n",
       "      <td>False</td>\n",
       "      <td>...</td>\n",
       "      <td>1.0</td>\n",
       "      <td>село Шум</td>\n",
       "      <td>26944.0</td>\n",
       "      <td>34085.0</td>\n",
       "      <td>NaN</td>\n",
       "      <td>NaN</td>\n",
       "      <td>NaN</td>\n",
       "      <td>NaN</td>\n",
       "      <td>9.0</td>\n",
       "      <td>область</td>\n",
       "    </tr>\n",
       "  </tbody>\n",
       "</table>\n",
       "<p>5510 rows × 23 columns</p>\n",
       "</div>"
      ],
      "text/plain": [
       "       total_images  last_price  total_area first_day_exposition  rooms  \\\n",
       "1053             13    550000.0        29.0  2018-02-01T00:00:00      1   \n",
       "8630              3    560000.0        32.0  2018-06-16T00:00:00      1   \n",
       "8779              9    620000.0        36.0  2018-01-15T00:00:00      1   \n",
       "23153             9    650000.0        41.0  2017-10-13T00:00:00      2   \n",
       "14637            11    750000.0        42.0  2017-12-18T00:00:00      2   \n",
       "...             ...         ...         ...                  ...    ...   \n",
       "21252            16   3100000.0        58.6  2016-09-07T00:00:00      2   \n",
       "8810             11   3000000.0        58.8  2017-11-30T00:00:00      3   \n",
       "19176             8   1100000.0        30.0  2017-04-17T00:00:00      1   \n",
       "4672              0   1800000.0        55.0  2018-02-18T00:00:00      2   \n",
       "15459             8   2000000.0        59.0  2018-11-18T00:00:00      3   \n",
       "\n",
       "       ceiling_height  floors_total  living_area  floor  is_apartment  ...  \\\n",
       "1053             5.00           3.0         17.6      1         False  ...   \n",
       "8630             2.65           3.0         17.0      1         False  ...   \n",
       "8779             2.65           5.0         19.0      5         False  ...   \n",
       "23153            2.65           3.0         28.0      1         False  ...   \n",
       "14637            2.65           5.0         30.5      5         False  ...   \n",
       "...               ...           ...          ...    ...           ...  ...   \n",
       "21252            2.60           5.0         31.7      4         False  ...   \n",
       "8810             2.55           5.0         37.9      1         False  ...   \n",
       "19176            2.65           2.0         15.8      1         False  ...   \n",
       "4672             2.65           3.0         30.5      1         False  ...   \n",
       "15459            2.65           2.0         42.3      2         False  ...   \n",
       "\n",
       "       balcony         locality_name  airports_nearest  cityCenters_nearest  \\\n",
       "1053       0.0          Бокситогорск           26944.0              53379.0   \n",
       "8630       0.0          Бокситогорск           26944.0              53379.0   \n",
       "8779       0.0          Бокситогорск           26944.0              53379.0   \n",
       "23153      0.0          Бокситогорск           26944.0              53379.0   \n",
       "14637      0.0          Бокситогорск           26944.0              53379.0   \n",
       "...        ...                   ...               ...                  ...   \n",
       "21252      0.0  село Русско-Высоцкое           26944.0              34085.0   \n",
       "8810       0.0  село Русско-Высоцкое           26944.0              34085.0   \n",
       "19176      0.0    село Старая Ладога           26944.0              34085.0   \n",
       "4672       0.0    село Старая Ладога           26944.0              34085.0   \n",
       "15459      1.0              село Шум           26944.0              34085.0   \n",
       "\n",
       "      parks_around3000  parks_nearest  ponds_around3000  ponds_nearest  \\\n",
       "1053               NaN            NaN               NaN            NaN   \n",
       "8630               NaN            NaN               NaN            NaN   \n",
       "8779               NaN            NaN               NaN            NaN   \n",
       "23153              NaN            NaN               NaN            NaN   \n",
       "14637              NaN            NaN               NaN            NaN   \n",
       "...                ...            ...               ...            ...   \n",
       "21252              NaN            NaN               NaN            NaN   \n",
       "8810               NaN            NaN               NaN            NaN   \n",
       "19176              NaN            NaN               NaN            NaN   \n",
       "4672               NaN            NaN               NaN            NaN   \n",
       "15459              NaN            NaN               NaN            NaN   \n",
       "\n",
       "       days_exposition  local_group  \n",
       "1053               6.0      область  \n",
       "8630              45.0      область  \n",
       "8779              45.0      область  \n",
       "23153             14.0      область  \n",
       "14637             45.0      область  \n",
       "...                ...          ...  \n",
       "21252            778.0      область  \n",
       "8810             504.0      область  \n",
       "19176              NaN      область  \n",
       "4672              45.0      область  \n",
       "15459              9.0      область  \n",
       "\n",
       "[5510 rows x 23 columns]"
      ]
     },
     "execution_count": 24,
     "metadata": {},
     "output_type": "execute_result"
    }
   ],
   "source": [
    "data[(data['parks_around3000'].isna() == True) & (data['parks_nearest'].isna() == True)]"
   ]
  },
  {
   "cell_type": "markdown",
   "metadata": {},
   "source": [
    "Пропуски в столбце *parks_around3000* говорят о том, что парков рядом нет. Вставим вместо них 0.\n",
    "<br> Пропуски в столбце *parks_nearest* заменим на 3001, чтобы избежать проблем с преобразованием формата."
   ]
  },
  {
   "cell_type": "code",
   "execution_count": 25,
   "metadata": {},
   "outputs": [
    {
     "name": "stdout",
     "output_type": "stream",
     "text": [
      "Пропусков parks_around3000 после обработки: 0\n",
      "Пропусков parks_nearest после обработки: 0\n"
     ]
    }
   ],
   "source": [
    "data['parks_around3000'] = data['parks_around3000'].fillna(0) #заменям пропуски на 0\n",
    "data['parks_nearest'] = data['parks_nearest'].fillna(3001)\n",
    "print('Пропусков parks_around3000 после обработки:', data['parks_around3000'].isna().sum())\n",
    "print('Пропусков parks_nearest после обработки:', data['parks_nearest'].isna().sum())"
   ]
  },
  {
   "cell_type": "markdown",
   "metadata": {},
   "source": [
    "Аналогично информации о парках, столбцы *ponds_around3000* и *ponds_nearest* заполняются автоматически. \n",
    "<br>В столбце *ponds_around3000* пропущены значения, если рядом нет пруда. Поставим вместо пропуска 0.\n",
    "<br>В столбце *parks_nearest* заменим на 3001."
   ]
  },
  {
   "cell_type": "code",
   "execution_count": 26,
   "metadata": {},
   "outputs": [
    {
     "name": "stdout",
     "output_type": "stream",
     "text": [
      "Пропусков ponds_around3000 после обработки: 0\n",
      "Пропусков parks_nearest после обработки: 0\n"
     ]
    }
   ],
   "source": [
    "data['ponds_around3000'] = data['ponds_around3000'].fillna(0) #замена пропусков на 0\n",
    "data['ponds_nearest'] = data['ponds_nearest'].fillna(3001)\n",
    "print('Пропусков ponds_around3000 после обработки:', data['parks_around3000'].isna().sum())\n",
    "print('Пропусков parks_nearest после обработки:', data['parks_nearest'].isna().sum())"
   ]
  },
  {
   "cell_type": "markdown",
   "metadata": {},
   "source": [
    "Разберемся с пропусками в столбце *days_exposition*. Эти пропуска могли получиться, если объявление на момент выгрузки данных из базы данных еще не были сняты с публикации. Оставим эти пропуски незаполненными.\n",
    "<p> В процессе предобработки у нас могли возникнуть дубликаты. Подсчитаем их количество."
   ]
  },
  {
   "cell_type": "code",
   "execution_count": 27,
   "metadata": {},
   "outputs": [
    {
     "data": {
      "text/plain": [
       "0"
      ]
     },
     "execution_count": 27,
     "metadata": {},
     "output_type": "execute_result"
    }
   ],
   "source": [
    "#подсчет числа дубликатов\n",
    "data.duplicated().sum()"
   ]
  },
  {
   "cell_type": "markdown",
   "metadata": {},
   "source": [
    "Теперь посмотрим на наши данные данные после предобработки."
   ]
  },
  {
   "cell_type": "code",
   "execution_count": 28,
   "metadata": {},
   "outputs": [
    {
     "name": "stdout",
     "output_type": "stream",
     "text": [
      "<class 'pandas.core.frame.DataFrame'>\n",
      "Int64Index: 23650 entries, 1053 to 15459\n",
      "Data columns (total 23 columns):\n",
      "total_images            23650 non-null int64\n",
      "last_price              23650 non-null float64\n",
      "total_area              23650 non-null float64\n",
      "first_day_exposition    23650 non-null object\n",
      "rooms                   23650 non-null int64\n",
      "ceiling_height          23650 non-null float64\n",
      "floors_total            23650 non-null float64\n",
      "living_area             23650 non-null float64\n",
      "floor                   23650 non-null int64\n",
      "is_apartment            23650 non-null bool\n",
      "studio                  23650 non-null bool\n",
      "open_plan               23650 non-null bool\n",
      "kitchen_area            23650 non-null float64\n",
      "balcony                 23650 non-null float64\n",
      "locality_name           23650 non-null object\n",
      "airports_nearest        23650 non-null float64\n",
      "cityCenters_nearest     23650 non-null float64\n",
      "parks_around3000        23650 non-null float64\n",
      "parks_nearest           23650 non-null float64\n",
      "ponds_around3000        23650 non-null float64\n",
      "ponds_nearest           23650 non-null float64\n",
      "days_exposition         20470 non-null float64\n",
      "local_group             23650 non-null object\n",
      "dtypes: bool(3), float64(14), int64(3), object(3)\n",
      "memory usage: 3.9+ MB\n"
     ]
    }
   ],
   "source": [
    "data.info()"
   ]
  },
  {
   "cell_type": "markdown",
   "metadata": {},
   "source": [
    "Все возможные пропуски убраны. Данные готовы к дальнейшей работе."
   ]
  },
  {
   "cell_type": "markdown",
   "metadata": {},
   "source": [
    "### Вывод"
   ]
  },
  {
   "cell_type": "markdown",
   "metadata": {},
   "source": [
    "В предоставленом сете были пропуски в количесвтенных, качетсвенных и логических переменных. Для каждой категории был выбран подходящий метод заолнения пропусков. Так как в большинсве случаев мы имеем дело с типовой застройкой, то количественные характеристики домов и квартир, такие как этажность дома, высота потолков, число комнат, жилая площадь и площадь кухни были сгруппированы и заполнены медианами. В пропуска в количестве балконов заменили на нули. Столбец *is_apartment* заполнялся логической переменой, пропуски в нем заменили на логтческое выражение False. Так как расстояние до аэропорта считается системой и центра наиболее считается системой автоматически и важно для Санк-Петербурга, то для заполнения этих данных разделили сет на две группы. Растояние до аэропорта  посчитали как медиану, а до растсоние до центра заполнили ближайшими значениями в зависимости от цены и площади квартиры. Также автоматически заполняется количестов ближайших парков и прудов и растояние до них. Пропуски говорят о том, что парков и прудов рядом нет, поэтому их заполнили нулями, а расстоние средним (до парков). Пропуска в столбце время экспозиции оставили не обработанными, так как это может говорить о том, что объявление не снято с публикации. Данные были проверены на наличие возможных дубликатов. Теперь таблица готова к дальнейшей работе. "
   ]
  },
  {
   "cell_type": "markdown",
   "metadata": {},
   "source": [
    "### Шаг 3. Изменение типов данных <a id='step3'></a>"
   ]
  },
  {
   "cell_type": "markdown",
   "metadata": {},
   "source": [
    "Вызовем таблицу с данными, чтобы оценить необходимый формат данных."
   ]
  },
  {
   "cell_type": "code",
   "execution_count": 29,
   "metadata": {},
   "outputs": [
    {
     "data": {
      "text/html": [
       "<div>\n",
       "<style scoped>\n",
       "    .dataframe tbody tr th:only-of-type {\n",
       "        vertical-align: middle;\n",
       "    }\n",
       "\n",
       "    .dataframe tbody tr th {\n",
       "        vertical-align: top;\n",
       "    }\n",
       "\n",
       "    .dataframe thead th {\n",
       "        text-align: right;\n",
       "    }\n",
       "</style>\n",
       "<table border=\"1\" class=\"dataframe\">\n",
       "  <thead>\n",
       "    <tr style=\"text-align: right;\">\n",
       "      <th></th>\n",
       "      <th>total_images</th>\n",
       "      <th>last_price</th>\n",
       "      <th>total_area</th>\n",
       "      <th>first_day_exposition</th>\n",
       "      <th>rooms</th>\n",
       "      <th>ceiling_height</th>\n",
       "      <th>floors_total</th>\n",
       "      <th>living_area</th>\n",
       "      <th>floor</th>\n",
       "      <th>is_apartment</th>\n",
       "      <th>...</th>\n",
       "      <th>balcony</th>\n",
       "      <th>locality_name</th>\n",
       "      <th>airports_nearest</th>\n",
       "      <th>cityCenters_nearest</th>\n",
       "      <th>parks_around3000</th>\n",
       "      <th>parks_nearest</th>\n",
       "      <th>ponds_around3000</th>\n",
       "      <th>ponds_nearest</th>\n",
       "      <th>days_exposition</th>\n",
       "      <th>local_group</th>\n",
       "    </tr>\n",
       "  </thead>\n",
       "  <tbody>\n",
       "    <tr>\n",
       "      <td>1053</td>\n",
       "      <td>13</td>\n",
       "      <td>550000.0</td>\n",
       "      <td>29.0</td>\n",
       "      <td>2018-02-01T00:00:00</td>\n",
       "      <td>1</td>\n",
       "      <td>5.00</td>\n",
       "      <td>3.0</td>\n",
       "      <td>17.6</td>\n",
       "      <td>1</td>\n",
       "      <td>False</td>\n",
       "      <td>...</td>\n",
       "      <td>0.0</td>\n",
       "      <td>Бокситогорск</td>\n",
       "      <td>26944.0</td>\n",
       "      <td>53379.0</td>\n",
       "      <td>0.0</td>\n",
       "      <td>3001.0</td>\n",
       "      <td>0.0</td>\n",
       "      <td>3001.0</td>\n",
       "      <td>6.0</td>\n",
       "      <td>область</td>\n",
       "    </tr>\n",
       "    <tr>\n",
       "      <td>8630</td>\n",
       "      <td>3</td>\n",
       "      <td>560000.0</td>\n",
       "      <td>32.0</td>\n",
       "      <td>2018-06-16T00:00:00</td>\n",
       "      <td>1</td>\n",
       "      <td>2.65</td>\n",
       "      <td>3.0</td>\n",
       "      <td>17.0</td>\n",
       "      <td>1</td>\n",
       "      <td>False</td>\n",
       "      <td>...</td>\n",
       "      <td>0.0</td>\n",
       "      <td>Бокситогорск</td>\n",
       "      <td>26944.0</td>\n",
       "      <td>53379.0</td>\n",
       "      <td>0.0</td>\n",
       "      <td>3001.0</td>\n",
       "      <td>0.0</td>\n",
       "      <td>3001.0</td>\n",
       "      <td>45.0</td>\n",
       "      <td>область</td>\n",
       "    </tr>\n",
       "    <tr>\n",
       "      <td>8779</td>\n",
       "      <td>9</td>\n",
       "      <td>620000.0</td>\n",
       "      <td>36.0</td>\n",
       "      <td>2018-01-15T00:00:00</td>\n",
       "      <td>1</td>\n",
       "      <td>2.65</td>\n",
       "      <td>5.0</td>\n",
       "      <td>19.0</td>\n",
       "      <td>5</td>\n",
       "      <td>False</td>\n",
       "      <td>...</td>\n",
       "      <td>0.0</td>\n",
       "      <td>Бокситогорск</td>\n",
       "      <td>26944.0</td>\n",
       "      <td>53379.0</td>\n",
       "      <td>0.0</td>\n",
       "      <td>3001.0</td>\n",
       "      <td>0.0</td>\n",
       "      <td>3001.0</td>\n",
       "      <td>45.0</td>\n",
       "      <td>область</td>\n",
       "    </tr>\n",
       "    <tr>\n",
       "      <td>23153</td>\n",
       "      <td>9</td>\n",
       "      <td>650000.0</td>\n",
       "      <td>41.0</td>\n",
       "      <td>2017-10-13T00:00:00</td>\n",
       "      <td>2</td>\n",
       "      <td>2.65</td>\n",
       "      <td>3.0</td>\n",
       "      <td>28.0</td>\n",
       "      <td>1</td>\n",
       "      <td>False</td>\n",
       "      <td>...</td>\n",
       "      <td>0.0</td>\n",
       "      <td>Бокситогорск</td>\n",
       "      <td>26944.0</td>\n",
       "      <td>53379.0</td>\n",
       "      <td>0.0</td>\n",
       "      <td>3001.0</td>\n",
       "      <td>0.0</td>\n",
       "      <td>3001.0</td>\n",
       "      <td>14.0</td>\n",
       "      <td>область</td>\n",
       "    </tr>\n",
       "    <tr>\n",
       "      <td>14637</td>\n",
       "      <td>11</td>\n",
       "      <td>750000.0</td>\n",
       "      <td>42.0</td>\n",
       "      <td>2017-12-18T00:00:00</td>\n",
       "      <td>2</td>\n",
       "      <td>2.65</td>\n",
       "      <td>5.0</td>\n",
       "      <td>30.5</td>\n",
       "      <td>5</td>\n",
       "      <td>False</td>\n",
       "      <td>...</td>\n",
       "      <td>0.0</td>\n",
       "      <td>Бокситогорск</td>\n",
       "      <td>26944.0</td>\n",
       "      <td>53379.0</td>\n",
       "      <td>0.0</td>\n",
       "      <td>3001.0</td>\n",
       "      <td>0.0</td>\n",
       "      <td>3001.0</td>\n",
       "      <td>45.0</td>\n",
       "      <td>область</td>\n",
       "    </tr>\n",
       "  </tbody>\n",
       "</table>\n",
       "<p>5 rows × 23 columns</p>\n",
       "</div>"
      ],
      "text/plain": [
       "       total_images  last_price  total_area first_day_exposition  rooms  \\\n",
       "1053             13    550000.0        29.0  2018-02-01T00:00:00      1   \n",
       "8630              3    560000.0        32.0  2018-06-16T00:00:00      1   \n",
       "8779              9    620000.0        36.0  2018-01-15T00:00:00      1   \n",
       "23153             9    650000.0        41.0  2017-10-13T00:00:00      2   \n",
       "14637            11    750000.0        42.0  2017-12-18T00:00:00      2   \n",
       "\n",
       "       ceiling_height  floors_total  living_area  floor  is_apartment  ...  \\\n",
       "1053             5.00           3.0         17.6      1         False  ...   \n",
       "8630             2.65           3.0         17.0      1         False  ...   \n",
       "8779             2.65           5.0         19.0      5         False  ...   \n",
       "23153            2.65           3.0         28.0      1         False  ...   \n",
       "14637            2.65           5.0         30.5      5         False  ...   \n",
       "\n",
       "       balcony  locality_name  airports_nearest  cityCenters_nearest  \\\n",
       "1053       0.0   Бокситогорск           26944.0              53379.0   \n",
       "8630       0.0   Бокситогорск           26944.0              53379.0   \n",
       "8779       0.0   Бокситогорск           26944.0              53379.0   \n",
       "23153      0.0   Бокситогорск           26944.0              53379.0   \n",
       "14637      0.0   Бокситогорск           26944.0              53379.0   \n",
       "\n",
       "      parks_around3000  parks_nearest  ponds_around3000  ponds_nearest  \\\n",
       "1053               0.0         3001.0               0.0         3001.0   \n",
       "8630               0.0         3001.0               0.0         3001.0   \n",
       "8779               0.0         3001.0               0.0         3001.0   \n",
       "23153              0.0         3001.0               0.0         3001.0   \n",
       "14637              0.0         3001.0               0.0         3001.0   \n",
       "\n",
       "       days_exposition  local_group  \n",
       "1053               6.0      область  \n",
       "8630              45.0      область  \n",
       "8779              45.0      область  \n",
       "23153             14.0      область  \n",
       "14637             45.0      область  \n",
       "\n",
       "[5 rows x 23 columns]"
      ]
     },
     "execution_count": 29,
     "metadata": {},
     "output_type": "execute_result"
    }
   ],
   "source": [
    "data.head()"
   ]
  },
  {
   "cell_type": "markdown",
   "metadata": {},
   "source": [
    "Столбцы c ценой на момент снятия публикации (*last_price*), высотой здания (*floors_total*), количеством балконов (*balcony*), растояние до аэропорта и центра города (*airports_nearest, cityCenters_nearest*), количеством и отдаленностью парков и прудов (*parks_around3000, parks_nearest, ponds_around3000,ponds_nearest*), а также днями публикации (*days_exposition*) переведем из float в int. Во всех этих данных у нас нет цифр после запятой, либо они не существенные и не повлияют на результат анализа.\n",
    "<br> Так как все величины явяляются числами, для замены формата используем astype."
   ]
  },
  {
   "cell_type": "code",
   "execution_count": 30,
   "metadata": {},
   "outputs": [],
   "source": [
    "#Смена типа для строк без пропусков\n",
    "data[['last_price', 'floors_total', 'balcony', 'airports_nearest', 'airports_nearest', 'cityCenters_nearest',\n",
    "     'parks_around3000', 'parks_nearest', 'ponds_around3000', 'ponds_nearest']] = (\n",
    "data[['last_price', 'floors_total', 'balcony', 'airports_nearest', 'airports_nearest', 'cityCenters_nearest',\n",
    "     'parks_around3000', 'parks_nearest', 'ponds_around3000', 'ponds_nearest']].astype('int', errors = 'ignore')) \n",
    "                                                                                                         \n",
    "#errors = 'ignore' для игнорирования NaN"
   ]
  },
  {
   "cell_type": "markdown",
   "metadata": {},
   "source": [
    "Изменим формат даты публикации на datetime. Используем функциию to_datetime."
   ]
  },
  {
   "cell_type": "code",
   "execution_count": 31,
   "metadata": {},
   "outputs": [
    {
     "data": {
      "text/plain": [
       "1053   2018-02-01\n",
       "8630   2018-06-16\n",
       "8779   2018-01-15\n",
       "Name: first_day_exposition, dtype: datetime64[ns]"
      ]
     },
     "execution_count": 31,
     "metadata": {},
     "output_type": "execute_result"
    }
   ],
   "source": [
    "data['first_day_exposition'] = pd.to_datetime(data['first_day_exposition'], format = '%Y-%m-%dT%H:%M:%S') #замена формата\n",
    "data['first_day_exposition'].head(3) #вывод первых трех позиций"
   ]
  },
  {
   "cell_type": "markdown",
   "metadata": {},
   "source": [
    "Также поменяем название населенных пунктов на тип string."
   ]
  },
  {
   "cell_type": "code",
   "execution_count": 32,
   "metadata": {},
   "outputs": [],
   "source": [
    "data['locality_name'] = data['locality_name'].astype('str')"
   ]
  },
  {
   "cell_type": "markdown",
   "metadata": {},
   "source": [
    "Оценим готовность данных к дальнейшему анализу."
   ]
  },
  {
   "cell_type": "code",
   "execution_count": 33,
   "metadata": {
    "scrolled": false
   },
   "outputs": [
    {
     "data": {
      "text/plain": [
       "total_images                     int64\n",
       "last_price                       int64\n",
       "total_area                     float64\n",
       "first_day_exposition    datetime64[ns]\n",
       "rooms                            int64\n",
       "ceiling_height                 float64\n",
       "floors_total                     int64\n",
       "living_area                    float64\n",
       "floor                            int64\n",
       "is_apartment                      bool\n",
       "studio                            bool\n",
       "open_plan                         bool\n",
       "kitchen_area                   float64\n",
       "balcony                          int64\n",
       "locality_name                   object\n",
       "airports_nearest                 int64\n",
       "cityCenters_nearest              int64\n",
       "parks_around3000                 int64\n",
       "parks_nearest                    int64\n",
       "ponds_around3000                 int64\n",
       "ponds_nearest                    int64\n",
       "days_exposition                float64\n",
       "local_group                     object\n",
       "dtype: object"
      ]
     },
     "execution_count": 33,
     "metadata": {},
     "output_type": "execute_result"
    }
   ],
   "source": [
    "data.dtypes"
   ]
  },
  {
   "cell_type": "markdown",
   "metadata": {},
   "source": [
    "### Вывод"
   ]
  },
  {
   "cell_type": "markdown",
   "metadata": {},
   "source": [
    "Заменили почти все количесвенные переменные на тип int, так как целых чисел достаточно для анализа. Значения площадей оставили в формате float, так как тут важна точность. Дату изменили на формат datetime, что позволить проводит использовать дополнительный функционал этого формата данных."
   ]
  },
  {
   "cell_type": "markdown",
   "metadata": {},
   "source": [
    "### Шаг 4. Добавление основных технико - экономических показателей квартиры <a id='step4'></a>"
   ]
  },
  {
   "cell_type": "markdown",
   "metadata": {},
   "source": [
    "Для более глубокого анализа нам необходимо посчитать и добавить в таблицу следующие параметра:\n",
    "* цена за квадратный метр (*price_per_sqm*)\n",
    "* день недели, месяц и год публикации объявления (*wday_exposition, month_exposition, year_exposition*)\n",
    "* этаж квартиры (первый, последний, другой) (*floor_id*)\n",
    "* соотношение жилой площади и общей площади (*ratio_liv_to_total*)\n",
    "* отношение площади кухни к общей площади (*ratio_kitch_to_total*)\n",
    "<p> Для определения цены за квадратный метр разделим значения стоимости квартиры на обшую площадь."
   ]
  },
  {
   "cell_type": "code",
   "execution_count": 34,
   "metadata": {},
   "outputs": [
    {
     "data": {
      "text/html": [
       "<div>\n",
       "<style scoped>\n",
       "    .dataframe tbody tr th:only-of-type {\n",
       "        vertical-align: middle;\n",
       "    }\n",
       "\n",
       "    .dataframe tbody tr th {\n",
       "        vertical-align: top;\n",
       "    }\n",
       "\n",
       "    .dataframe thead th {\n",
       "        text-align: right;\n",
       "    }\n",
       "</style>\n",
       "<table border=\"1\" class=\"dataframe\">\n",
       "  <thead>\n",
       "    <tr style=\"text-align: right;\">\n",
       "      <th></th>\n",
       "      <th>last_price</th>\n",
       "      <th>total_area</th>\n",
       "      <th>price_per_sqm</th>\n",
       "    </tr>\n",
       "  </thead>\n",
       "  <tbody>\n",
       "    <tr>\n",
       "      <td>1053</td>\n",
       "      <td>550000</td>\n",
       "      <td>29.0</td>\n",
       "      <td>18965.5</td>\n",
       "    </tr>\n",
       "    <tr>\n",
       "      <td>8630</td>\n",
       "      <td>560000</td>\n",
       "      <td>32.0</td>\n",
       "      <td>17500.0</td>\n",
       "    </tr>\n",
       "    <tr>\n",
       "      <td>8779</td>\n",
       "      <td>620000</td>\n",
       "      <td>36.0</td>\n",
       "      <td>17222.2</td>\n",
       "    </tr>\n",
       "    <tr>\n",
       "      <td>23153</td>\n",
       "      <td>650000</td>\n",
       "      <td>41.0</td>\n",
       "      <td>15853.7</td>\n",
       "    </tr>\n",
       "    <tr>\n",
       "      <td>14637</td>\n",
       "      <td>750000</td>\n",
       "      <td>42.0</td>\n",
       "      <td>17857.1</td>\n",
       "    </tr>\n",
       "  </tbody>\n",
       "</table>\n",
       "</div>"
      ],
      "text/plain": [
       "       last_price  total_area  price_per_sqm\n",
       "1053       550000        29.0        18965.5\n",
       "8630       560000        32.0        17500.0\n",
       "8779       620000        36.0        17222.2\n",
       "23153      650000        41.0        15853.7\n",
       "14637      750000        42.0        17857.1"
      ]
     },
     "execution_count": 34,
     "metadata": {},
     "output_type": "execute_result"
    }
   ],
   "source": [
    "#определение цены за квадратный метр\n",
    "data['price_per_sqm'] = data['last_price'] / data['total_area']\n",
    "data['price_per_sqm'] = data['price_per_sqm'].round(1) #округление до 1 знака после запятой\n",
    "data[['last_price', 'total_area', 'price_per_sqm']].head()"
   ]
  },
  {
   "cell_type": "markdown",
   "metadata": {},
   "source": [
    "Добавим в таблицу три столбца с днем недели, месяцем и годом публикации объявления."
   ]
  },
  {
   "cell_type": "code",
   "execution_count": 35,
   "metadata": {},
   "outputs": [
    {
     "data": {
      "text/html": [
       "<div>\n",
       "<style scoped>\n",
       "    .dataframe tbody tr th:only-of-type {\n",
       "        vertical-align: middle;\n",
       "    }\n",
       "\n",
       "    .dataframe tbody tr th {\n",
       "        vertical-align: top;\n",
       "    }\n",
       "\n",
       "    .dataframe thead th {\n",
       "        text-align: right;\n",
       "    }\n",
       "</style>\n",
       "<table border=\"1\" class=\"dataframe\">\n",
       "  <thead>\n",
       "    <tr style=\"text-align: right;\">\n",
       "      <th></th>\n",
       "      <th>first_day_exposition</th>\n",
       "      <th>wday_exposition</th>\n",
       "      <th>month_exposition</th>\n",
       "      <th>year_exposition</th>\n",
       "    </tr>\n",
       "  </thead>\n",
       "  <tbody>\n",
       "    <tr>\n",
       "      <td>1053</td>\n",
       "      <td>2018-02-01</td>\n",
       "      <td>3</td>\n",
       "      <td>2</td>\n",
       "      <td>2018</td>\n",
       "    </tr>\n",
       "    <tr>\n",
       "      <td>8630</td>\n",
       "      <td>2018-06-16</td>\n",
       "      <td>5</td>\n",
       "      <td>6</td>\n",
       "      <td>2018</td>\n",
       "    </tr>\n",
       "    <tr>\n",
       "      <td>8779</td>\n",
       "      <td>2018-01-15</td>\n",
       "      <td>0</td>\n",
       "      <td>1</td>\n",
       "      <td>2018</td>\n",
       "    </tr>\n",
       "    <tr>\n",
       "      <td>23153</td>\n",
       "      <td>2017-10-13</td>\n",
       "      <td>4</td>\n",
       "      <td>10</td>\n",
       "      <td>2017</td>\n",
       "    </tr>\n",
       "    <tr>\n",
       "      <td>14637</td>\n",
       "      <td>2017-12-18</td>\n",
       "      <td>0</td>\n",
       "      <td>12</td>\n",
       "      <td>2017</td>\n",
       "    </tr>\n",
       "  </tbody>\n",
       "</table>\n",
       "</div>"
      ],
      "text/plain": [
       "      first_day_exposition  wday_exposition  month_exposition  year_exposition\n",
       "1053            2018-02-01                3                 2             2018\n",
       "8630            2018-06-16                5                 6             2018\n",
       "8779            2018-01-15                0                 1             2018\n",
       "23153           2017-10-13                4                10             2017\n",
       "14637           2017-12-18                0                12             2017"
      ]
     },
     "execution_count": 35,
     "metadata": {},
     "output_type": "execute_result"
    }
   ],
   "source": [
    "data['wday_exposition'] = data['first_day_exposition'].dt.weekday #добавление столбца с названием дня недели\n",
    "data['month_exposition'] = data['first_day_exposition'].dt.month #добавление столбца с названием месяцем\n",
    "data['year_exposition'] = data['first_day_exposition'].dt.year #обавление столбца с годом\n",
    "\n",
    "data[['first_day_exposition', 'wday_exposition', 'month_exposition', 'year_exposition']].head()"
   ]
  },
  {
   "cell_type": "markdown",
   "metadata": {},
   "source": [
    "Сгруппируем все этажи в три группы: первый, последний, другой."
   ]
  },
  {
   "cell_type": "code",
   "execution_count": 36,
   "metadata": {},
   "outputs": [
    {
     "data": {
      "text/plain": [
       "другой       17403\n",
       "последний     3335\n",
       "первый        2912\n",
       "Name: floor_id, dtype: int64"
      ]
     },
     "execution_count": 36,
     "metadata": {},
     "output_type": "execute_result"
    }
   ],
   "source": [
    "#функция для групптровки по этажу\n",
    "def floor_id(row):\n",
    "    if row['floor'] == 1:\n",
    "        return 'первый'\n",
    "    if row['floor'] == row['floors_total']:\n",
    "        return 'последний'\n",
    "    return 'другой'\n",
    "\n",
    "data['floor_id'] = data.apply(floor_id, axis = 1) #добавление столбца с группой\n",
    "data['floor_id'].value_counts() #вывод количесва предложений в каждой группе"
   ]
  },
  {
   "cell_type": "markdown",
   "metadata": {},
   "source": [
    "Добавим столбцы с отношением жилой площади к общей и площади кухни к общей. Для этого разделим соответсвующие столбцы друг на друга и округлим результат до 2 знаков после запятой."
   ]
  },
  {
   "cell_type": "code",
   "execution_count": 37,
   "metadata": {},
   "outputs": [],
   "source": [
    "data['ratio_liv_to_total'] = data['living_area'] / data['total_area'] \n",
    "data['ratio_kitch_to_total'] = data['kitchen_area'] / data['total_area']\n",
    "data['ratio_liv_to_total'] = data['ratio_liv_to_total'].round(2) #кругление до 2-х заков после запятой\n",
    "data['ratio_kitch_to_total'] = data['ratio_kitch_to_total'].round(2)"
   ]
  },
  {
   "cell_type": "markdown",
   "metadata": {},
   "source": [
    "Посомотрим обновленную таблицу со всеми данными о недвижимости."
   ]
  },
  {
   "cell_type": "code",
   "execution_count": 38,
   "metadata": {},
   "outputs": [
    {
     "data": {
      "text/html": [
       "<div>\n",
       "<style scoped>\n",
       "    .dataframe tbody tr th:only-of-type {\n",
       "        vertical-align: middle;\n",
       "    }\n",
       "\n",
       "    .dataframe tbody tr th {\n",
       "        vertical-align: top;\n",
       "    }\n",
       "\n",
       "    .dataframe thead th {\n",
       "        text-align: right;\n",
       "    }\n",
       "</style>\n",
       "<table border=\"1\" class=\"dataframe\">\n",
       "  <thead>\n",
       "    <tr style=\"text-align: right;\">\n",
       "      <th></th>\n",
       "      <th>total_images</th>\n",
       "      <th>last_price</th>\n",
       "      <th>total_area</th>\n",
       "      <th>first_day_exposition</th>\n",
       "      <th>rooms</th>\n",
       "      <th>ceiling_height</th>\n",
       "      <th>floors_total</th>\n",
       "      <th>living_area</th>\n",
       "      <th>floor</th>\n",
       "      <th>is_apartment</th>\n",
       "      <th>...</th>\n",
       "      <th>ponds_nearest</th>\n",
       "      <th>days_exposition</th>\n",
       "      <th>local_group</th>\n",
       "      <th>price_per_sqm</th>\n",
       "      <th>wday_exposition</th>\n",
       "      <th>month_exposition</th>\n",
       "      <th>year_exposition</th>\n",
       "      <th>floor_id</th>\n",
       "      <th>ratio_liv_to_total</th>\n",
       "      <th>ratio_kitch_to_total</th>\n",
       "    </tr>\n",
       "  </thead>\n",
       "  <tbody>\n",
       "    <tr>\n",
       "      <td>1053</td>\n",
       "      <td>13</td>\n",
       "      <td>550000</td>\n",
       "      <td>29.0</td>\n",
       "      <td>2018-02-01</td>\n",
       "      <td>1</td>\n",
       "      <td>5.00</td>\n",
       "      <td>3</td>\n",
       "      <td>17.6</td>\n",
       "      <td>1</td>\n",
       "      <td>False</td>\n",
       "      <td>...</td>\n",
       "      <td>3001</td>\n",
       "      <td>6.0</td>\n",
       "      <td>область</td>\n",
       "      <td>18965.5</td>\n",
       "      <td>3</td>\n",
       "      <td>2</td>\n",
       "      <td>2018</td>\n",
       "      <td>первый</td>\n",
       "      <td>0.61</td>\n",
       "      <td>0.31</td>\n",
       "    </tr>\n",
       "    <tr>\n",
       "      <td>8630</td>\n",
       "      <td>3</td>\n",
       "      <td>560000</td>\n",
       "      <td>32.0</td>\n",
       "      <td>2018-06-16</td>\n",
       "      <td>1</td>\n",
       "      <td>2.65</td>\n",
       "      <td>3</td>\n",
       "      <td>17.0</td>\n",
       "      <td>1</td>\n",
       "      <td>False</td>\n",
       "      <td>...</td>\n",
       "      <td>3001</td>\n",
       "      <td>45.0</td>\n",
       "      <td>область</td>\n",
       "      <td>17500.0</td>\n",
       "      <td>5</td>\n",
       "      <td>6</td>\n",
       "      <td>2018</td>\n",
       "      <td>первый</td>\n",
       "      <td>0.53</td>\n",
       "      <td>0.19</td>\n",
       "    </tr>\n",
       "    <tr>\n",
       "      <td>8779</td>\n",
       "      <td>9</td>\n",
       "      <td>620000</td>\n",
       "      <td>36.0</td>\n",
       "      <td>2018-01-15</td>\n",
       "      <td>1</td>\n",
       "      <td>2.65</td>\n",
       "      <td>5</td>\n",
       "      <td>19.0</td>\n",
       "      <td>5</td>\n",
       "      <td>False</td>\n",
       "      <td>...</td>\n",
       "      <td>3001</td>\n",
       "      <td>45.0</td>\n",
       "      <td>область</td>\n",
       "      <td>17222.2</td>\n",
       "      <td>0</td>\n",
       "      <td>1</td>\n",
       "      <td>2018</td>\n",
       "      <td>последний</td>\n",
       "      <td>0.53</td>\n",
       "      <td>0.22</td>\n",
       "    </tr>\n",
       "    <tr>\n",
       "      <td>23153</td>\n",
       "      <td>9</td>\n",
       "      <td>650000</td>\n",
       "      <td>41.0</td>\n",
       "      <td>2017-10-13</td>\n",
       "      <td>2</td>\n",
       "      <td>2.65</td>\n",
       "      <td>3</td>\n",
       "      <td>28.0</td>\n",
       "      <td>1</td>\n",
       "      <td>False</td>\n",
       "      <td>...</td>\n",
       "      <td>3001</td>\n",
       "      <td>14.0</td>\n",
       "      <td>область</td>\n",
       "      <td>15853.7</td>\n",
       "      <td>4</td>\n",
       "      <td>10</td>\n",
       "      <td>2017</td>\n",
       "      <td>первый</td>\n",
       "      <td>0.68</td>\n",
       "      <td>0.15</td>\n",
       "    </tr>\n",
       "    <tr>\n",
       "      <td>14637</td>\n",
       "      <td>11</td>\n",
       "      <td>750000</td>\n",
       "      <td>42.0</td>\n",
       "      <td>2017-12-18</td>\n",
       "      <td>2</td>\n",
       "      <td>2.65</td>\n",
       "      <td>5</td>\n",
       "      <td>30.5</td>\n",
       "      <td>5</td>\n",
       "      <td>False</td>\n",
       "      <td>...</td>\n",
       "      <td>3001</td>\n",
       "      <td>45.0</td>\n",
       "      <td>область</td>\n",
       "      <td>17857.1</td>\n",
       "      <td>0</td>\n",
       "      <td>12</td>\n",
       "      <td>2017</td>\n",
       "      <td>последний</td>\n",
       "      <td>0.73</td>\n",
       "      <td>0.21</td>\n",
       "    </tr>\n",
       "  </tbody>\n",
       "</table>\n",
       "<p>5 rows × 30 columns</p>\n",
       "</div>"
      ],
      "text/plain": [
       "       total_images  last_price  total_area first_day_exposition  rooms  \\\n",
       "1053             13      550000        29.0           2018-02-01      1   \n",
       "8630              3      560000        32.0           2018-06-16      1   \n",
       "8779              9      620000        36.0           2018-01-15      1   \n",
       "23153             9      650000        41.0           2017-10-13      2   \n",
       "14637            11      750000        42.0           2017-12-18      2   \n",
       "\n",
       "       ceiling_height  floors_total  living_area  floor  is_apartment  ...  \\\n",
       "1053             5.00             3         17.6      1         False  ...   \n",
       "8630             2.65             3         17.0      1         False  ...   \n",
       "8779             2.65             5         19.0      5         False  ...   \n",
       "23153            2.65             3         28.0      1         False  ...   \n",
       "14637            2.65             5         30.5      5         False  ...   \n",
       "\n",
       "       ponds_nearest  days_exposition  local_group  price_per_sqm  \\\n",
       "1053            3001              6.0      область        18965.5   \n",
       "8630            3001             45.0      область        17500.0   \n",
       "8779            3001             45.0      область        17222.2   \n",
       "23153           3001             14.0      область        15853.7   \n",
       "14637           3001             45.0      область        17857.1   \n",
       "\n",
       "      wday_exposition  month_exposition  year_exposition   floor_id  \\\n",
       "1053                3                 2             2018     первый   \n",
       "8630                5                 6             2018     первый   \n",
       "8779                0                 1             2018  последний   \n",
       "23153               4                10             2017     первый   \n",
       "14637               0                12             2017  последний   \n",
       "\n",
       "       ratio_liv_to_total  ratio_kitch_to_total  \n",
       "1053                 0.61                  0.31  \n",
       "8630                 0.53                  0.19  \n",
       "8779                 0.53                  0.22  \n",
       "23153                0.68                  0.15  \n",
       "14637                0.73                  0.21  \n",
       "\n",
       "[5 rows x 30 columns]"
      ]
     },
     "execution_count": 38,
     "metadata": {},
     "output_type": "execute_result"
    }
   ],
   "source": [
    "data.head()"
   ]
  },
  {
   "cell_type": "markdown",
   "metadata": {},
   "source": [
    "### Вывод"
   ]
  },
  {
   "cell_type": "markdown",
   "metadata": {},
   "source": [
    "В этом шаге расчитали и добавили для каждой квартиры дополнительные технико-экономические показатели: цену за квадратный метр и соотношение площадей. Сгруппировали данные по этажу жилья. Разделили и вынесли в отдельные столбцы день недели, месяц, и год публикации объявлений."
   ]
  },
  {
   "cell_type": "markdown",
   "metadata": {},
   "source": [
    "### Шаг 5. Анализ характеристик квартир, цен и времени публикаций  <a id='step5'></a>"
   ]
  },
  {
   "cell_type": "markdown",
   "metadata": {},
   "source": [
    "Исследуем основные параметры квартиры:\n",
    "* площадь\n",
    "* цену\n",
    "* высоту потолков\n",
    "* число комнат"
   ]
  },
  {
   "cell_type": "markdown",
   "metadata": {},
   "source": [
    "Посмотрим, как распределены площади среди всех квартир. Для этого построим гистограмму распределния площадей."
   ]
  },
  {
   "cell_type": "code",
   "execution_count": 39,
   "metadata": {},
   "outputs": [
    {
     "data": {
      "image/png": "[encoded data removed]",
      "text/plain": [
       "<Figure size 504x504 with 1 Axes>"
      ]
     },
     "metadata": {
      "needs_background": "light"
     },
     "output_type": "display_data"
    }
   ],
   "source": [
    "data['total_area'].hist(bins=150, range = (10, 400), figsize = (7, 7))\n",
    "plt.xlim(10,400)\n",
    "plt.gca().set(title='Распределение площадей', ylabel='Количество квартир', xlabel='Общая площадь, м2');\n"
   ]
  },
  {
   "cell_type": "markdown",
   "metadata": {},
   "source": [
    "По графику видно, что наибольшее число квартир имеет площадь от 40 до 70 квадратных метров. Убедимся в этом с помощью графика Boxplot."
   ]
  },
  {
   "cell_type": "code",
   "execution_count": 40,
   "metadata": {},
   "outputs": [
    {
     "data": {
      "image/png": "[encoded data removed]",
      "text/plain": [
       "<Figure size 432x288 with 1 Axes>"
      ]
     },
     "metadata": {
      "needs_background": "light"
     },
     "output_type": "display_data"
    }
   ],
   "source": [
    "data.boxplot('total_area')\n",
    "plt.ylim(10, 150)\n",
    "plt.gca().set(title='Размах площадей', ylabel='Общая площадь, м2');\n",
    "plt.show()"
   ]
  },
  {
   "cell_type": "markdown",
   "metadata": {},
   "source": [
    "Размах площадей подтверждает, что большая часть продаваемых квартир лежит в диапозоне от 40 до 70 квадратных метров. В принципе, это подтверждается практикой. В дальнейшем, отрежем хвост выпадающих слишком больших квартир (от 120 квадратных метров)."
   ]
  },
  {
   "cell_type": "markdown",
   "metadata": {},
   "source": [
    "Расмотрим распределение количества комнат в квартирах. Для этого построим гисторграмму."
   ]
  },
  {
   "cell_type": "code",
   "execution_count": 41,
   "metadata": {},
   "outputs": [
    {
     "data": {
      "image/png": "[encoded data removed]",
      "text/plain": [
       "<Figure size 432x432 with 1 Axes>"
      ]
     },
     "metadata": {
      "needs_background": "light"
     },
     "output_type": "display_data"
    }
   ],
   "source": [
    "data['rooms'].hist(bins=11, range = (0, 10), figsize = (6, 6))\n",
    "plt.title('Распределение по комнатам')\n",
    "plt.ylabel('Количество квартир')\n",
    "plt.xlabel('Число комнат')\n",
    "plt.show()"
   ]
  },
  {
   "cell_type": "markdown",
   "metadata": {},
   "source": [
    "По гистограмме видно, что наибольше всего на рынке предлогают однокомнатные, двухкомнатные и трехкомнатные квартиры. Дальше с увеличеним количества комнат идет резкий спад предложений. Такие квартир не так многь сттроят и они не пользуются особой популярностью. Для дальнейшего анализа типичных квартир оставим только квартиры от 1 до 5 комнат.\n",
    "<p> Расмотрим распределение по высоте потолков."
   ]
  },
  {
   "cell_type": "code",
   "execution_count": 42,
   "metadata": {},
   "outputs": [
    {
     "data": {
      "image/png": "[encoded data removed]",
      "text/plain": [
       "<Figure size 432x432 with 1 Axes>"
      ]
     },
     "metadata": {
      "needs_background": "light"
     },
     "output_type": "display_data"
    }
   ],
   "source": [
    "data['ceiling_height'].hist(bins=25 , range = (1, 5), figsize = (6, 6))\n",
    "plt.xlim(1, 5)\n",
    "plt.gca().set(title='Распределение по высоте потолка', ylabel='Количество квартир', xlabel='Высота потолка');"
   ]
  },
  {
   "cell_type": "markdown",
   "metadata": {},
   "source": [
    "Данное распределние лучше всего характиерезует мода. Поэтому,стандартный потолок в Ленингралской области имеет высоту от 2,7 метра. При этом у нас абсолютный максимум в высоте 2,7-2,8 метров. Это стандартная высота потолка в квартире. Больше трех метров потолок имеет старый фонд, котрый так же характерен для Санкт-Петербурга. У нас есть и случаи больше 4 метров. Но это уже редкие двухярусные квартиры или переделанные лофты, которые пердстравлены не в столь большом количестве."
   ]
  },
  {
   "cell_type": "markdown",
   "metadata": {},
   "source": [
    "Рассмотрим цену на квартиры в объявлениях. Посторим гистограмму распределение цен и вывидим основные параметры методом describe."
   ]
  },
  {
   "cell_type": "code",
   "execution_count": 43,
   "metadata": {},
   "outputs": [
    {
     "data": {
      "image/png": "[encoded data removed]",
      "text/plain": [
       "<Figure size 648x504 with 1 Axes>"
      ]
     },
     "metadata": {
      "needs_background": "light"
     },
     "output_type": "display_data"
    },
    {
     "data": {
      "text/plain": [
       "count    2.365000e+04\n",
       "mean     6.541127e+06\n",
       "std      1.089640e+07\n",
       "min      1.219000e+04\n",
       "25%      3.400000e+06\n",
       "50%      4.650000e+06\n",
       "75%      6.799000e+06\n",
       "max      7.630000e+08\n",
       "Name: last_price, dtype: float64"
      ]
     },
     "execution_count": 43,
     "metadata": {},
     "output_type": "execute_result"
    }
   ],
   "source": [
    "data['last_price'].hist(bins = 125, range = (0, 40000000), figsize = (9, 7))\n",
    "plt.xlim(0, 40000000)\n",
    "plt.gca().set(title='Распределение цен на квартиры, 10 млн. руб.', \n",
    "              ylabel='Количество квартир', xlabel='Цена квартиры, 10 млн. руб');\n",
    "plt.show()\n",
    "data['last_price'].describe()"
   ]
  },
  {
   "cell_type": "markdown",
   "metadata": {},
   "source": [
    "По гистограмме видно, что большая часть квартирс стоит от 3,5 до 6,8 миллионов рублей. При этом данные содержат длинный хвост из дорогих квартир (цена доходит до 76 млд. рублей). О изменчивости данных говорит большое отличие в средней и медианальной цене и большое средне квадратичное отклонение. Также можно заменить, что после 15 млн. уменьшается число предложений."
   ]
  },
  {
   "cell_type": "markdown",
   "metadata": {},
   "source": [
    "Рассмотрим время продажи квартиры. По гистограмме определим, определим слишком быстрые и долгое время продажи. Также выведем основные статичтические данные методом discribe."
   ]
  },
  {
   "cell_type": "code",
   "execution_count": 44,
   "metadata": {},
   "outputs": [
    {
     "data": {
      "image/png": "[encoded data removed]",
      "text/plain": [
       "<Figure size 504x504 with 1 Axes>"
      ]
     },
     "metadata": {
      "needs_background": "light"
     },
     "output_type": "display_data"
    },
    {
     "data": {
      "text/plain": [
       "count    20470.000000\n",
       "mean       180.753200\n",
       "std        219.777916\n",
       "min          1.000000\n",
       "25%         45.000000\n",
       "50%         95.000000\n",
       "75%        231.000000\n",
       "max       1580.000000\n",
       "Name: days_exposition, dtype: float64"
      ]
     },
     "execution_count": 44,
     "metadata": {},
     "output_type": "execute_result"
    }
   ],
   "source": [
    "data['days_exposition'].hist(bins = 100, figsize = (7,7))\n",
    "plt.gca().set(title='Время продажи квартиры', \n",
    "              ylabel='Количество квартир', xlabel='Количество размещения объявления ');\n",
    "plt.show()\n",
    "data['days_exposition'].describe()"
   ]
  },
  {
   "cell_type": "markdown",
   "metadata": {},
   "source": [
    "Изучая гистограмму видно, что продажа квартира обычно занимает от 45 до 200 дней. Среднее и медиана сильно отличаются друг от друга. Это связано с тем, что у нас большое количесво долгих объявлений, что увеличивает среднюю продолжительность объявлений.\n",
    "<br>По графику видно, что после 1000 дней почти нет объявлений. Примем 1000 за верхнюю границу, после которой объявление можно считать необычно долгим.\n",
    "<br> Продажи быстрее 30 дней можно считать быстрыми. Проверим, как распределяется значение времени прадажи относительно городов.\n",
    "<br> Создадим столбцы с *too_slow* и *too_fast*. В них разместим будевый переменные в зависимости от принятых нами условий длительности."
   ]
  },
  {
   "cell_type": "code",
   "execution_count": 45,
   "metadata": {},
   "outputs": [
    {
     "data": {
      "image/png": "[encoded data removed]",
      "text/plain": [
       "<Figure size 432x288 with 1 Axes>"
      ]
     },
     "metadata": {
      "needs_background": "light"
     },
     "output_type": "display_data"
    },
    {
     "data": {
      "image/png": "[encoded data removed]",
      "text/plain": [
       "<Figure size 432x288 with 1 Axes>"
      ]
     },
     "metadata": {
      "needs_background": "light"
     },
     "output_type": "display_data"
    }
   ],
   "source": [
    "data['too_fast'] = data['days_exposition'] < 30\n",
    "data['too_slow'] = data['days_exposition'] > 1000\n",
    "\n",
    "data.pivot_table(index = 'locality_name', values = 'too_fast').hist()\n",
    "plt.title('Быстрая продажа')\n",
    "plt.show()\n",
    "          \n",
    "data.pivot_table(index = 'locality_name', values = 'too_slow').hist()\n",
    "plt.title('Долгая продажа')\n",
    "plt.show()"
   ]
  },
  {
   "cell_type": "markdown",
   "metadata": {},
   "source": [
    "Значение долгой продажи для болтшинства городов стремиться к 0. Значит мы не ошиблись с выбором. По быстрам продажам сократим срок до 20 дней."
   ]
  },
  {
   "cell_type": "code",
   "execution_count": 46,
   "metadata": {},
   "outputs": [
    {
     "data": {
      "image/png": "[encoded data removed]",
      "text/plain": [
       "<Figure size 432x288 with 1 Axes>"
      ]
     },
     "metadata": {
      "needs_background": "light"
     },
     "output_type": "display_data"
    }
   ],
   "source": [
    "data['too_fast'] = data['days_exposition'] < 20\n",
    "data.pivot_table(index = 'locality_name', values = 'too_fast').hist()\n",
    "plt.title('Быстрая продажа')\n",
    "plt.show()"
   ]
  },
  {
   "cell_type": "markdown",
   "metadata": {},
   "source": [
    "Соотношение у 0 стало больше. Примем за очень быстрые продажи те, котрые состоялись быстрее чем за 20 дней."
   ]
  },
  {
   "cell_type": "markdown",
   "metadata": {},
   "source": [
    "Выше мы рассотмрели данные на предмет вбросов и аномалий. На основе проделанного анализа можем составить предствление о стандартных объявлениях о продаже. \n",
    "<p> Стандартное объявление это квартиры площадью до 120 квадратных метров стоимостью до 15 млн. Имеют до 5 комнат с высотой полоков от 2,5 до 3,5 метров. Объявление в публикации до 1000 дней.\n",
    "<br>Создадим новой сет стандартных объявлений и посмотрим сколько значений осталось."
   ]
  },
  {
   "cell_type": "code",
   "execution_count": 47,
   "metadata": {},
   "outputs": [
    {
     "name": "stdout",
     "output_type": "stream",
     "text": [
      "(19105, 32)\n",
      "0.8078224101479915\n"
     ]
    }
   ],
   "source": [
    "data_stat = data.query('total_area <= 120') #площадь до 120 кв.м\n",
    "data_stat = data_stat.query('rooms <= 5') #не больше 5 комнат\n",
    "data_stat = data_stat.query('2.5 <= ceiling_height <= 3.5') #высота потолков 2,5 - 3,5 метров\n",
    "data_stat = data_stat.query('days_exposition < 1000') #продажа до 1000 дней\n",
    "data_stat = data_stat.query('last_price < 20000000')\n",
    "print(data_stat.shape)\n",
    "print(len(data_stat) / len(data))"
   ]
  },
  {
   "cell_type": "markdown",
   "metadata": {},
   "source": [
    "В итоговом сете мы имеем 19105, что составляет 80% от первоначальных данных."
   ]
  },
  {
   "cell_type": "markdown",
   "metadata": {},
   "source": [
    "### Вывод"
   ]
  },
  {
   "cell_type": "markdown",
   "metadata": {},
   "source": [
    "В этом пункте изучили основные характеристики квартир: площадь, число комнат, высоту потолков. Проанализировали цены на квартиры и время публикации. На основе этого анализа, выявили редкие значения, от котрых можно избавиться для более точного анализа и поиска закономерностей. Дальнейшая работа будет производиться с обновленным сетом."
   ]
  },
  {
   "cell_type": "markdown",
   "metadata": {},
   "source": [
    "### Шаг 6.  Факторы влияющие на стоимость квартиры <a id='step6'></a>"
   ]
  },
  {
   "cell_type": "markdown",
   "metadata": {},
   "source": [
    "Стоимость квартиры может зависить от площади, числа комнат, этажа и удаленности от центра и времени размещения объявления. Проверим это с помощью корреляционной диаграммы."
   ]
  },
  {
   "cell_type": "code",
   "execution_count": 48,
   "metadata": {},
   "outputs": [
    {
     "data": {
      "image/png": "[encoded data removed]",
      "text/plain": [
       "<Figure size 432x360 with 2 Axes>"
      ]
     },
     "metadata": {
      "needs_background": "light"
     },
     "output_type": "display_data"
    }
   ],
   "source": [
    "data_st5 = data_stat[['last_price', 'total_area','rooms', 'cityCenters_nearest']] #создадим сет для проверуи гипотезы\n",
    "\n",
    "plt.figure(figsize=(6,5))\n",
    "sns.heatmap(data_st5.corr(), xticklabels=data_st5.corr().columns, yticklabels=data_st5.corr().columns,\n",
    "            cmap='RdYlGn', center=0, annot=True)\n",
    "plt.title('Диаграмма корреляции')\n",
    "plt.show()"
   ]
  },
  {
   "cell_type": "markdown",
   "metadata": {},
   "source": [
    "По диаграмме можно сказать, что больше всего на цену квартиры влияет ее площадь. Также есть отрицательная корреляция между расстоянием от центра и ценой на квартиру. Площадь и количесвтво комнат сильно коррелируют между собой, поэтому непрвильно считать связь числа комнат и цены.\n",
    "<p> Построим графики распределния для этих двух показателей."
   ]
  },
  {
   "cell_type": "code",
   "execution_count": 49,
   "metadata": {},
   "outputs": [
    {
     "data": {
      "image/png": "[encoded data removed]",
      "text/plain": [
       "<Figure size 432x432 with 1 Axes>"
      ]
     },
     "metadata": {
      "needs_background": "light"
     },
     "output_type": "display_data"
    },
    {
     "data": {
      "image/png": "[encoded data removed]",
      "text/plain": [
       "<Figure size 432x432 with 1 Axes>"
      ]
     },
     "metadata": {
      "needs_background": "light"
     },
     "output_type": "display_data"
    }
   ],
   "source": [
    "data_st5.plot(x='cityCenters_nearest', y='last_price', kind='scatter', figsize = (6, 6))\n",
    "plt.title('Цены и близости к центру')\n",
    "plt.show()\n",
    "\n",
    "data_st5.plot(x='total_area', y='last_price', kind='scatter', figsize = (6, 6))\n",
    "plt.title('Площадь и цена на квартиру')\n",
    "plt.show()"
   ]
  },
  {
   "cell_type": "markdown",
   "metadata": {},
   "source": [
    "На диаграмме видно явную зависимость цены квартиры от ее площади.\n",
    "Посмотрим, как зависит этаж квартиры и цена."
   ]
  },
  {
   "cell_type": "code",
   "execution_count": 50,
   "metadata": {},
   "outputs": [
    {
     "data": {
      "image/png": "[encoded data removed]",
      "text/plain": [
       "<Figure size 432x288 with 1 Axes>"
      ]
     },
     "metadata": {
      "needs_background": "light"
     },
     "output_type": "display_data"
    }
   ],
   "source": [
    "data_stat.pivot_table(index = 'floor_id', values = 'last_price').sort_values('last_price').plot.bar()\n",
    "plt.title('Средняя цена квартиры')\n",
    "plt.xlabel('Этаж')\n",
    "plt.show()"
   ]
  },
  {
   "cell_type": "markdown",
   "metadata": {},
   "source": [
    "Средняя цена на квартиру на первом этаже ниже чем на последнем. \n",
    "<p> Проверим, есть ли зависимость между ценой на квартирой и временем размещения объявления.\n",
    "<p> Построим графики зависимости цены от дня размещения объявления, месяца и года."
   ]
  },
  {
   "cell_type": "code",
   "execution_count": 51,
   "metadata": {
    "scrolled": false
   },
   "outputs": [
    {
     "data": {
      "image/png": "[encoded data removed]",
      "text/plain": [
       "<Figure size 432x360 with 1 Axes>"
      ]
     },
     "metadata": {
      "needs_background": "light"
     },
     "output_type": "display_data"
    },
    {
     "data": {
      "image/png": "[encoded data removed]",
      "text/plain": [
       "<Figure size 432x360 with 1 Axes>"
      ]
     },
     "metadata": {
      "needs_background": "light"
     },
     "output_type": "display_data"
    },
    {
     "data": {
      "image/png": "[encoded data removed]",
      "text/plain": [
       "<Figure size 432x360 with 1 Axes>"
      ]
     },
     "metadata": {
      "needs_background": "light"
     },
     "output_type": "display_data"
    }
   ],
   "source": [
    "#график по дням недели\n",
    "data_stat.pivot_table(index = 'wday_exposition', values = 'last_price').plot(figsize = (6, 5)) \n",
    "plt.gca().set(title='Изменение средней цены на недвижимость по дням недели', xlabel='День недели размещения объявления')\n",
    "plt.grid(True)\n",
    "plt.show()\n",
    "#график по месяцам\n",
    "data_stat.pivot_table(index = 'month_exposition', values = 'last_price').plot(figsize = (6, 5))\n",
    "plt.gca().set(title='Изменение средней цены на недвижимость по месяцам', xlabel='Месяц размещения объявления')\n",
    "plt.grid(True)\n",
    "plt.show()\n",
    "#график по годам\n",
    "data_stat.pivot_table(index = 'year_exposition', values = 'last_price').plot(figsize = (6, 5))\n",
    "plt.gca().set(title='Изменение средней цены на нелвижимость по годам', xlabel='Год размещения объявления')\n",
    "plt.grid(True)\n",
    "plt.show()"
   ]
  },
  {
   "cell_type": "markdown",
   "metadata": {},
   "source": [
    "Большая разница в цене на квартиры, которые выложены в выходные дни. В субботу и воскресенье выкладывают самые дешевые квартиры. Самая высокая средняя цена во вторник и четверг. \n",
    "<p>В течении года цены на квартиры также меняются. Особый спад происходит в середине и конце года (июнь и декабрь). В 3 квартале кода идет рост цен, и достигает пика в сентябре.\n",
    "<br> С 2014 по 2018 средняя цена на жилье снижалася. Особенно резко в период 2014-2016 годы. С 2018 года цены начали подниматься."
   ]
  },
  {
   "cell_type": "markdown",
   "metadata": {},
   "source": [
    "Посмотрим, как выглядит ТОП-10 городов по числу объявлений и подсчитаем среднию цену за квадратный метр."
   ]
  },
  {
   "cell_type": "code",
   "execution_count": 52,
   "metadata": {},
   "outputs": [
    {
     "data": {
      "image/png": "[encoded data removed]",
      "text/plain": [
       "<Figure size 432x360 with 1 Axes>"
      ]
     },
     "metadata": {
      "needs_background": "light"
     },
     "output_type": "display_data"
    }
   ],
   "source": [
    "#создадим таблицу с топ городами по количеству объявлений и посчитаем в нем среднее по цене за кв.метр\n",
    "top_cities = (data_stat.pivot_table(index = 'locality_name', values = 'price_per_sqm', aggfunc = {'count', 'mean'}).\n",
    "             sort_values('count', ascending = False)).head(10)  \n",
    "\n",
    "\n",
    "top_cities['mean'].sort_values().plot(kind = 'bar', figsize = (6, 5))\n",
    "plt.gca().set(title='Средняя стоимость квадратного метра, руб', xlabel='Населенный пункт')\n",
    "plt.show()\n"
   ]
  },
  {
   "cell_type": "markdown",
   "metadata": {},
   "source": [
    "Как и ожидалось, самая высокая стоимость квадратного метра будет в Санкт-Петербурге.Самое дешевое жилье можно найти в Выборге."
   ]
  },
  {
   "cell_type": "markdown",
   "metadata": {},
   "source": [
    "### Вывод"
   ]
  },
  {
   "cell_type": "markdown",
   "metadata": {},
   "source": [
    "В этом шаге проверили от каких параметров зависят цены на квартиру. Самая большая корреляция цены квартиры от ее площадь, что вполне логично. Выявлена  отрицательная взаимосвязь между ценой квартиры и расстоянием до центра. Число комнат сильно коррелирует с площадью, поэтому нельзя сказать что комнаты влияют на цену. Для анализа луше отбросить этот показатель. Подтвердилась взаимосвязь цены квартиры от этажа. Самые дешевые квартиры на первом этаже. Во времени предложения тоже ведут себя нестабильно. К выходным виден явный спад в средней стоимости на рынке. Стоимость квартир ниже в середине и конце года, при этом видно что самый дорогой месяц сентябрь. С 2014 по 2018 год наблюдается спад в стоимости квартир, но сейчас цены начинают расти. Как и ожидалось, самая дорогая цена за квадратный метр в Санкт-Петербурге, а самая низкая в Выборге."
   ]
  },
  {
   "cell_type": "markdown",
   "metadata": {},
   "source": [
    "### Шаг 7.  Какая область входит в центр Санкт-Петербурга  <a id='step7'></a>"
   ]
  },
  {
   "cell_type": "markdown",
   "metadata": {},
   "source": [
    "Возьмем из нашего сета только предложения в Санк-Петербурге. Для удобства занесем таблицу в переменную data_stat_spb."
   ]
  },
  {
   "cell_type": "code",
   "execution_count": 53,
   "metadata": {},
   "outputs": [
    {
     "data": {
      "text/plain": [
       "(12460, 32)"
      ]
     },
     "execution_count": 53,
     "metadata": {},
     "output_type": "execute_result"
    }
   ],
   "source": [
    "data_stat_spb = data_stat.query('locality_name == \"Санкт-Петербург\"').copy()\n",
    "data_stat_spb.shape"
   ]
  },
  {
   "cell_type": "markdown",
   "metadata": {},
   "source": [
    "Получили сет из 12283 строк.\n",
    "<br> Создадим столбец с расстоянием до центра в километрах и перевем эти значения в целочисленный формат."
   ]
  },
  {
   "cell_type": "code",
   "execution_count": 54,
   "metadata": {},
   "outputs": [
    {
     "data": {
      "text/html": [
       "<div>\n",
       "<style scoped>\n",
       "    .dataframe tbody tr th:only-of-type {\n",
       "        vertical-align: middle;\n",
       "    }\n",
       "\n",
       "    .dataframe tbody tr th {\n",
       "        vertical-align: top;\n",
       "    }\n",
       "\n",
       "    .dataframe thead th {\n",
       "        text-align: right;\n",
       "    }\n",
       "</style>\n",
       "<table border=\"1\" class=\"dataframe\">\n",
       "  <thead>\n",
       "    <tr style=\"text-align: right;\">\n",
       "      <th></th>\n",
       "      <th>cityCenters_nearest_km</th>\n",
       "      <th>cityCenters_nearest</th>\n",
       "    </tr>\n",
       "  </thead>\n",
       "  <tbody>\n",
       "    <tr>\n",
       "      <td>19904</td>\n",
       "      <td>1.0</td>\n",
       "      <td>964</td>\n",
       "    </tr>\n",
       "    <tr>\n",
       "      <td>19807</td>\n",
       "      <td>1.0</td>\n",
       "      <td>1242</td>\n",
       "    </tr>\n",
       "    <tr>\n",
       "      <td>19546</td>\n",
       "      <td>5.0</td>\n",
       "      <td>5483</td>\n",
       "    </tr>\n",
       "    <tr>\n",
       "      <td>17961</td>\n",
       "      <td>16.0</td>\n",
       "      <td>15945</td>\n",
       "    </tr>\n",
       "    <tr>\n",
       "      <td>19558</td>\n",
       "      <td>4.0</td>\n",
       "      <td>4165</td>\n",
       "    </tr>\n",
       "  </tbody>\n",
       "</table>\n",
       "</div>"
      ],
      "text/plain": [
       "       cityCenters_nearest_km  cityCenters_nearest\n",
       "19904                     1.0                  964\n",
       "19807                     1.0                 1242\n",
       "19546                     5.0                 5483\n",
       "17961                    16.0                15945\n",
       "19558                     4.0                 4165"
      ]
     },
     "execution_count": 54,
     "metadata": {},
     "output_type": "execute_result"
    }
   ],
   "source": [
    "data_stat_spb['cityCenters_nearest_km'] = data_stat_spb['cityCenters_nearest'] / 1000 #перевод метров в километры\n",
    "data_stat_spb['cityCenters_nearest_km'] = data_stat_spb['cityCenters_nearest_km'].round() #перевод в целое\n",
    "data_stat_spb[['cityCenters_nearest_km', 'cityCenters_nearest']].head()"
   ]
  },
  {
   "cell_type": "markdown",
   "metadata": {},
   "source": [
    "Посторим график зависимости средней цены на квартиру в зависимоти от расстония от центра."
   ]
  },
  {
   "cell_type": "code",
   "execution_count": 55,
   "metadata": {},
   "outputs": [
    {
     "data": {
      "image/png": "[encoded data removed]",
      "text/plain": [
       "<Figure size 432x360 with 1 Axes>"
      ]
     },
     "metadata": {
      "needs_background": "light"
     },
     "output_type": "display_data"
    }
   ],
   "source": [
    "data_stat_spb.pivot_table(index = 'cityCenters_nearest_km', values = 'last_price').plot(figsize = (6, 5))\n",
    "plt.title('Зависимость цены от расстония до центра')\n",
    "plt.xlabel('Расстояние до центра, км')\n",
    "plt.grid(True)\n",
    "plt.xlim(0, 20) # Граница графика в 20 километров\n",
    "plt.show()"
   ]
  },
  {
   "cell_type": "markdown",
   "metadata": {},
   "source": [
    "После 8 километров от центра видим резкое падение цены на недвижимость. Предположим, что это и есть граница центра. Но от расположения может зависеть не только стоимость квартиры, но и цена за квадратный метр. Посторим ноафик зависимоти цены квадратного метра от расположения."
   ]
  },
  {
   "cell_type": "code",
   "execution_count": 56,
   "metadata": {},
   "outputs": [
    {
     "data": {
      "image/png": "[encoded data removed]",
      "text/plain": [
       "<Figure size 432x360 with 1 Axes>"
      ]
     },
     "metadata": {
      "needs_background": "light"
     },
     "output_type": "display_data"
    }
   ],
   "source": [
    "data_stat_spb.pivot_table(index = 'cityCenters_nearest_km', values = 'price_per_sqm').plot(figsize = (6, 5))\n",
    "plt.title('Зависимость цены квадратного метра от расстония до центра')\n",
    "plt.xlabel('Расстояние до центра, км')\n",
    "plt.grid(True)\n",
    "plt.xlim(0, 20) # Граница графика в 20 километров\n",
    "plt.show()"
   ]
  },
  {
   "cell_type": "markdown",
   "metadata": {},
   "source": [
    "На этом графике на расстоянии 8 километров похожее резкое снижение цены за метр. Наше предположение отправдалось и будем считать , что квартиры в радиусе 8 километров находятся в центре Санкт-Петербурга."
   ]
  },
  {
   "cell_type": "markdown",
   "metadata": {},
   "source": [
    "### Вывод"
   ]
  },
  {
   "cell_type": "markdown",
   "metadata": {},
   "source": [
    "Проанализировав зависимость стоимости квартиры и цены за квадратный метр от расстояния до центра, можно сделать вывод, что в квартиры в радиусе восьми километров находятся  от центра находятся в центральной части Санкт-Петербурга. "
   ]
  },
  {
   "cell_type": "markdown",
   "metadata": {},
   "source": [
    "### Шаг 8.  Исследование квартир в центре <a id='step8'></a>"
   ]
  },
  {
   "cell_type": "markdown",
   "metadata": {},
   "source": [
    "Проверим, какие факторы влияют на цену квартиры в центре. Есть ли отличия этих зависимостей от области.\n",
    "<br>Для начала создадим срез данных, котрый будет включать только квартиры в центре. Назовем его data_stat_spb_centr."
   ]
  },
  {
   "cell_type": "code",
   "execution_count": 57,
   "metadata": {},
   "outputs": [
    {
     "data": {
      "text/plain": [
       "(2610, 33)"
      ]
     },
     "execution_count": 57,
     "metadata": {},
     "output_type": "execute_result"
    }
   ],
   "source": [
    "data_stat_spb_centr = data_stat_spb.query('cityCenters_nearest_km <= 8')\n",
    "data_stat_spb_centr.shape"
   ]
  },
  {
   "cell_type": "markdown",
   "metadata": {},
   "source": [
    "В нашем иследовании  осталось 2491 квартирва. Проанализируем основные параметры:\n",
    "* площадь \n",
    "* цена \n",
    "* число комнат\n",
    "* высота потолков\n",
    "<p> Для анализа распределения площади постоим гистограмму распеределения по этому параметру."
   ]
  },
  {
   "cell_type": "code",
   "execution_count": 58,
   "metadata": {},
   "outputs": [
    {
     "data": {
      "image/png": "[encoded data removed]",
      "text/plain": [
       "<Figure size 432x432 with 1 Axes>"
      ]
     },
     "metadata": {
      "needs_background": "light"
     },
     "output_type": "display_data"
    },
    {
     "data": {
      "text/plain": [
       "count    2610.000000\n",
       "mean       66.790138\n",
       "std        22.925492\n",
       "min        12.000000\n",
       "25%        47.300000\n",
       "50%        64.950000\n",
       "75%        83.950000\n",
       "max       120.000000\n",
       "Name: total_area, dtype: float64"
      ]
     },
     "execution_count": 58,
     "metadata": {},
     "output_type": "execute_result"
    }
   ],
   "source": [
    "data_stat_spb_centr['total_area'].hist(bins = 20, figsize = (6, 6))\n",
    "plt.gca().set(title='Распределение площадей', ylabel='Количество квартир', xlabel='Общая площадь, м2');\n",
    "plt.show()\n",
    "data_stat_spb_centr['total_area'].describe()"
   ]
  },
  {
   "cell_type": "markdown",
   "metadata": {},
   "source": [
    "Большая часть квартир имеют площадь от 47 до 81 квадратных метров. Среднее и медианальное значение почти не отличаются, так как мы избавились от выбивающихся значений. Медина 63 квадрата, и это значение больше чем в целом по области.\n",
    "<p> Посмотрим распредеоление по числу комнат для квартир в центре города."
   ]
  },
  {
   "cell_type": "code",
   "execution_count": 59,
   "metadata": {},
   "outputs": [
    {
     "data": {
      "image/png": "[encoded data removed]",
      "text/plain": [
       "<Figure size 360x360 with 1 Axes>"
      ]
     },
     "metadata": {
      "needs_background": "light"
     },
     "output_type": "display_data"
    }
   ],
   "source": [
    "data_stat_spb_centr['rooms'].hist(bins = 6, figsize = (5, 5))\n",
    "plt.gca().set(title='Распределение по числу комнат', ylabel='Количество квартир', xlabel='Число комнат')\n",
    "plt.show()"
   ]
  },
  {
   "cell_type": "markdown",
   "metadata": {},
   "source": [
    "Жилой фонд центра Санкт-Петербурнга представлен в основном двух и трехкомнатными квартирамию Данный показатель не отличается от общего по области. Есть и квартиры студии, котрые скорее всего переделанные коммунальные и большие квартиры (более 3 комнат).\n",
    "<p> Теперь посмотрим распределение по высоте потолков."
   ]
  },
  {
   "cell_type": "code",
   "execution_count": 60,
   "metadata": {},
   "outputs": [
    {
     "data": {
      "image/png": "[encoded data removed]",
      "text/plain": [
       "<Figure size 360x360 with 1 Axes>"
      ]
     },
     "metadata": {
      "needs_background": "light"
     },
     "output_type": "display_data"
    }
   ],
   "source": [
    "data_stat_spb_centr['ceiling_height'].hist(bins = 7, figsize = (5, 5))\n",
    "plt.gca().set(title='Распределение по высоте потолков', ylabel='Количество квартир', xlabel='Высота потолка, м')\n",
    "plt.show()"
   ]
  },
  {
   "cell_type": "markdown",
   "metadata": {},
   "source": [
    "Как и по области, высота потолков  в центре в пределах 2,7 метров. Но есть всплеск в значениях 3 - 3,2 метра. Связано это со старым фондом, где квартиры имели высокие потолки."
   ]
  },
  {
   "cell_type": "markdown",
   "metadata": {},
   "source": [
    "Теперь осталось рассомтреть распределение квартир по цене."
   ]
  },
  {
   "cell_type": "code",
   "execution_count": 61,
   "metadata": {},
   "outputs": [
    {
     "data": {
      "image/png": "[encoded data removed]",
      "text/plain": [
       "<Figure size 648x504 with 1 Axes>"
      ]
     },
     "metadata": {
      "needs_background": "light"
     },
     "output_type": "display_data"
    },
    {
     "data": {
      "text/plain": [
       "count    2.365000e+04\n",
       "mean     6.541127e+06\n",
       "std      1.089640e+07\n",
       "min      1.219000e+04\n",
       "25%      3.400000e+06\n",
       "50%      4.650000e+06\n",
       "75%      6.799000e+06\n",
       "max      7.630000e+08\n",
       "Name: last_price, dtype: float64"
      ]
     },
     "execution_count": 61,
     "metadata": {},
     "output_type": "execute_result"
    }
   ],
   "source": [
    "data_stat_spb_centr['last_price'].hist(bins = 125, range = (0, 40000000), figsize = (9, 7))\n",
    "plt.xlim(0, 20000000)\n",
    "plt.gca().set(title='Распределение цен на квартиры, 10 млн. руб.', \n",
    "              ylabel='Количество квартир', xlabel='Цена квартиры, 10 млн. руб');\n",
    "plt.show()\n",
    "data['last_price'].describe()"
   ]
  },
  {
   "cell_type": "markdown",
   "metadata": {},
   "source": [
    "Большинство квартир стоит от 3.4 до 6.8 миллионов. Этот показатель такой же как и по всей области, что было не очевидно."
   ]
  },
  {
   "cell_type": "markdown",
   "metadata": {},
   "source": [
    "Выделите факторы, которые влияют на стоимость квартиры в центре. Посторим диаграмму корреляции стоимости недвижимость от числа комнат, площади недвижимости и удаленности от центра."
   ]
  },
  {
   "cell_type": "code",
   "execution_count": 62,
   "metadata": {},
   "outputs": [
    {
     "data": {
      "image/png": "[encoded data removed]",
      "text/plain": [
       "<Figure size 432x360 with 2 Axes>"
      ]
     },
     "metadata": {
      "needs_background": "light"
     },
     "output_type": "display_data"
    }
   ],
   "source": [
    "#создадим сет для проверуи гипотезы\n",
    "data_spb = data_stat_spb_centr[['last_price', 'total_area','rooms', 'cityCenters_nearest', ]] \n",
    "\n",
    "plt.figure(figsize=(6,5))\n",
    "sns.heatmap(data_spb.corr(), xticklabels=data_spb.corr().columns, yticklabels=data_spb.corr().columns,\n",
    "            cmap='RdYlGn', center=0, annot=True)\n",
    "plt.title('Диаграмма корреляции')\n",
    "plt.show()"
   ]
  },
  {
   "cell_type": "markdown",
   "metadata": {},
   "source": [
    "По диаграмме видна явная зависимость между площадью квартиры и ценой. При этом нет линейной зависимоти между расположением квартиры в центре и ее стоимостью. Убедимся  в этом с помощью диаграммырассеивания."
   ]
  },
  {
   "cell_type": "code",
   "execution_count": 63,
   "metadata": {},
   "outputs": [
    {
     "data": {
      "image/png": "[encoded data removed]",
      "text/plain": [
       "<Figure size 432x288 with 1 Axes>"
      ]
     },
     "metadata": {
      "needs_background": "light"
     },
     "output_type": "display_data"
    }
   ],
   "source": [
    "data_stat_spb_centr.plot(kind = 'scatter', x = 'cityCenters_nearest', y = 'last_price',\n",
    "                         title = 'Диаграмма рассеивания цены от расположения')\n",
    "plt.xlabel('Расстояние до центра')\n",
    "plt.ylabel('Цена, 10 млн.р')\n",
    "plt.show()"
   ]
  },
  {
   "cell_type": "markdown",
   "metadata": {},
   "source": [
    "Проверим, есть ли зависимость между ценой квартиры и этажом ее расположени. Для этого построим столбчатую диаграмму по средней цене."
   ]
  },
  {
   "cell_type": "code",
   "execution_count": 64,
   "metadata": {},
   "outputs": [
    {
     "data": {
      "image/png": "[encoded data removed]",
      "text/plain": [
       "<Figure size 432x288 with 1 Axes>"
      ]
     },
     "metadata": {
      "needs_background": "light"
     },
     "output_type": "display_data"
    }
   ],
   "source": [
    "(data_stat_spb_centr.pivot_table(index = 'floor_id', values = 'last_price', aggfunc = 'mean').sort_values(by = 'last_price')\n",
    " .plot(kind = 'bar'))\n",
    "plt.title('Средняя цена квартиры')\n",
    "plt.xlabel('Этаж')\n",
    "plt.show()"
   ]
  },
  {
   "cell_type": "markdown",
   "metadata": {},
   "source": [
    "Как и в значениях для всей области, первый этаж остается самым дешевым. Но в центре меньше разница в средней цене для последних этажей. Открывающиеся виды на центр Санкт-Петербурга увеличивают стоимость жилья.\n",
    "<p> Теперь посмотрим сохранилась ли закономерность от времени публикации. Построим графики зависимости средней цены на квартиру от дня недели, месяца и года публикации объявлений."
   ]
  },
  {
   "cell_type": "code",
   "execution_count": 65,
   "metadata": {},
   "outputs": [
    {
     "data": {
      "image/png": "[encoded data removed]",
      "text/plain": [
       "<Figure size 432x360 with 1 Axes>"
      ]
     },
     "metadata": {
      "needs_background": "light"
     },
     "output_type": "display_data"
    },
    {
     "data": {
      "image/png": "[encoded data removed]",
      "text/plain": [
       "<Figure size 432x360 with 1 Axes>"
      ]
     },
     "metadata": {
      "needs_background": "light"
     },
     "output_type": "display_data"
    },
    {
     "data": {
      "image/png": "[encoded data removed]",
      "text/plain": [
       "<Figure size 432x360 with 1 Axes>"
      ]
     },
     "metadata": {
      "needs_background": "light"
     },
     "output_type": "display_data"
    }
   ],
   "source": [
    "#график по дням недели\n",
    "data_stat_spb_centr.pivot_table(index = 'wday_exposition', values = 'last_price').plot(figsize = (6, 5)) \n",
    "plt.gca().set(title='Изменение средней цены на недвижимость по дням недели', xlabel='День недели размещения объявления')\n",
    "plt.grid(True)\n",
    "plt.show()\n",
    "#график по месяцам\n",
    "data_stat_spb_centr.pivot_table(index = 'month_exposition', values = 'last_price').plot(figsize = (6, 5))\n",
    "plt.gca().set(title='Изменение средней цены на недвижимость по месяцам', xlabel='Месяц размещения объявления')\n",
    "plt.grid(True)\n",
    "plt.show()\n",
    "#график по годам\n",
    "data_stat_spb_centr.pivot_table(index = 'year_exposition', values = 'last_price').plot(figsize = (6, 5))\n",
    "plt.gca().set(title='Изменение средней цены на нелвижимость по годам', xlabel='Год размещения объявления')\n",
    "plt.grid(True)\n",
    "plt.show()"
   ]
  },
  {
   "cell_type": "markdown",
   "metadata": {},
   "source": [
    "Распределение цены по дням недели для квартир в центре отличается. Несмотря на то, что суббота также является днем с наименишей ценой, в воскресенье цена резко растет, и достигает пика в понедельник.\n",
    "<br> Самым дорогим месяцем является также сентябрь и наблюдается снижение цены к концу года. Минимаольные значения теперь имеют другую сезонность, и минимум только в декабре.\n",
    "<br> Цены на недвижимость в центре также регко упали в 2015 году. Несмотря на небольшой взлет в 2016 году в отличии от ситуации по всей области, стоимость жилья в центре продолжает падать."
   ]
  },
  {
   "cell_type": "markdown",
   "metadata": {},
   "source": [
    "### Вывод"
   ]
  },
  {
   "cell_type": "markdown",
   "metadata": {},
   "source": [
    "Провели исследование объявлений по продаже квартир в центре Санкт-Петербурга. Средняя площадь квартир в центер немного больше чем тот же показатель по всему городу. Высота потолко и число комнат не отличаются, при этом цена медиана ценв не изменилась по сравнению со всем городом, что не очевидно. \n",
    "<br> Цена квартиры в центральной также в большей степени зависит от ее площади. В отличии от всей области, цена в центре не зависит от располождения. Для этих квартир немного изменилась структура сезонности. Самые дорогие предложения также выкладываются в сентября, но минимум стоимоси наблюдается только в декабре. По дням недели стоимости квартир тоже отличаются. В отличии от состояния по всех области, где в восресенье идет спад, для квартир в центре наблюдается резкий подъем, с максимумов в понедельник. \n",
    "<br>Цены на квартиры в центре города продолжают падать. Это может зависеть от ряда факторов, например, изнашивание домов и плохое состояние квартир в старых домах."
   ]
  },
  {
   "cell_type": "markdown",
   "metadata": {},
   "source": [
    "### Шаг 9. Общий вывод  <a id='step9'></a>"
   ]
  },
  {
   "cell_type": "markdown",
   "metadata": {},
   "source": [
    "Провели исследование объявлений о продаже квартир в Санк-Петербурге и области. В результате исследования был проведен анализ данных из сервиса Яндекс.Недвижимость. На первом этапе была произведена предобработка данных. Были выявлены основные типы переменных, количество пропусков. Для борьбы с пропусками были использованы различные методы (замена на медианы для количесвенных переменных, булевые значения для логических). Данные, котрые невозможно восстановить были удалены или не заполнены. \n",
    "<br>Были отброшены все редкие значения, для анализа стандартных обявлений типичных квартир. В результае анализа были выявлены основные факторы влияющие на стоимость квартиры. Больше всего стоимость зависит от площади квартиры и ее местоположение относительно центра. При этом для квартир в центре положение не влияет на цену. Во всем регионе квартиры на первом этаже в среднем стоят дешевле чем на последнем. Из неочевидных наблюдений, что стоимость квартир в объявлениях имеет сезонность. Так для всех предоллжений самым дорогим месяцем является сентябрь. Цены по всему региону в среднем снижаются в середине и конце года. Это не характерно для квартир в центре, где минимум достигается только в декабре. Интерес предъставляет и распределение по дням недели. На объявления, выложенные в конце недели, цена снижается. В общем по области минимум наблюдается минимальные цены в воскресенье, но квартиры в центре начинают резко дорожать. Для них минимум в субботу.\n",
    "<br> С 2014 года цены на квартиры по региону начали падать, но в 2018 году виден рост цен. Этот рост обусловлен подоражанием подорожанием квартир на окраине. Возможно началось введение в эксплуатацию множества жилых комплексов. Стоимость квартир в центре продалжает падать."
   ]
  }
 ],
 "metadata": {
  "kernelspec": {
   "display_name": "Python 3",
   "language": "python",
   "name": "python3"
  },
  "language_info": {
   "codemirror_mode": {
    "name": "ipython",
    "version": 3
   },
   "file_extension": ".py",
   "mimetype": "text/x-python",
   "name": "python",
   "nbconvert_exporter": "python",
   "pygments_lexer": "ipython3",
   "version": "3.8.3"
  }
 },
 "nbformat": 4,
 "nbformat_minor": 2
}
