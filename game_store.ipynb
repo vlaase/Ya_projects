{
 "cells": [
  {
   "cell_type": "markdown",
   "metadata": {},
   "source": [
    "# Выявление закономерностей для успешной игры"
   ]
  },
  {
   "cell_type": "markdown",
   "metadata": {},
   "source": [
    "Вы работаете в интернет-магазине «Стримчик», который продаёт по всему миру компьютерные игры. Из открытых источников доступны исторические данные о продажах игр, оценки пользователей и экспертов, жанры и платформы (например, Xbox или PlayStation). \n",
    "<br>Цель анализа - выявить определяющие успешность игры закономерности. Это позволит сделать ставку на потенциально популярный продукт и спланировать рекламные кампании.\n",
    "\n",
    "Для выполнения поставленной цели выполним следующие шаги:\n",
    "1. [Обзор данных](#step1) \n",
    "2. [Предобработка данных](#step2)\n",
    "    * [Перемеинование столбцов](#step2/1)\n",
    "    * [Изменение типа данных](#step2/2)\n",
    "    * [Обработка пропусков](#step2/3)\n",
    "3. [Исследовательский анализ данных](#step3)\n",
    "4. [Составляем портрет пользователя каждого региона](#step4)\n",
    "5. [Шаг 5. Проверка гипотез](#step5)\n",
    "    * [Гипотеза 1. Средние пользовательские рейтинги платформ Xbox One и PC одинаковые](#step5/1)\n",
    "    * [Гипотеза 2 Средние пользовательские рейтинги жанров Action и Sports разные](#step5/2)\n",
    "6. [Общий вывод](#step6)"
   ]
  },
  {
   "cell_type": "markdown",
   "metadata": {},
   "source": [
    "## Шаг 1. Обзор данных <a id='step1'></a>"
   ]
  },
  {
   "cell_type": "markdown",
   "metadata": {},
   "source": [
    "Перед работой имопортируем все необходимые библиотеки."
   ]
  },
  {
   "cell_type": "code",
   "execution_count": 1,
   "metadata": {},
   "outputs": [],
   "source": [
    "#импорт библиотек\n",
    "import pandas as pd\n",
    "import numpy as np\n",
    "from scipy import stats as st\n",
    "import matplotlib.pyplot as plt\n",
    "import seaborn as sns\n",
    "import warnings\n",
    "warnings.filterwarnings(\"ignore\") "
   ]
  },
  {
   "cell_type": "markdown",
   "metadata": {},
   "source": [
    "Прочитаем предоставленные данные."
   ]
  },
  {
   "cell_type": "code",
   "execution_count": 2,
   "metadata": {},
   "outputs": [
    {
     "ename": "FileNotFoundError",
     "evalue": "[Errno 2] File /datasets/games.csv does not exist: '/datasets/games.csv'",
     "output_type": "error",
     "traceback": [
      "\u001b[1;31m---------------------------------------------------------------------------\u001b[0m",
      "\u001b[1;31mFileNotFoundError\u001b[0m                         Traceback (most recent call last)",
      "\u001b[1;32m<ipython-input-2-13445149d458>\u001b[0m in \u001b[0;36m<module>\u001b[1;34m\u001b[0m\n\u001b[1;32m----> 1\u001b[1;33m \u001b[0mdata\u001b[0m \u001b[1;33m=\u001b[0m \u001b[0mpd\u001b[0m\u001b[1;33m.\u001b[0m\u001b[0mread_csv\u001b[0m\u001b[1;33m(\u001b[0m\u001b[1;34m'/datasets/games.csv'\u001b[0m\u001b[1;33m)\u001b[0m\u001b[1;33m\u001b[0m\u001b[1;33m\u001b[0m\u001b[0m\n\u001b[0m\u001b[0;32m      2\u001b[0m \u001b[0mdata\u001b[0m\u001b[1;33m\u001b[0m\u001b[1;33m\u001b[0m\u001b[0m\n",
      "\u001b[1;32mE:\\Users\\sereg\\anaconda3\\lib\\site-packages\\pandas\\io\\parsers.py\u001b[0m in \u001b[0;36mparser_f\u001b[1;34m(filepath_or_buffer, sep, delimiter, header, names, index_col, usecols, squeeze, prefix, mangle_dupe_cols, dtype, engine, converters, true_values, false_values, skipinitialspace, skiprows, skipfooter, nrows, na_values, keep_default_na, na_filter, verbose, skip_blank_lines, parse_dates, infer_datetime_format, keep_date_col, date_parser, dayfirst, cache_dates, iterator, chunksize, compression, thousands, decimal, lineterminator, quotechar, quoting, doublequote, escapechar, comment, encoding, dialect, error_bad_lines, warn_bad_lines, delim_whitespace, low_memory, memory_map, float_precision)\u001b[0m\n\u001b[0;32m    674\u001b[0m         )\n\u001b[0;32m    675\u001b[0m \u001b[1;33m\u001b[0m\u001b[0m\n\u001b[1;32m--> 676\u001b[1;33m         \u001b[1;32mreturn\u001b[0m \u001b[0m_read\u001b[0m\u001b[1;33m(\u001b[0m\u001b[0mfilepath_or_buffer\u001b[0m\u001b[1;33m,\u001b[0m \u001b[0mkwds\u001b[0m\u001b[1;33m)\u001b[0m\u001b[1;33m\u001b[0m\u001b[1;33m\u001b[0m\u001b[0m\n\u001b[0m\u001b[0;32m    677\u001b[0m \u001b[1;33m\u001b[0m\u001b[0m\n\u001b[0;32m    678\u001b[0m     \u001b[0mparser_f\u001b[0m\u001b[1;33m.\u001b[0m\u001b[0m__name__\u001b[0m \u001b[1;33m=\u001b[0m \u001b[0mname\u001b[0m\u001b[1;33m\u001b[0m\u001b[1;33m\u001b[0m\u001b[0m\n",
      "\u001b[1;32mE:\\Users\\sereg\\anaconda3\\lib\\site-packages\\pandas\\io\\parsers.py\u001b[0m in \u001b[0;36m_read\u001b[1;34m(filepath_or_buffer, kwds)\u001b[0m\n\u001b[0;32m    446\u001b[0m \u001b[1;33m\u001b[0m\u001b[0m\n\u001b[0;32m    447\u001b[0m     \u001b[1;31m# Create the parser.\u001b[0m\u001b[1;33m\u001b[0m\u001b[1;33m\u001b[0m\u001b[1;33m\u001b[0m\u001b[0m\n\u001b[1;32m--> 448\u001b[1;33m     \u001b[0mparser\u001b[0m \u001b[1;33m=\u001b[0m \u001b[0mTextFileReader\u001b[0m\u001b[1;33m(\u001b[0m\u001b[0mfp_or_buf\u001b[0m\u001b[1;33m,\u001b[0m \u001b[1;33m**\u001b[0m\u001b[0mkwds\u001b[0m\u001b[1;33m)\u001b[0m\u001b[1;33m\u001b[0m\u001b[1;33m\u001b[0m\u001b[0m\n\u001b[0m\u001b[0;32m    449\u001b[0m \u001b[1;33m\u001b[0m\u001b[0m\n\u001b[0;32m    450\u001b[0m     \u001b[1;32mif\u001b[0m \u001b[0mchunksize\u001b[0m \u001b[1;32mor\u001b[0m \u001b[0miterator\u001b[0m\u001b[1;33m:\u001b[0m\u001b[1;33m\u001b[0m\u001b[1;33m\u001b[0m\u001b[0m\n",
      "\u001b[1;32mE:\\Users\\sereg\\anaconda3\\lib\\site-packages\\pandas\\io\\parsers.py\u001b[0m in \u001b[0;36m__init__\u001b[1;34m(self, f, engine, **kwds)\u001b[0m\n\u001b[0;32m    878\u001b[0m             \u001b[0mself\u001b[0m\u001b[1;33m.\u001b[0m\u001b[0moptions\u001b[0m\u001b[1;33m[\u001b[0m\u001b[1;34m\"has_index_names\"\u001b[0m\u001b[1;33m]\u001b[0m \u001b[1;33m=\u001b[0m \u001b[0mkwds\u001b[0m\u001b[1;33m[\u001b[0m\u001b[1;34m\"has_index_names\"\u001b[0m\u001b[1;33m]\u001b[0m\u001b[1;33m\u001b[0m\u001b[1;33m\u001b[0m\u001b[0m\n\u001b[0;32m    879\u001b[0m \u001b[1;33m\u001b[0m\u001b[0m\n\u001b[1;32m--> 880\u001b[1;33m         \u001b[0mself\u001b[0m\u001b[1;33m.\u001b[0m\u001b[0m_make_engine\u001b[0m\u001b[1;33m(\u001b[0m\u001b[0mself\u001b[0m\u001b[1;33m.\u001b[0m\u001b[0mengine\u001b[0m\u001b[1;33m)\u001b[0m\u001b[1;33m\u001b[0m\u001b[1;33m\u001b[0m\u001b[0m\n\u001b[0m\u001b[0;32m    881\u001b[0m \u001b[1;33m\u001b[0m\u001b[0m\n\u001b[0;32m    882\u001b[0m     \u001b[1;32mdef\u001b[0m \u001b[0mclose\u001b[0m\u001b[1;33m(\u001b[0m\u001b[0mself\u001b[0m\u001b[1;33m)\u001b[0m\u001b[1;33m:\u001b[0m\u001b[1;33m\u001b[0m\u001b[1;33m\u001b[0m\u001b[0m\n",
      "\u001b[1;32mE:\\Users\\sereg\\anaconda3\\lib\\site-packages\\pandas\\io\\parsers.py\u001b[0m in \u001b[0;36m_make_engine\u001b[1;34m(self, engine)\u001b[0m\n\u001b[0;32m   1112\u001b[0m     \u001b[1;32mdef\u001b[0m \u001b[0m_make_engine\u001b[0m\u001b[1;33m(\u001b[0m\u001b[0mself\u001b[0m\u001b[1;33m,\u001b[0m \u001b[0mengine\u001b[0m\u001b[1;33m=\u001b[0m\u001b[1;34m\"c\"\u001b[0m\u001b[1;33m)\u001b[0m\u001b[1;33m:\u001b[0m\u001b[1;33m\u001b[0m\u001b[1;33m\u001b[0m\u001b[0m\n\u001b[0;32m   1113\u001b[0m         \u001b[1;32mif\u001b[0m \u001b[0mengine\u001b[0m \u001b[1;33m==\u001b[0m \u001b[1;34m\"c\"\u001b[0m\u001b[1;33m:\u001b[0m\u001b[1;33m\u001b[0m\u001b[1;33m\u001b[0m\u001b[0m\n\u001b[1;32m-> 1114\u001b[1;33m             \u001b[0mself\u001b[0m\u001b[1;33m.\u001b[0m\u001b[0m_engine\u001b[0m \u001b[1;33m=\u001b[0m \u001b[0mCParserWrapper\u001b[0m\u001b[1;33m(\u001b[0m\u001b[0mself\u001b[0m\u001b[1;33m.\u001b[0m\u001b[0mf\u001b[0m\u001b[1;33m,\u001b[0m \u001b[1;33m**\u001b[0m\u001b[0mself\u001b[0m\u001b[1;33m.\u001b[0m\u001b[0moptions\u001b[0m\u001b[1;33m)\u001b[0m\u001b[1;33m\u001b[0m\u001b[1;33m\u001b[0m\u001b[0m\n\u001b[0m\u001b[0;32m   1115\u001b[0m         \u001b[1;32melse\u001b[0m\u001b[1;33m:\u001b[0m\u001b[1;33m\u001b[0m\u001b[1;33m\u001b[0m\u001b[0m\n\u001b[0;32m   1116\u001b[0m             \u001b[1;32mif\u001b[0m \u001b[0mengine\u001b[0m \u001b[1;33m==\u001b[0m \u001b[1;34m\"python\"\u001b[0m\u001b[1;33m:\u001b[0m\u001b[1;33m\u001b[0m\u001b[1;33m\u001b[0m\u001b[0m\n",
      "\u001b[1;32mE:\\Users\\sereg\\anaconda3\\lib\\site-packages\\pandas\\io\\parsers.py\u001b[0m in \u001b[0;36m__init__\u001b[1;34m(self, src, **kwds)\u001b[0m\n\u001b[0;32m   1889\u001b[0m         \u001b[0mkwds\u001b[0m\u001b[1;33m[\u001b[0m\u001b[1;34m\"usecols\"\u001b[0m\u001b[1;33m]\u001b[0m \u001b[1;33m=\u001b[0m \u001b[0mself\u001b[0m\u001b[1;33m.\u001b[0m\u001b[0musecols\u001b[0m\u001b[1;33m\u001b[0m\u001b[1;33m\u001b[0m\u001b[0m\n\u001b[0;32m   1890\u001b[0m \u001b[1;33m\u001b[0m\u001b[0m\n\u001b[1;32m-> 1891\u001b[1;33m         \u001b[0mself\u001b[0m\u001b[1;33m.\u001b[0m\u001b[0m_reader\u001b[0m \u001b[1;33m=\u001b[0m \u001b[0mparsers\u001b[0m\u001b[1;33m.\u001b[0m\u001b[0mTextReader\u001b[0m\u001b[1;33m(\u001b[0m\u001b[0msrc\u001b[0m\u001b[1;33m,\u001b[0m \u001b[1;33m**\u001b[0m\u001b[0mkwds\u001b[0m\u001b[1;33m)\u001b[0m\u001b[1;33m\u001b[0m\u001b[1;33m\u001b[0m\u001b[0m\n\u001b[0m\u001b[0;32m   1892\u001b[0m         \u001b[0mself\u001b[0m\u001b[1;33m.\u001b[0m\u001b[0munnamed_cols\u001b[0m \u001b[1;33m=\u001b[0m \u001b[0mself\u001b[0m\u001b[1;33m.\u001b[0m\u001b[0m_reader\u001b[0m\u001b[1;33m.\u001b[0m\u001b[0munnamed_cols\u001b[0m\u001b[1;33m\u001b[0m\u001b[1;33m\u001b[0m\u001b[0m\n\u001b[0;32m   1893\u001b[0m \u001b[1;33m\u001b[0m\u001b[0m\n",
      "\u001b[1;32mpandas\\_libs\\parsers.pyx\u001b[0m in \u001b[0;36mpandas._libs.parsers.TextReader.__cinit__\u001b[1;34m()\u001b[0m\n",
      "\u001b[1;32mpandas\\_libs\\parsers.pyx\u001b[0m in \u001b[0;36mpandas._libs.parsers.TextReader._setup_parser_source\u001b[1;34m()\u001b[0m\n",
      "\u001b[1;31mFileNotFoundError\u001b[0m: [Errno 2] File /datasets/games.csv does not exist: '/datasets/games.csv'"
     ]
    }
   ],
   "source": [
    "data = pd.read_csv('/datasets/games.csv')\n",
    "data"
   ]
  },
  {
   "cell_type": "code",
   "execution_count": null,
   "metadata": {},
   "outputs": [],
   "source": [
    "data.info()"
   ]
  },
  {
   "cell_type": "markdown",
   "metadata": {},
   "source": [
    "Таблица содержится данные о продаже игр. Вся информация представлена в 11 столбцах:\n",
    "\n",
    "* Name — название игры\n",
    "* Platform — платформа\n",
    "* Year_of_Release — год выпуска\n",
    "* Genre — жанр игры\n",
    "* NA_sales — продажи в Северной Америке (миллионы проданных копий)\n",
    "* EU_sales — продажи в Европе (миллионы проданных копий)\n",
    "* JP_sales — продажи в Японии (миллионы проданных копий)\n",
    "* Other_sales — продажи в других странах (миллионы проданных копий)\n",
    "* Critic_Score — оценка критиков (максимум 100)\n",
    "* User_Score — оценка пользователей (максимум 10)\n",
    "* Rating — рейтинг от организации ESRB (англ. Entertainment Software Rating Board). Эта ассоциация определяет рейтинг компьютерных игр и присваивает им подходящую возрастную категорию. \n",
    "\n",
    "<p> Сразу видно, что в данных есть проблемы с пропусками, некоторые типы не соответсвуют содержащейся информации."
   ]
  },
  {
   "cell_type": "markdown",
   "metadata": {},
   "source": [
    "### Вывод"
   ]
  },
  {
   "cell_type": "markdown",
   "metadata": {},
   "source": [
    "В первом шаге расмотрели содержание датасета. В 11 столбцах представлена информация о продаже различных видеоигр. Уже при первом обзоре видны некоторые проблеммы в данных (пропуски, несоответсвующие форматы данных). Займемся предобработкой данных. "
   ]
  },
  {
   "cell_type": "markdown",
   "metadata": {},
   "source": [
    "## Шаг 2. Предобработка данных <a id='step2'></a>"
   ]
  },
  {
   "cell_type": "markdown",
   "metadata": {},
   "source": [
    "#### Перемеинование столбцов <a id='step2/1'></a>"
   ]
  },
  {
   "cell_type": "markdown",
   "metadata": {},
   "source": [
    "Для удобства дальнейшей работы приведем названия столбцов к нижнему регистру."
   ]
  },
  {
   "cell_type": "code",
   "execution_count": null,
   "metadata": {},
   "outputs": [],
   "source": [
    "data.columns = map(str.lower, data.columns) #привод к нижнему регистру\n",
    "data.columns"
   ]
  },
  {
   "cell_type": "markdown",
   "metadata": {},
   "source": [
    "Названия столбцов приведены к нижнему регистру. Теперь разберемся с типами данных.\n",
    "#### Приведем столбцы к нужному типу <a id='step2/2'></a>"
   ]
  },
  {
   "cell_type": "code",
   "execution_count": null,
   "metadata": {},
   "outputs": [],
   "source": [
    "data.head()"
   ]
  },
  {
   "cell_type": "code",
   "execution_count": null,
   "metadata": {},
   "outputs": [],
   "source": [
    "data.info()"
   ]
  },
  {
   "cell_type": "markdown",
   "metadata": {},
   "source": [
    "Так как при использовании метода dt.year все равно выводится формат int, то просто воспользуемся прямой сменой формата. При этом у нас имеется небольшое количество пропусков. Возможно, информация об играх заполнялась в базе вручную, и некоторые даты были случайно пропущены. Для мультиплатформенных игр даты выхода могут существенно различаться и так как пропусков не много, то удалим их."
   ]
  },
  {
   "cell_type": "code",
   "execution_count": null,
   "metadata": {},
   "outputs": [],
   "source": [
    "#количесво пропусков\n",
    "print('Процент пропусков:', data['year_of_release'].isna().sum() / len(data) * 100)\n",
    "\n",
    "data = data.dropna(subset = ['year_of_release']) # удаление пропусков\n",
    "data['year_of_release'] = data['year_of_release'].astype('int') #переревод в int\n",
    "data['year_of_release']"
   ]
  },
  {
   "cell_type": "markdown",
   "metadata": {},
   "source": [
    "Переведем рейтинг пользователей в числовой формат."
   ]
  },
  {
   "cell_type": "code",
   "execution_count": null,
   "metadata": {
    "scrolled": false
   },
   "outputs": [],
   "source": [
    "data.loc[data['year_of_release'].isna() == True]"
   ]
  },
  {
   "cell_type": "code",
   "execution_count": null,
   "metadata": {},
   "outputs": [],
   "source": [
    "try:\n",
    "    data['user_score'] = pd.to_numeric(data['user_score'])\n",
    "    data['user_score']\n",
    "except ValueError as ve:\n",
    "    print(ve)"
   ]
  },
  {
   "cell_type": "markdown",
   "metadata": {},
   "source": [
    "В столбце не только чистовые значения в виде строк, но и строка tbd, из-за которой произошла ошибка. \n",
    "<br>Аббревиатура \"tbd\" обозначает To Be Determined, то есть \"Будет определено\". Значит пользовательский рейтинг игры еще не известен. Поэтому можно воспринимать это значение как пропуск."
   ]
  },
  {
   "cell_type": "code",
   "execution_count": null,
   "metadata": {},
   "outputs": [],
   "source": [
    "data['user_score'] = pd.to_numeric(data['user_score'], errors = 'coerce') #в случае ошибки, заменяет значение на NaN"
   ]
  },
  {
   "cell_type": "code",
   "execution_count": null,
   "metadata": {},
   "outputs": [],
   "source": [
    "data.info()"
   ]
  },
  {
   "cell_type": "markdown",
   "metadata": {},
   "source": [
    "Все данные имеют ожидаемый формат. Займемся заполнение пропусков.\n",
    "\n",
    "#### Обработка пропусков <a id='step2/3'></a>"
   ]
  },
  {
   "cell_type": "markdown",
   "metadata": {},
   "source": [
    "Видно, что в столбце name у нас есть два пропуска. Посмотрим на эти строки."
   ]
  },
  {
   "cell_type": "code",
   "execution_count": null,
   "metadata": {},
   "outputs": [],
   "source": [
    "data.loc[data['name'].isna() == True]"
   ]
  },
  {
   "cell_type": "markdown",
   "metadata": {},
   "source": [
    "Об этих играх ничего не известно, так что просто удалим эти строки."
   ]
  },
  {
   "cell_type": "code",
   "execution_count": null,
   "metadata": {},
   "outputs": [],
   "source": [
    "data = data.dropna(subset = ['name']) #удаление пустых строк\n",
    "print('Пропусков после обработки:', data['name'].isna().sum())"
   ]
  },
  {
   "cell_type": "markdown",
   "metadata": {},
   "source": [
    "Теперь нам необходимо заполнить пропуски в рейтинге пользователей и критиков. Посчитаем количесво пропусков в каждой категории."
   ]
  },
  {
   "cell_type": "code",
   "execution_count": null,
   "metadata": {},
   "outputs": [],
   "source": [
    "users_na = data['user_score'].isna().sum()\n",
    "critics_na = data['critic_score'].isna().sum()\n",
    "print(f'Пропусков в user_score: {users_na}')\n",
    "print(f'Пропусков в critic_score: {critics_na}')"
   ]
  },
  {
   "cell_type": "markdown",
   "metadata": {},
   "source": [
    "Пропусков разное количесво. Можно предположить, что есть пары, где нехватает только одного рейтинга. Заполним только эти случа, так как мы с большой вероятностью можем предугадать рейтинг.\n",
    "<br> Для этого разделим сгруппируем рейтинг на группы по распределению:\n",
    "* очень низкий\n",
    "* низкий\n",
    "* средний\n",
    "* выше среднего\n",
    "* высокий\n",
    "\n",
    "Перед группировкой проверим данные на наличие необычных значений."
   ]
  },
  {
   "cell_type": "code",
   "execution_count": null,
   "metadata": {},
   "outputs": [],
   "source": [
    "data[['critic_score', 'user_score']].describe()"
   ]
  },
  {
   "cell_type": "code",
   "execution_count": null,
   "metadata": {},
   "outputs": [],
   "source": [
    "data['critic_score_id'] = pd.cut(data['critic_score'], bins = 5, \n",
    "                                 labels = ['очень низкий', 'низкий', 'средний', 'выше среднего', 'высокий'])\n",
    "\n",
    "data['user_score_id'] = pd.cut(data['user_score'], bins = 5, \n",
    "                                 labels = ['очень низкий', 'низкий', 'средний', 'выше среднего', 'высокий'])"
   ]
  },
  {
   "cell_type": "markdown",
   "metadata": {},
   "source": [
    "Найдем медиану в зависимости мелианальные значения рейтига пользователей в зависимости от сгруппированого рейтинга критиков и жанра."
   ]
  },
  {
   "cell_type": "code",
   "execution_count": null,
   "metadata": {},
   "outputs": [],
   "source": [
    "users_mean_score = data.groupby(['critic_score_id', 'genre']).agg({'user_score': ['median']})\n",
    "users_mean_score.columns = ['user_score_median']\n",
    "users_mean_score = users_mean_score.reset_index()\n",
    "users_mean_score.head()"
   ]
  },
  {
   "cell_type": "code",
   "execution_count": null,
   "metadata": {},
   "outputs": [],
   "source": [
    "#соединим таблицы\n",
    "data = data.merge(users_mean_score, on = ['critic_score_id', 'genre'], how = 'left')\n",
    "data.shape "
   ]
  },
  {
   "cell_type": "code",
   "execution_count": null,
   "metadata": {},
   "outputs": [],
   "source": [
    "data.loc[(data['critic_score'].isna() == False) &  (data['user_score'].isna() == True)].head()"
   ]
  },
  {
   "cell_type": "code",
   "execution_count": null,
   "metadata": {},
   "outputs": [],
   "source": [
    "data.loc[(data['critic_score'].isna() == False) &  (data['user_score'].isna() == True), 'user_score'] = (\n",
    "data.loc[(data['critic_score'].isna() == False) &  (data['user_score'].isna() == True), 'user_score_median'])"
   ]
  },
  {
   "cell_type": "code",
   "execution_count": null,
   "metadata": {},
   "outputs": [],
   "source": [
    "data.loc[[182, 300]]"
   ]
  },
  {
   "cell_type": "markdown",
   "metadata": {},
   "source": [
    "Проверим, есть ли пары, в которой имеется user_score  и пропуск в critic_score"
   ]
  },
  {
   "cell_type": "code",
   "execution_count": null,
   "metadata": {},
   "outputs": [],
   "source": [
    "data.loc[(data['critic_score'].isna() == True) &  (data['user_score'].isna() == False)].head()"
   ]
  },
  {
   "cell_type": "code",
   "execution_count": null,
   "metadata": {},
   "outputs": [],
   "source": [
    "critic_score_mean = data.groupby(['user_score_id', 'genre']).agg({'critic_score': 'median'})\n",
    "critic_score_mean.columns = ['critic_score_median']\n",
    "critic_score_mean.reset_index(inplace = True)\n",
    "critic_score_mean.head()"
   ]
  },
  {
   "cell_type": "code",
   "execution_count": null,
   "metadata": {},
   "outputs": [],
   "source": [
    "data = data.merge(critic_score_mean, on = ['user_score_id', 'genre'], how = 'left')\n",
    "data.shape"
   ]
  },
  {
   "cell_type": "code",
   "execution_count": null,
   "metadata": {},
   "outputs": [],
   "source": [
    "data.loc[(data['critic_score'].isna() == True) &  (data['user_score'].isna() == False), 'critic_score'] = (\n",
    "data.loc[(data['critic_score'].isna() == True) &  (data['user_score'].isna() == False), 'critic_score_median'])"
   ]
  },
  {
   "cell_type": "markdown",
   "metadata": {},
   "source": [
    "Выведим информацию о пропусках в этих данных"
   ]
  },
  {
   "cell_type": "code",
   "execution_count": null,
   "metadata": {},
   "outputs": [],
   "source": [
    "data[['critic_score', 'user_score']].isna().sum()"
   ]
  },
  {
   "cell_type": "markdown",
   "metadata": {},
   "source": [
    "Осталось незаполнено два значения"
   ]
  },
  {
   "cell_type": "code",
   "execution_count": null,
   "metadata": {},
   "outputs": [],
   "source": [
    "data.loc[(data['critic_score'].isna() == True) &  (data['user_score'].isna() == False)]"
   ]
  },
  {
   "cell_type": "markdown",
   "metadata": {},
   "source": [
    "Не хватило значений для подсчета медианы. Просто заполним пропуск пользовательским рейтингом."
   ]
  },
  {
   "cell_type": "code",
   "execution_count": null,
   "metadata": {},
   "outputs": [],
   "source": [
    "data.loc[(data['critic_score'].isna() == True) &  (data['user_score'].isna() == False), 'critic_score'] = \\\n",
    "data.loc[(data['critic_score'].isna() == True) &  (data['user_score'].isna() == False), 'user_score']"
   ]
  },
  {
   "cell_type": "code",
   "execution_count": null,
   "metadata": {},
   "outputs": [],
   "source": [
    "data[['critic_score', 'user_score']].isna().sum()"
   ]
  },
  {
   "cell_type": "markdown",
   "metadata": {},
   "source": [
    "Остальные пропуски в этих колонках нет возможности доставерно заполнить. Заполнение медианой может отрицательно повлиять на корреляцию. Поэтому оставим пропуски незаполненными."
   ]
  },
  {
   "cell_type": "markdown",
   "metadata": {},
   "source": [
    "Теперь займемся пропусками в колонке rating. У игр одного жанра с высокой долей вероятности будет похожий рейтинг. Заполним пропуски часто встречающимися значениями рейтинга для каждого жанра."
   ]
  },
  {
   "cell_type": "code",
   "execution_count": null,
   "metadata": {},
   "outputs": [],
   "source": [
    "grp = data.groupby('genre')['rating'].apply(lambda x: x.mode().iloc[0])\n",
    "genre_mode = grp.reset_index()\n",
    "genre_mode.rename(columns = {'rating': 'rating_mode'}, inplace = True)\n",
    "data = data.merge(genre_mode, on = ['genre'], how='left')\n",
    "data.shape"
   ]
  },
  {
   "cell_type": "code",
   "execution_count": null,
   "metadata": {},
   "outputs": [],
   "source": [
    "data.loc[data['rating'].isna(), 'rating'] = data.loc[data['rating'].isna(), 'rating_mode']"
   ]
  },
  {
   "cell_type": "code",
   "execution_count": null,
   "metadata": {},
   "outputs": [],
   "source": [
    "print('Пропусков после обработки:', data['rating'].isna().sum())"
   ]
  },
  {
   "cell_type": "markdown",
   "metadata": {},
   "source": [
    "Оставим только необходимые для работы столбцы, и проверим данные"
   ]
  },
  {
   "cell_type": "code",
   "execution_count": null,
   "metadata": {},
   "outputs": [],
   "source": [
    "data = data.iloc[:, 0:11]\n",
    "data.info()"
   ]
  },
  {
   "cell_type": "markdown",
   "metadata": {},
   "source": [
    "Остались только пропуска в оценках пользователей и критиков. Их не убираем, как проговоривали выше.\n",
    "<br>Посчитаем суммарные продажи во всех регионах и запишите их в отдельный столбец *total_sales*"
   ]
  },
  {
   "cell_type": "code",
   "execution_count": null,
   "metadata": {},
   "outputs": [],
   "source": [
    "data['total_sales'] = data['na_sales'] + data['eu_sales'] + data['jp_sales'] + data['other_sales']\n",
    "data.head()"
   ]
  },
  {
   "cell_type": "markdown",
   "metadata": {},
   "source": [
    "В завершение проверим данные на дубликаты."
   ]
  },
  {
   "cell_type": "code",
   "execution_count": null,
   "metadata": {},
   "outputs": [],
   "source": [
    "data.duplicated().sum()"
   ]
  },
  {
   "cell_type": "markdown",
   "metadata": {},
   "source": [
    "### Вывод"
   ]
  },
  {
   "cell_type": "markdown",
   "metadata": {},
   "source": [
    "Произвели предварительную обработку данных. Перемеиновали столбцы в более удобный формат и поменяли типы данных, которые несоответсвовали содержимому (перевели пользовательский рейтинг из object в float и год реализации в формат int). В данных содержалось большое количесво пропусков, которые пришлось обработать. Строки с пропусками в столбцах *name* и *year_of_release* удали, так как их очень малое количесво (менее 2%). В столбцах с рейтингом критиков и пользователе заполнили не все пропуски, а где есть хотя бы один вид оценки. В рейтинге ESRB содержались неопределнные значения. Их заменили на NaN и пропуски заполнили самыми встречаемыми рейтингами для определнного жанра. В итоге, данные готова к исследовательскому анализу."
   ]
  },
  {
   "cell_type": "markdown",
   "metadata": {},
   "source": [
    "## Шаг 3. Исследовательский анализ данных <a id='step3'></a>"
   ]
  },
  {
   "cell_type": "markdown",
   "metadata": {},
   "source": [
    "Приступим к исследовательскому анализу данных. Посмотрим, сколько игр выпускалось в разные годы. Для этого построим график."
   ]
  },
  {
   "cell_type": "code",
   "execution_count": null,
   "metadata": {
    "scrolled": false
   },
   "outputs": [],
   "source": [
    "games_per_year = data.pivot_table(index = 'year_of_release', values = 'name', aggfunc = 'count')\n",
    "\n",
    "plt.figure(figsize = (9, 7))\n",
    "plt.plot(games_per_year, color = 'b')\n",
    "plt.grid()\n",
    "plt.title('Количество проданных копий в год', size = 14)\n",
    "plt.xlabel('Год релиза')\n",
    "plt.ylabel('Количество игр')\n",
    "plt.axvline(2000, c='r', ls='--')\n",
    "plt.axvline(1993, c='g', ls='--')\n",
    "plt.axvline(2013, c='m', ls='--')"
   ]
  },
  {
   "cell_type": "markdown",
   "metadata": {},
   "source": [
    "По графику видно, что начиная с 1993 года начинает расти количесво выпускаемых игр. В 2000 году начинается резкий подъем выпуска игр и достигает своего пика в 2007-2008 году. Такой рост связан с резким распространениям игровых приставок и компьютеров у людей.После индустрия идет на спад. В 2013 наблюдается рост. Скорее всего это выход PS4 И XOne. \n",
    "<br> Для определения актуального периода, постотрим как менялись продажи по платформам. Выберим платформы с наибольшими суммарными продажами и постройте распределение по годам. Возьмем топ 10 по проданным копиям за все время."
   ]
  },
  {
   "cell_type": "code",
   "execution_count": null,
   "metadata": {},
   "outputs": [],
   "source": [
    "platform = data.groupby('platform')['total_sales'].agg('sum').sort_values(ascending = False)\n",
    "platform = platform.head(10)\n",
    "platform"
   ]
  },
  {
   "cell_type": "code",
   "execution_count": null,
   "metadata": {},
   "outputs": [],
   "source": [
    "platforms = platform.index.tolist()"
   ]
  },
  {
   "cell_type": "code",
   "execution_count": null,
   "metadata": {},
   "outputs": [],
   "source": [
    "data1 = data.loc[data['platform'].isin(platforms)]\n",
    "data.shape"
   ]
  },
  {
   "cell_type": "code",
   "execution_count": null,
   "metadata": {},
   "outputs": [],
   "source": [
    "group_platform = data1.groupby(['year_of_release', 'platform'])['total_sales'].agg('sum')\n",
    "group_platform = group_platform.reset_index(level = 'platform')\n",
    "group_platform.head()"
   ]
  },
  {
   "cell_type": "code",
   "execution_count": null,
   "metadata": {},
   "outputs": [],
   "source": [
    "plt.figure(figsize = (15, 9))\n",
    "for platform in platforms:\n",
    "    plt.plot(group_platform.loc[group_platform['platform'] == platform, 'total_sales'], label = platform)\n",
    "    plt.legend()\n",
    "plt.grid()\n",
    "plt.title('Распределение сумарных продаж по платформам', size=14)\n",
    "plt.ylabel('Проданные копии, млн', size = 14)\n",
    "plt.show()"
   ]
  },
  {
   "cell_type": "markdown",
   "metadata": {},
   "source": [
    "Как можно видеть по графику, что одна платформа в среднем проживает 8 лет. Новые платформы появляюся с пятилетним интервалом. Исчезают платформы дольше, что видно по более пологим хвостам распределений. Люди продолжают пользователься старыми приставками в течении некоторго времени. Можно наблюдать, что главные конкуренты появляются и пропадают примернго в одно время (X-box 360 и PS3).\n",
    "\n",
    "<br> Так как судя по графику общей продажи в 2013 вышли приставки нового поколения, будем проводить анализ с 2013 года. Это даст возможность проанализирвоать затухающие приставки и новых игроков рынка."
   ]
  },
  {
   "cell_type": "code",
   "execution_count": null,
   "metadata": {},
   "outputs": [],
   "source": [
    "data = data.query('year_of_release >= 2013') #продажи после 2013 года\n",
    "data.shape"
   ]
  },
  {
   "cell_type": "markdown",
   "metadata": {},
   "source": [
    "Посомотрим, какие платформы лидируют по общим продажам в актуальный период. Выведим ТОП5."
   ]
  },
  {
   "cell_type": "code",
   "execution_count": null,
   "metadata": {},
   "outputs": [],
   "source": [
    "data.groupby('platform')['total_sales'].agg('sum').sort_values(ascending = False).head()"
   ]
  },
  {
   "cell_type": "markdown",
   "metadata": {},
   "source": [
    "Лидируют в общих продажах приставики от SONY и Xbox ONE. В целом, данные ожидаемые.\n",
    "<br>Посмотрим динамику продаж по годам. Для этого постоим график."
   ]
  },
  {
   "cell_type": "code",
   "execution_count": null,
   "metadata": {},
   "outputs": [],
   "source": [
    "group_platform = data.groupby(['year_of_release', 'platform'])['total_sales'].agg('sum')\n",
    "group_platform = group_platform.reset_index(level = 'platform')"
   ]
  },
  {
   "cell_type": "code",
   "execution_count": null,
   "metadata": {},
   "outputs": [],
   "source": [
    "plt.figure(figsize = (15, 9))\n",
    "for platform in group_platform['platform'].unique():\n",
    "    plt.plot(group_platform.loc[group_platform['platform'] == platform, 'total_sales'], label = platform)\n",
    "    plt.legend()\n",
    "plt.grid()\n",
    "plt.title('Распределение сумарных продаж по платформам', size=14)\n",
    "plt.ylabel('Проданные копии, млн', size = 14)\n",
    "plt.show()"
   ]
  },
  {
   "cell_type": "markdown",
   "metadata": {},
   "source": [
    "Видим, что суммарные по всем платформам падают. В первые 2 года после выхода приставок нового поколения суммарные продажи росли, но после интерес упал. Для PC и PSV виден стабильный спрос. 3Ds и WiiU еще покупают, но видна отрицательная динамика. PS2, X360 и Wii уже абсолютно не актуальны.\n",
    "<br> Выведим Топ 5 платформ по суммарным продажам за 2016 год."
   ]
  },
  {
   "cell_type": "code",
   "execution_count": null,
   "metadata": {},
   "outputs": [],
   "source": [
    "group_platform.reset_index()[group_platform.reset_index()['year_of_release'] == 2016].sort_values(by = 'total_sales',\n",
    "                                                                                                 ascending = False).head()"
   ]
  },
  {
   "cell_type": "markdown",
   "metadata": {},
   "source": [
    "Таким образом, данные 5 платформ будут наиболее прибыльными в 2017 году. Особенно PS4 и XOne, так как тенденция снижения суммарных продаж постепенно снижается."
   ]
  },
  {
   "cell_type": "code",
   "execution_count": null,
   "metadata": {},
   "outputs": [],
   "source": [
    "platforms = ('PS4', 'XOne', '3DS', 'PC', 'WiiU')\n",
    "data = data.loc[data['platform'].isin(platforms)]\n",
    "data"
   ]
  },
  {
   "cell_type": "markdown",
   "metadata": {},
   "source": [
    "Построим график «ящик с усами» по глобальным продажам игр в разбивке по платформам. "
   ]
  },
  {
   "cell_type": "code",
   "execution_count": null,
   "metadata": {},
   "outputs": [],
   "source": [
    "plt.figure(figsize=(8, 7))\n",
    "sns.boxplot(x = 'platform', y = 'total_sales', data=data)\n",
    "plt.gca().spines['top'].set_visible(False)\n",
    "plt.gca().spines['right'].set_visible(False)\n",
    "plt.title('Продажа игр для различных платформ', size = 14)\n",
    "plt.xlabel('Платформа', size = 12)\n",
    "plt.ylabel('Количетво проданных копий, млн', size = 12)\n",
    "plt.show()"
   ]
  },
  {
   "cell_type": "code",
   "execution_count": null,
   "metadata": {},
   "outputs": [],
   "source": [
    "sns.boxplot(x = 'platform', y = 'total_sales', data=data, showfliers=False)"
   ]
  },
  {
   "cell_type": "markdown",
   "metadata": {},
   "source": [
    "Количество проданных копий на всех платформах имеет тяжелый хвост. Есть очень большое количество популярных игр на каждой платформе. При этом у нас много выбросов.  Можно предположить, что это особые бестселлеры и эксклюзивы для приставок. Так как эти выбросы получились не случайно, то оставим их, иначе потеряем информацию о самых продаваемых играх."
   ]
  },
  {
   "cell_type": "markdown",
   "metadata": {},
   "source": [
    "Посмотрим, как влияют на продажи отзывы пользователей и критиков. Для этого построим диаграммы рассеивания и посчитаем корреляции. Анализ проведем на самом популярной платформе - PS4."
   ]
  },
  {
   "cell_type": "code",
   "execution_count": null,
   "metadata": {},
   "outputs": [],
   "source": [
    "sns.pairplot(data.loc[data['platform'] == 'PS4', ['total_sales', 'critic_score', 'user_score']]);"
   ]
  },
  {
   "cell_type": "markdown",
   "metadata": {},
   "source": [
    "По диаграмм рассеивания видна положительная корреляция между продажами и оценками критиками. Расчитаем числовые значения."
   ]
  },
  {
   "cell_type": "code",
   "execution_count": null,
   "metadata": {},
   "outputs": [],
   "source": [
    "data.loc[data['platform'] == 'PS4', ['total_sales', 'critic_score', 'user_score']].corr()"
   ]
  },
  {
   "cell_type": "markdown",
   "metadata": {},
   "source": [
    "Для PS4 наблюдается средняя линейная взаимосвязь между продажами и рейтингом критиков. При этом связь между продажами и оценками пользователей не наблюдается. Есть связь между оценками критиками и оценками пользователей. Тут выступает третий фактор, такой как качество самой игры.\n",
    "<br> Посмотрим на другие популярные платформы."
   ]
  },
  {
   "cell_type": "code",
   "execution_count": null,
   "metadata": {
    "scrolled": false
   },
   "outputs": [],
   "source": [
    "platforms = ('XOne', '3DS', 'PC', 'WiiU')\n",
    "\n",
    "for platform in platforms:\n",
    "    plt.figure(figsize = (10, 5))\n",
    "    plt.suptitle(f'Диаграммы рассеивания для {platform}', size = 14)  \n",
    "    plt.subplot(1, 2, 1)\n",
    "    plt.scatter(x = data.loc[data['platform'] == platform, 'total_sales'], \n",
    "                y = data.loc[data['platform'] == platform, 'critic_score'], color='#051BF2', alpha=0.7)\n",
    "    plt.gca().spines['top'].set_visible(False)\n",
    "    plt.gca().spines['right'].set_visible(False)\n",
    "    plt.xlabel('total_sales')\n",
    "    plt.ylabel('critic_score')\n",
    "    plt.subplot(1, 2, 2)\n",
    "    plt.scatter(x = data.loc[data['platform'] == platform, 'total_sales'], \n",
    "                y = data.loc[data['platform'] == platform, 'user_score'], color = '#0A7B0D', alpha=0.7)\n",
    "    plt.xlabel('total_sales')\n",
    "    plt.ylabel('user_score')\n",
    "    plt.gca().spines['top'].set_visible(False)\n",
    "    plt.gca().spines['right'].set_visible(False)\n",
    "    plt.show()\n",
    "    \n",
    "    print(f'Матрица корреляции для {platform}')\n",
    "    display(data.loc[data['platform'] == platform, ['total_sales', 'critic_score', 'user_score']].corr())\n"
   ]
  },
  {
   "cell_type": "markdown",
   "metadata": {},
   "source": [
    "Для разных популярных платформ мы видим различную силу связи между числом проданных копий и отзывами. Для XOne, так же как для PS4 наблюдается средняя линейная взаимосвязь между продажами и рейтингом критиков. Cвязь между продажами и оценками пользователей не наблюдается. У 3Ds платформы связь между оценками критиков и прожажами снижается, но растет взаимодейсвие с оценками пользователей. Рейтинг критиков для PC слабо связан с объесмом продаж. Для WiiU мы видим противоположную картину. В отличии от других платформ, имеется почти равная средняя связь между продажами и отзывами критиков, и отзывами пользователей."
   ]
  },
  {
   "cell_type": "markdown",
   "metadata": {},
   "source": [
    "Выясним, какие жанры являются самыми прибыльными для всех платформ."
   ]
  },
  {
   "cell_type": "code",
   "execution_count": null,
   "metadata": {},
   "outputs": [],
   "source": [
    "genres = data.pivot_table(index = ['genre'], values = 'total_sales', aggfunc = 'sum') #суммарные продажи для каждого жанра\n",
    "genres = genres.sort_values('total_sales', ascending = True)\n",
    "\n",
    "plt.figure(figsize = (7, 6))\n",
    "plt.title('Продажа игр по жанрам, млн. копий', size = 14)\n",
    "plt.barh(genres.index, genres['total_sales'], color = '#051BF2', alpha = 0.7)\n",
    "plt.gca().spines['top'].set_visible(False)\n",
    "plt.gca().spines['right'].set_visible(False)"
   ]
  },
  {
   "cell_type": "markdown",
   "metadata": {},
   "source": [
    "Самые прибыльные жанры это Action, Shooter, RPG и Sport. Это самые зрелищные и высокобюджетные игры, механика котрых заточена для игр с гемпадами. Скорее всего именно эти жанры покупают для игры на приставках нового поколения. Наименьшей популярность пользуются спокойные игры, такие как стратегии и разлы.\n",
    "<br> Посмотрим как распределены прибыли по жанрам относительно платформ."
   ]
  },
  {
   "cell_type": "code",
   "execution_count": null,
   "metadata": {},
   "outputs": [],
   "source": [
    "genres = data.pivot_table(index = ['genre', 'platform'], values = 'total_sales', aggfunc = 'sum')\n",
    "genres = genres.reset_index(level = 'platform')\n",
    "\n",
    "plt.figure(figsize = (11, 6))\n",
    "plt.title('Распределение продаж по жанрам', size = 14)\n",
    "for platform in genres['platform'].unique():\n",
    "    plt.plot(genres.loc[genres['platform'] == platform, 'total_sales'], 'o', mew = 7, label = platform, )\n",
    "    plt.legend()\n",
    "plt.grid()\n",
    "plt.show()"
   ]
  },
  {
   "cell_type": "markdown",
   "metadata": {},
   "source": [
    "Действительно, самые продаваемые жанры для PS4 и XOne - Action и Shoter. Но стоит заметить, что продажи для PS4 b XOne зеркальны. Пользователи 3Ds в больше всего покумают RPG."
   ]
  },
  {
   "cell_type": "markdown",
   "metadata": {},
   "source": [
    "### Вывод"
   ]
  },
  {
   "cell_type": "markdown",
   "metadata": {},
   "source": [
    "В этом шаге провели исследовательский анализ данных. На основе информации о продажах игр выяснили, что средний период жизни для игровой приставки - 8 лет. Изучили динамику продаж игр, и взяли за начало актуального периода 2013 год, так как в этот год резко возрасли продажи, в связи с выходом PS4 и Xbox One. В 2017 году это будут самые востребованные приставки. Также люди активно пользуются Nintendo 3DS. PC в виду своей универмальности, также пользуются спросом, и на протяжении всего времени имеетт стабильную аудиторию. \n",
    "<br> Распределение продаж для всех платформ скошено вправо. При этом имеется большое количестов выбросов, тоесть иногда выходят очень популярные игры.\n",
    "<br> Продажи для PS4 и XOne имееют среднюю связь с отзывами критков и абсолютно не связаны с рейтинком пользователей. Продажи игр на PC очень слабо коррелируют с рейтингом критиков. Для 3Ds имеется слабая связь и между и с оценкой критиков и с оценокй пользователей. Противоволожную картину мы видим для WiiU. Продажи игр сильнее связаны с оценками пользователей, а для оценки критиков корреляция ниже.\n",
    "<br> В целом, самым популрным жаром является Action. Самые низкие продажи имеют Пазлы. При этом для разных приставок самые продаваемые жанры отличаются. Для PS4 это Action, XOne - Shooter, а 3Ds - RPG."
   ]
  },
  {
   "cell_type": "markdown",
   "metadata": {},
   "source": [
    "### Шаг 4. Составляем портрет пользователя каждого региона <a id='step4'></a>"
   ]
  },
  {
   "cell_type": "markdown",
   "metadata": {},
   "source": [
    "Посмотрим, как различаются самые популярные платформы в различных регионах. Оценить доли каждой страны, посторим столбчатые диаграммы с накоплением."
   ]
  },
  {
   "cell_type": "code",
   "execution_count": null,
   "metadata": {},
   "outputs": [],
   "source": [
    "platform = data.pivot_table(index = 'platform', values = ['na_sales', 'eu_sales', 'jp_sales'], aggfunc = 'sum')\n",
    "platform"
   ]
  },
  {
   "cell_type": "code",
   "execution_count": null,
   "metadata": {},
   "outputs": [],
   "source": [
    "#постороение диаграммы с накоплением\n",
    "def stacked_bar_chart(pivot, title = 'Распределение популярности по регионам'):\n",
    "    x = pivot.index\n",
    "    indexes = np.argsort(pivot.values).T\n",
    "    widths = np.sort(pivot.values).T\n",
    "    order = -1\n",
    "    lefts = widths[::order].cumsum(axis=0)\n",
    "    lefts = np.insert(lefts, 0, np.zeros(len(lefts[0])), axis=0)\n",
    "\n",
    "    mpp_colors = dict(zip(pivot.columns, plt.cm.get_cmap(\"tab10\").colors))\n",
    "    fig, ax1 = plt.subplots(figsize = (7, 5))\n",
    "    plt.gca().spines['top'].set_visible(False)\n",
    "    plt.gca().spines['right'].set_visible(False)\n",
    "    for k, (idxs, vals) in enumerate(list(zip(indexes, widths))[::order]):\n",
    "        mps = np.take(np.array(pivot.columns), idxs)\n",
    "        ax1.barh(x, width=vals, left=lefts[k], color=[mpp_colors[m] for m in mps])\n",
    "\n",
    "    ax1.legend((np.take(np.array(pivot.columns), np.argsort(pivot.values)[0]))[::-1], \n",
    "           bbox_to_anchor=(1.05, 1), loc='upper left', ncol=1)\n",
    "    plt.title(title, size = 14);"
   ]
  },
  {
   "cell_type": "code",
   "execution_count": null,
   "metadata": {},
   "outputs": [],
   "source": [
    "stacked_bar_chart(platform, 'Распределение игровых платформ по популярности')"
   ]
  },
  {
   "cell_type": "markdown",
   "metadata": {},
   "source": [
    "Продажи игр для разных присатавок зависят от стран. 3DS наиболее популряна в японии, XOne самая популярная приставка в Северной Америка, PS4 покупают в Европе.\n",
    "\n",
    "<p> Теперь посмотрим распределние по самым  популярным жанрам."
   ]
  },
  {
   "cell_type": "code",
   "execution_count": null,
   "metadata": {},
   "outputs": [],
   "source": [
    "#выделение максимального значения \n",
    "def highlight_max(data, color='yellow'):\n",
    "    attr = 'background-color: {}'.format(color)\n",
    "    data = data.replace('%','', regex=True).astype(float)\n",
    "    if data.ndim == 1:  # Series from .apply(axis=0) or axis=1\n",
    "        is_max = data == data.max()\n",
    "        return [attr if v else '' for v in is_max]\n",
    "    else:  # from .apply(axis=None)\n",
    "        is_max = data == data.max().max()\n",
    "        return pd.DataFrame(np.where(is_max, attr, ''),\n",
    "                            index=data.index, columns=data.columns)\n",
    "    \n",
    "    \n",
    "genre = data.loc[data['genre'].isin(['Action', 'Shooter', 'Role-Playing', 'Sports', 'Platform'])] #Отбор сета по ТОП5\n",
    "genre_grp = genre.pivot_table(index='genre', values = ['na_sales', 'eu_sales', 'jp_sales'], aggfunc = 'sum')\n",
    "genre_grp.style.apply(highlight_max)"
   ]
  },
  {
   "cell_type": "code",
   "execution_count": null,
   "metadata": {},
   "outputs": [],
   "source": [
    "stacked_bar_chart(genre_grp, 'Распределение жанров по популярности')"
   ]
  },
  {
   "cell_type": "markdown",
   "metadata": {},
   "source": [
    "В разных странах пердпочтения по играм так же отличаются. Так RPG - самый популярный жанр в Японии. В европе больше покупают Action, а в Соединенных штатах играют в Shooter. При этом, в целом доля покупок в США для Action и Shooter выше чем в остальных странах. Также в Европе и США пользуются попуялность спортивные игры, которые в основном выходят на PS4 и XBox."
   ]
  },
  {
   "cell_type": "markdown",
   "metadata": {},
   "source": [
    "Оценим, влияет ли рейтинг ESRB на продажи в отдельном регионе."
   ]
  },
  {
   "cell_type": "code",
   "execution_count": null,
   "metadata": {},
   "outputs": [],
   "source": [
    "rating = data.pivot_table(index = 'rating', values = ['na_sales', 'eu_sales', 'jp_sales'], aggfunc = 'sum')\n",
    "rating.style.apply(highlight_max)"
   ]
  },
  {
   "cell_type": "markdown",
   "metadata": {},
   "source": [
    "Так как и рейтинг игры и старана это категориальные оценки, то зависимость между критериями проверим с помощью критерия Хи-квадрат Пирсона. \n",
    "Нулевая гипотеза: рейтинг игры и страна покупки независимы.\n",
    "Альтернативная: есть связь между страной покупки игры и рейтингом ESRB"
   ]
  },
  {
   "cell_type": "code",
   "execution_count": null,
   "metadata": {},
   "outputs": [],
   "source": [
    "st.chi2_contingency(rating)"
   ]
  },
  {
   "cell_type": "markdown",
   "metadata": {},
   "source": [
    "P уровень значимости почти равен 0, можем отбросить нулевую гипотезу, и считать, что рейтинг игры и количество проданных копий для разных стран связаны.\n",
    "Тогда можно утверждать, что в Европе и США больше покупают игры с рейтингом M, а в Японии берут инры с рейтингом T. Но эта связь может быть связана с тем, что игры одного жанра имеют похожий рейтинг."
   ]
  },
  {
   "cell_type": "markdown",
   "metadata": {},
   "source": [
    "### Вывод"
   ]
  },
  {
   "cell_type": "markdown",
   "metadata": {},
   "source": [
    "По имеющимся данным составили портрет пользователя для каждого региона.\n",
    "Так в Японии люди больше всего играют в RPG c рейтингом T ESRB на 3DS. Европейца предпочитают Action c ESRB M для PS4, а в Соединенных штатат играют в Шутеры c ESRB M, при этом и на PS4 и на XBOX."
   ]
  },
  {
   "cell_type": "markdown",
   "metadata": {},
   "source": [
    "## Шаг 5. Проверка гипотез <a id='step5'></a>"
   ]
  },
  {
   "cell_type": "markdown",
   "metadata": {},
   "source": [
    "**Гипотеза 1.** Средние пользовательские рейтинги платформ Xbox One и PC одинаковые. <a id='step5/1'></a>\n",
    "<p>Проверим гипотезу о том, что рейтинги пользователей для разных платформ одиноковые.\n",
    "<br> для проверки данной гипотезы воспользается t-критерией для независимых выборок. Так как нет уверенности в равенсве дисперсий, то будем проводить тест Велча.\n",
    "<br> Нулевая гипотеза (H0): средние рейтиги для для Xbox One и PC равны\n",
    "<br> Альтернативня гипотеза (H1): средние рейтинги отличаются.\n",
    "<br> Примем уровень значимости alpha = 0,05"
   ]
  },
  {
   "cell_type": "code",
   "execution_count": null,
   "metadata": {},
   "outputs": [],
   "source": [
    "#удалит пропуски для проведения t-теста\n",
    "pc = data.query('platform == \"PC\"')['user_score'].dropna() \n",
    "xone = data.query('platform == \"XOne\"')['user_score'].dropna()\n",
    "\n",
    "alpha = .05\n",
    "results = st.ttest_ind(pc, xone, equal_var = False)\n",
    "\n",
    "print('p-значение:', results.pvalue)\n",
    "print('t-критерий:', results.statistic)\n",
    "if (results.pvalue < alpha):\n",
    "    print(\"Отвергаем нулевую гипотезу\")\n",
    "else:\n",
    "    print(\"Не получилось отвергнуть нулевую гипотезу\")"
   ]
  },
  {
   "cell_type": "markdown",
   "metadata": {},
   "source": [
    "У нас достаточных оснований отвегать нулевую гипотезу. Поэтому, можем считать, что выдвинутая нами гипотеза подтвердилась. Средние пользовательские рейтинги платформ Xbox One и PC одинаковые."
   ]
  },
  {
   "cell_type": "markdown",
   "metadata": {},
   "source": [
    "**Гипотеза 2** Средние пользовательские рейтинги жанров Action и Sports разные. <a id='step5/2'></a>\n",
    "<p> Для проверки гипотезы снова воспользуемся тестом Велча.\n",
    "<br> Нулевая гипотеза (H0): Для разных жанров средние рейтинги равны.\n",
    "<br> Альтернативная гипотеза (H1): Средние рейтинги различаются\n",
    "<br> Примем уровень значимости alpha = 0,05"
   ]
  },
  {
   "cell_type": "code",
   "execution_count": null,
   "metadata": {},
   "outputs": [],
   "source": [
    "action = data.query('genre == \"Action\"')['user_score'].dropna()\n",
    "sport = data.query('genre == \"Sports\"')['user_score'].dropna()\n",
    "\n",
    "alpha = .05\n",
    "test = st.ttest_ind(action, sport, equal_var = False)\n",
    "\n",
    "print('p-значение:', test.pvalue)\n",
    "print('t-критерий:', test.statistic)\n",
    "if (test.pvalue < alpha):\n",
    "    print(\"Отвергаем нулевую гипотезу\")\n",
    "else:\n",
    "    print(\"Не получилось отвергнуть нулевую гипотезу\")"
   ]
  },
  {
   "cell_type": "markdown",
   "metadata": {},
   "source": [
    "Можем отвергуть нулевую гипотезу. Гипотеза 2 подтвердилась. Средние пользовательские рейтинги жанров Action и Sports разные. При этом по знаку t-критерия можем сказать, что у жанра Action средний рейтиинг выше, чем у жанра Sports."
   ]
  },
  {
   "cell_type": "markdown",
   "metadata": {},
   "source": [
    "### Вывод"
   ]
  },
  {
   "cell_type": "markdown",
   "metadata": {},
   "source": [
    "Проверили две гипотезы о равенстве среднего пользовательского рейтинга для XOne и PC и различии рейтингов для жанра Action и Sports. Обе гипотезы подтвердились.  Средние пользовательские рейтинги платформ Xbox One и PC одинаковые. Средние пользовательские рейтинги жанров Action и Sports разные. Причем средний рейтинг для жанра Action выше."
   ]
  },
  {
   "cell_type": "markdown",
   "metadata": {},
   "source": [
    "## Общий вывод <a id='step6'></a>"
   ]
  },
  {
   "cell_type": "markdown",
   "metadata": {},
   "source": [
    "Провели анализ продаж игр и выяснили закономерности, которые помогут определить успех игры. Перед делом провели предварительную обработку данных, перемеиновали столбцы, заменили типы данных на ожидаемые и разобрались с пропусками. После этого преступили к анализу.\n",
    "<br> В ходе исследовательского анализа данных был выявлен срок жизни приставок и выбран актуальный для прогноза период. Работаем с данными с 2013 года, так как в этот год вышли приставки нового поколения, и это дает возможность рассомтреть и затухающие приставки и новых игроков рынка. Наиболее актуальныыми приставками в 2017 году будут PS4, Xbox ONE и 3DS. У всех этих платформ выявлена средняя взаимосвязь между рейтингом критиков и продажей игр. Низкая связь с пользовательским рейтинком есть только у продаж 3DS. Наблюдаются различные предпостения в приставках у людей из разных стран. PS4 одинаково хорошо продается и в США и Европе, XOne больше покупают в США, а 3DS а Японии.\n",
    "<br> Action, Shooter и RPG являются сами популярными жанрами. Опять же, в разных странах предпочтения различаются. В Европе лучше продаются Экшены, в США Шутеры а в Японии RPG. Несмтря на такое предпочтение, американский рынок лидирует по продажам и в сегменте Экшена и Шутеров. Популярность в Европе и США пользуется и жанр Sports, преимущесвено выходящий на PS4 и Xbox.\n",
    "<br> Найдена связь между рейтингом игр и продажами в разных странах. Но эта связь скорее объясняется тем, что игры одного жанра имеют похожий рейтинг.\n",
    "<br> В ходе исследования рынка проверили две гипотезы. Первая, что средние пользовательские рейтинги платформ Xbox One и PC одинаковые. Вторая, что средние пользовательские рейтинги жанров Action и Sports разные. Обе гипотезы подтвердились.\n",
    "<br> Наиболее успешными играми будут Экшены и Шутеры для PS4 и XOne, а также будут довольно популярными RPG для всех платформ. На Европейском и Американском рынке также популярными остануться спортивные игры для PS4 и XOne."
   ]
  }
 ],
 "metadata": {
  "kernelspec": {
   "display_name": "Python 3",
   "language": "python",
   "name": "python3"
  },
  "language_info": {
   "codemirror_mode": {
    "name": "ipython",
    "version": 3
   },
   "file_extension": ".py",
   "mimetype": "text/x-python",
   "name": "python",
   "nbconvert_exporter": "python",
   "pygments_lexer": "ipython3",
   "version": "3.8.3"
  }
 },
 "nbformat": 4,
 "nbformat_minor": 2
}
